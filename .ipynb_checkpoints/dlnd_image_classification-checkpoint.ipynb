{
 "cells": [
  {
   "cell_type": "markdown",
   "metadata": {
    "collapsed": true
   },
   "source": [
    "# Image Classification\n",
    "In this project, you'll classify images from the [CIFAR-10 dataset](https://www.cs.toronto.edu/~kriz/cifar.html).  The dataset consists of airplanes, dogs, cats, and other objects. You'll preprocess the images, then train a convolutional neural network on all the samples. The images need to be normalized and the labels need to be one-hot encoded.  You'll get to apply what you learned and build a convolutional, max pooling, dropout, and fully connected layers.  At the end, you'll get to see your neural network's predictions on the sample images.\n",
    "## Get the Data\n",
    "Run the following cell to download the [CIFAR-10 dataset for python](https://www.cs.toronto.edu/~kriz/cifar-10-python.tar.gz)."
   ]
  },
  {
   "cell_type": "code",
   "execution_count": 1,
   "metadata": {
    "collapsed": false
   },
   "outputs": [
    {
     "name": "stdout",
     "output_type": "stream",
     "text": [
      "All files found!\n"
     ]
    }
   ],
   "source": [
    "\"\"\"\n",
    "DON'T MODIFY ANYTHING IN THIS CELL THAT IS BELOW THIS LINE\n",
    "\"\"\"\n",
    "from urllib.request import urlretrieve\n",
    "from os.path import isfile, isdir\n",
    "from tqdm import tqdm\n",
    "import problem_unittests as tests\n",
    "import tarfile\n",
    "\n",
    "cifar10_dataset_folder_path = 'cifar-10-batches-py'\n",
    "\n",
    "class DLProgress(tqdm):\n",
    "    last_block = 0\n",
    "\n",
    "    def hook(self, block_num=1, block_size=1, total_size=None):\n",
    "        self.total = total_size\n",
    "        self.update((block_num - self.last_block) * block_size)\n",
    "        self.last_block = block_num\n",
    "\n",
    "if not isfile('cifar-10-python.tar.gz'):\n",
    "    with DLProgress(unit='B', unit_scale=True, miniters=1, desc='CIFAR-10 Dataset') as pbar:\n",
    "        urlretrieve(\n",
    "            'https://www.cs.toronto.edu/~kriz/cifar-10-python.tar.gz',\n",
    "            'cifar-10-python.tar.gz',\n",
    "            pbar.hook)\n",
    "\n",
    "if not isdir(cifar10_dataset_folder_path):\n",
    "    with tarfile.open('cifar-10-python.tar.gz') as tar:\n",
    "        tar.extractall()\n",
    "        tar.close()\n",
    "\n",
    "\n",
    "tests.test_folder_path(cifar10_dataset_folder_path)"
   ]
  },
  {
   "cell_type": "markdown",
   "metadata": {},
   "source": [
    "## Explore the Data\n",
    "The dataset is broken into batches to prevent your machine from running out of memory.  The CIFAR-10 dataset consists of 5 batches, named `data_batch_1`, `data_batch_2`, etc.. Each batch contains the labels and images that are one of the following:\n",
    "* airplane\n",
    "* automobile\n",
    "* bird\n",
    "* cat\n",
    "* deer\n",
    "* dog\n",
    "* frog\n",
    "* horse\n",
    "* ship\n",
    "* truck\n",
    "\n",
    "Understanding a dataset is part of making predictions on the data.  Play around with the code cell below by changing the `batch_id` and `sample_id`. The `batch_id` is the id for a batch (1-5). The `sample_id` is the id for a image and label pair in the batch.\n",
    "\n",
    "Ask yourself \"What are all possible labels?\", \"What is the range of values for the image data?\", \"Are the labels in order or random?\".  Answers to questions like these will help you preprocess the data and end up with better predictions."
   ]
  },
  {
   "cell_type": "code",
   "execution_count": 2,
   "metadata": {
    "collapsed": false
   },
   "outputs": [
    {
     "name": "stdout",
     "output_type": "stream",
     "text": [
      "\n",
      "Stats of batch 1:\n",
      "Samples: 10000\n",
      "Label Counts: {0: 1005, 1: 974, 2: 1032, 3: 1016, 4: 999, 5: 937, 6: 1030, 7: 1001, 8: 1025, 9: 981}\n",
      "First 20 Labels: [6, 9, 9, 4, 1, 1, 2, 7, 8, 3, 4, 7, 7, 2, 9, 9, 9, 3, 2, 6]\n",
      "\n",
      "Example of Image 5:\n",
      "Image - Min Value: 0 Max Value: 252\n",
      "Image - Shape: (32, 32, 3)\n",
      "Label - Label Id: 1 Name: automobile\n"
     ]
    },
    {
     "data": {
      "image/png": "[encoded data removed]",
      "text/plain": [
       "<matplotlib.figure.Figure at 0x16c6e694ef0>"
      ]
     },
     "metadata": {
      "image/png": {
       "height": 250,
       "width": 253
      }
     },
     "output_type": "display_data"
    }
   ],
   "source": [
    "%matplotlib inline\n",
    "%config InlineBackend.figure_format = 'retina'\n",
    "\n",
    "import helper\n",
    "import numpy as np\n",
    "\n",
    "# Explore the dataset\n",
    "batch_id = 1\n",
    "sample_id = 5\n",
    "helper.display_stats(cifar10_dataset_folder_path, batch_id, sample_id)"
   ]
  },
  {
   "cell_type": "markdown",
   "metadata": {},
   "source": [
    "## Implement Preprocess Functions\n",
    "### Normalize\n",
    "In the cell below, implement the `normalize` function to take in image data, `x`, and return it as a normalized Numpy array. The values should be in the range of 0 to 1, inclusive.  The return object should be the same shape as `x`."
   ]
  },
  {
   "cell_type": "code",
   "execution_count": 3,
   "metadata": {
    "collapsed": false
   },
   "outputs": [
    {
     "name": "stdout",
     "output_type": "stream",
     "text": [
      "Tests Passed\n"
     ]
    }
   ],
   "source": [
    "def normalize(x):\n",
    "    \"\"\"\n",
    "    Normalize a list of sample image data in the range of 0 to 1\n",
    "    : x: List of image data.  The image shape is (32, 32, 3)\n",
    "    : return: Numpy array of normalize data\n",
    "    \"\"\"\n",
    "    #Optimize colors for black RGB 0 = 1 RGB 255 = 0\n",
    "    #RGB(0,0,0) = Black\n",
    "    #RGB(255,255,255) = White\n",
    "    \n",
    "    divisor = lambda n: (255 - n) / 255\n",
    "    return np.array([divisor(xi) for xi in x])\n",
    "\n",
    "\n",
    "\"\"\"\n",
    "DON'T MODIFY ANYTHING IN THIS CELL THAT IS BELOW THIS LINE\n",
    "\"\"\"\n",
    "tests.test_normalize(normalize)"
   ]
  },
  {
   "cell_type": "markdown",
   "metadata": {},
   "source": [
    "### One-hot encode\n",
    "Just like the previous code cell, you'll be implementing a function for preprocessing.  This time, you'll implement the `one_hot_encode` function. The input, `x`, are a list of labels.  Implement the function to return the list of labels as One-Hot encoded Numpy array.  The possible values for labels are 0 to 9. The one-hot encoding function should return the same encoding for each value between each call to `one_hot_encode`.  Make sure to save the map of encodings outside the function.\n",
    "\n",
    "Hint: Don't reinvent the wheel."
   ]
  },
  {
   "cell_type": "code",
   "execution_count": 4,
   "metadata": {
    "collapsed": false
   },
   "outputs": [
    {
     "name": "stdout",
     "output_type": "stream",
     "text": [
      "Tests Passed\n"
     ]
    }
   ],
   "source": [
    "def one_hot_encode(x):\n",
    "    \"\"\"\n",
    "    One hot encode a list of sample labels. Return a one-hot encoded vector for each label.\n",
    "    : x: List of sample Labels\n",
    "    : return: Numpy array of one-hot encoded labels\n",
    "    \"\"\"\n",
    "    #Create vectors representing the numbers 0 -> 9 using one hot encoding\n",
    "    label_size = 10\n",
    "    ishot = lambda x, y: 1 if x == y else 0\n",
    "    ishot_vector = lambda l: np.array([ishot(l, i) for i in range(label_size)])\n",
    "\n",
    "    return np.array([ishot_vector(xi) for xi in x])\n",
    "\n",
    "\"\"\"\n",
    "DON'T MODIFY ANYTHING IN THIS CELL THAT IS BELOW THIS LINE\n",
    "\"\"\"\n",
    "tests.test_one_hot_encode(one_hot_encode)"
   ]
  },
  {
   "cell_type": "markdown",
   "metadata": {},
   "source": [
    "### Randomize Data\n",
    "As you saw from exploring the data above, the order of the samples are randomized.  It doesn't hurt to randomize it again, but you don't need to for this dataset."
   ]
  },
  {
   "cell_type": "markdown",
   "metadata": {},
   "source": [
    "## Preprocess all the data and save it\n",
    "Running the code cell below will preprocess all the CIFAR-10 data and save it to file. The code below also uses 10% of the training data for validation."
   ]
  },
  {
   "cell_type": "code",
   "execution_count": 5,
   "metadata": {
    "collapsed": false
   },
   "outputs": [],
   "source": [
    "\"\"\"\n",
    "DON'T MODIFY ANYTHING IN THIS CELL\n",
    "\"\"\"\n",
    "# Preprocess Training, Validation, and Testing Data\n",
    "helper.preprocess_and_save_data(cifar10_dataset_folder_path, normalize, one_hot_encode)"
   ]
  },
  {
   "cell_type": "markdown",
   "metadata": {},
   "source": [
    "# Check Point\n",
    "This is your first checkpoint.  If you ever decide to come back to this notebook or have to restart the notebook, you can start from here.  The preprocessed data has been saved to disk."
   ]
  },
  {
   "cell_type": "code",
   "execution_count": 6,
   "metadata": {
    "collapsed": true
   },
   "outputs": [],
   "source": [
    "\"\"\"\n",
    "DON'T MODIFY ANYTHING IN THIS CELL\n",
    "\"\"\"\n",
    "import pickle\n",
    "import problem_unittests as tests\n",
    "import helper\n",
    "\n",
    "# Load the Preprocessed Validation data\n",
    "valid_features, valid_labels = pickle.load(open('preprocess_validation.p', mode='rb'))"
   ]
  },
  {
   "cell_type": "markdown",
   "metadata": {},
   "source": [
    "## Build the network\n",
    "For the neural network, you'll build each layer into a function.  Most of the code you've seen has been outside of functions. To test your code more thoroughly, we require that you put each layer in a function.  This allows us to give you better feedback and test for simple mistakes using our unittests before you submit your project.\n",
    "\n",
    ">**Note:** If you're finding it hard to dedicate enough time for this course each week, we've provided a small shortcut to this part of the project. In the next couple of problems, you'll have the option to use classes from the [TensorFlow Layers](https://www.tensorflow.org/api_docs/python/tf/layers) or [TensorFlow Layers (contrib)](https://www.tensorflow.org/api_guides/python/contrib.layers) packages to build each layer, except the layers you build in the \"Convolutional and Max Pooling Layer\" section.  TF Layers is similar to Keras's and TFLearn's abstraction to layers, so it's easy to pickup.\n",
    "\n",
    ">However, if you would like to get the most out of this course, try to solve all the problems _without_ using anything from the TF Layers packages. You **can** still use classes from other packages that happen to have the same name as ones you find in TF Layers! For example, instead of using the TF Layers version of the `conv2d` class, [tf.layers.conv2d](https://www.tensorflow.org/api_docs/python/tf/layers/conv2d), you would want to use the TF Neural Network version of `conv2d`, [tf.nn.conv2d](https://www.tensorflow.org/api_docs/python/tf/nn/conv2d). \n",
    "\n",
    "Let's begin!\n",
    "\n",
    "### Input\n",
    "The neural network needs to read the image data, one-hot encoded labels, and dropout keep probability. Implement the following functions\n",
    "* Implement `neural_net_image_input`\n",
    " * Return a [TF Placeholder](https://www.tensorflow.org/api_docs/python/tf/placeholder)\n",
    " * Set the shape using `image_shape` with batch size set to `None`.\n",
    " * Name the TensorFlow placeholder \"x\" using the TensorFlow `name` parameter in the [TF Placeholder](https://www.tensorflow.org/api_docs/python/tf/placeholder).\n",
    "* Implement `neural_net_label_input`\n",
    " * Return a [TF Placeholder](https://www.tensorflow.org/api_docs/python/tf/placeholder)\n",
    " * Set the shape using `n_classes` with batch size set to `None`.\n",
    " * Name the TensorFlow placeholder \"y\" using the TensorFlow `name` parameter in the [TF Placeholder](https://www.tensorflow.org/api_docs/python/tf/placeholder).\n",
    "* Implement `neural_net_keep_prob_input`\n",
    " * Return a [TF Placeholder](https://www.tensorflow.org/api_docs/python/tf/placeholder) for dropout keep probability.\n",
    " * Name the TensorFlow placeholder \"keep_prob\" using the TensorFlow `name` parameter in the [TF Placeholder](https://www.tensorflow.org/api_docs/python/tf/placeholder).\n",
    "\n",
    "These names will be used at the end of the project to load your saved model.\n",
    "\n",
    "Note: `None` for shapes in TensorFlow allow for a dynamic size."
   ]
  },
  {
   "cell_type": "code",
   "execution_count": 7,
   "metadata": {
    "collapsed": false
   },
   "outputs": [
    {
     "name": "stdout",
     "output_type": "stream",
     "text": [
      "Image Input Tests Passed.\n",
      "Label Input Tests Passed.\n",
      "Keep Prob Tests Passed.\n"
     ]
    }
   ],
   "source": [
    "import tensorflow as tf\n",
    "\n",
    "def neural_net_image_input(image_shape):\n",
    "    \"\"\"\n",
    "    Return a Tensor for a bach of image input\n",
    "    : image_shape: Shape of the images\n",
    "    : return: Tensor for image input.\n",
    "    \"\"\"\n",
    "    return tf.placeholder(tf.float32, \n",
    "                            shape=[None, image_shape[0], image_shape[1], image_shape[2]], \n",
    "                            name='x')\n",
    "\n",
    "\n",
    "def neural_net_label_input(n_classes):\n",
    "    \"\"\"\n",
    "    Return a Tensor for a batch of label input\n",
    "    : n_classes: Number of classes\n",
    "    : return: Tensor for label input.\n",
    "    \"\"\"\n",
    "    return tf.placeholder(tf.float32, \n",
    "                            shape=[None, n_classes], \n",
    "                            name='y')\n",
    "\n",
    "\n",
    "def neural_net_keep_prob_input():\n",
    "    \"\"\"\n",
    "    Return a Tensor for keep probability\n",
    "    : return: Tensor for keep probability.\n",
    "    \"\"\"\n",
    "    # TODO: Implement Function\n",
    "    return tf.placeholder(tf.float32,\n",
    "                            shape=None,\n",
    "                            name='keep_prob')\n",
    "\n",
    "\n",
    "\"\"\"\n",
    "DON'T MODIFY ANYTHING IN THIS CELL THAT IS BELOW THIS LINE\n",
    "\"\"\"\n",
    "tf.reset_default_graph()\n",
    "tests.test_nn_image_inputs(neural_net_image_input)\n",
    "tests.test_nn_label_inputs(neural_net_label_input)\n",
    "tests.test_nn_keep_prob_inputs(neural_net_keep_prob_input)"
   ]
  },
  {
   "cell_type": "markdown",
   "metadata": {},
   "source": [
    "### Convolution and Max Pooling Layer\n",
    "Convolution layers have a lot of success with images. For this code cell, you should implement the function `conv2d_maxpool` to apply convolution then max pooling:\n",
    "* Create the weight and bias using `conv_ksize`, `conv_num_outputs` and the shape of `x_tensor`.\n",
    "* Apply a convolution to `x_tensor` using weight and `conv_strides`.\n",
    " * We recommend you use same padding, but you're welcome to use any padding.\n",
    "* Add bias\n",
    "* Add a nonlinear activation to the convolution.\n",
    "* Apply Max Pooling using `pool_ksize` and `pool_strides`.\n",
    " * We recommend you use same padding, but you're welcome to use any padding.\n",
    "\n",
    "**Note:** You **can't** use [TensorFlow Layers](https://www.tensorflow.org/api_docs/python/tf/layers) or [TensorFlow Layers (contrib)](https://www.tensorflow.org/api_guides/python/contrib.layers) for **this** layer, but you can still use TensorFlow's [Neural Network](https://www.tensorflow.org/api_docs/python/tf/nn) package. You may still use the shortcut option for all the **other** layers."
   ]
  },
  {
   "cell_type": "code",
   "execution_count": 8,
   "metadata": {
    "collapsed": true
   },
   "outputs": [],
   "source": [
    "def weight_var(shape):\n",
    "    #Initialize Weight Variable, with stddev to prevent dead neurons\n",
    "    return tf.Variable(tf.truncated_normal(shape, stddev=0.05))\n",
    "\n",
    "def bias_var(num_outputs):\n",
    "    #Initalize Bias Variable with 0.1 to prevent dead neurons\n",
    "    return tf.Variable(tf.constant(0.05, shape=tf.TensorShape(num_outputs)))"
   ]
  },
  {
   "cell_type": "markdown",
   "metadata": {},
   "source": [
    "### Flatten Layer\n",
    "Implement the `flatten` function to change the dimension of `x_tensor` from a 4-D tensor to a 2-D tensor.  The output should be the shape (*Batch Size*, *Flattened Image Size*). Shortcut option: you can use classes from the [TensorFlow Layers](https://www.tensorflow.org/api_docs/python/tf/layers) or [TensorFlow Layers (contrib)](https://www.tensorflow.org/api_guides/python/contrib.layers) packages for this layer. For more of a challenge, only use other TensorFlow packages."
   ]
  },
  {
   "cell_type": "code",
   "execution_count": 9,
   "metadata": {
    "collapsed": false
   },
   "outputs": [
    {
     "name": "stdout",
     "output_type": "stream",
     "text": [
      "Tests Passed\n"
     ]
    }
   ],
   "source": [
    "def conv2d_maxpool(x_tensor, conv_num_outputs, conv_ksize, conv_strides, pool_ksize, pool_strides):\n",
    "    \"\"\"\n",
    "    Apply convolution then max pooling to x_tensor\n",
    "    :param x_tensor: TensorFlow Tensor\n",
    "    :param conv_num_outputs: Number of outputs for the convolutional layer\n",
    "    :param conv_ksize: kernal size 2-D Tuple for the convolutional layer\n",
    "    :param conv_strides: Stride 2-D Tuple for convolution\n",
    "    :param pool_ksize: kernal size 2-D Tuple for pool\n",
    "    :param pool_strides: Stride 2-D Tuple for pool\n",
    "    : return: A tensor that represents convolution and max pooling of x_tensor\n",
    "    \"\"\"\n",
    "    #Get Tensor Shape\n",
    "    x_tensor_shape = x_tensor.get_shape().as_list()\n",
    "    #Generate Weight based off of ksize, tensor depth, and conv_num_outputs\n",
    "    weight = weight_var((conv_ksize[0], conv_ksize[1], x_tensor_shape[3], conv_num_outputs))\n",
    "    #Generate Bias based off of conv_num_outputs\n",
    "    bias = bias_var(conv_num_outputs)\n",
    "    #Create Conv Layer From x_tensor, add Bias\n",
    "    conv_layer = tf.nn.conv2d(x_tensor, weight, strides=[1, conv_strides[0], conv_strides[1], 1], padding='SAME') + bias\n",
    "    #Apply ReLU Activation Function\n",
    "    conv_layer = tf.nn.relu(conv_layer)\n",
    "    #Return Max Pooling\n",
    "    return tf.nn.max_pool(conv_layer,\n",
    "                            ksize=[1, pool_ksize[0], pool_ksize[1], 1],\n",
    "                            strides=[1, pool_strides[0], pool_strides[1], 1],\n",
    "                            padding='SAME')\n",
    "\n",
    "\n",
    "\"\"\"\n",
    "DON'T MODIFY ANYTHING IN THIS CELL THAT IS BELOW THIS LINE\n",
    "\"\"\"\n",
    "tests.test_con_pool(conv2d_maxpool)"
   ]
  },
  {
   "cell_type": "code",
   "execution_count": 10,
   "metadata": {
    "collapsed": false
   },
   "outputs": [
    {
     "name": "stdout",
     "output_type": "stream",
     "text": [
      "Tests Passed\n"
     ]
    }
   ],
   "source": [
    "def flatten(x_tensor):\n",
    "    \"\"\"\n",
    "    Flatten x_tensor to (Batch Size, Flattened Image Size)\n",
    "    : x_tensor: A tensor of size (Batch Size, ...), where ... are the image dimensions.\n",
    "    : return: A tensor of size (Batch Size, Flattened Image Size).\n",
    "    \"\"\"\n",
    "    #Get Tensor Shape\n",
    "    shape = x_tensor.get_shape().as_list()\n",
    "    #Flatten\n",
    "    return tf.reshape(x_tensor, [-1,shape[1]*shape[2]*shape[3]])\n",
    "\n",
    "\n",
    "\"\"\"\n",
    "DON'T MODIFY ANYTHING IN THIS CELL THAT IS BELOW THIS LINE\n",
    "\"\"\"\n",
    "tests.test_flatten(flatten)"
   ]
  },
  {
   "cell_type": "markdown",
   "metadata": {},
   "source": [
    "### Fully-Connected Layer\n",
    "Implement the `fully_conn` function to apply a fully connected layer to `x_tensor` with the shape (*Batch Size*, *num_outputs*). Shortcut option: you can use classes from the [TensorFlow Layers](https://www.tensorflow.org/api_docs/python/tf/layers) or [TensorFlow Layers (contrib)](https://www.tensorflow.org/api_guides/python/contrib.layers) packages for this layer. For more of a challenge, only use other TensorFlow packages."
   ]
  },
  {
   "cell_type": "code",
   "execution_count": 11,
   "metadata": {
    "collapsed": false
   },
   "outputs": [
    {
     "name": "stdout",
     "output_type": "stream",
     "text": [
      "Tests Passed\n"
     ]
    }
   ],
   "source": [
    "def fully_conn(x_tensor, num_outputs):\n",
    "    \"\"\"\n",
    "    Apply a fully connected layer to x_tensor using weight and bias\n",
    "    : x_tensor: A 2-D tensor where the first dimension is batch size.\n",
    "    : num_outputs: The number of output that the new tensor should be.\n",
    "    : return: A 2-D tensor where the second dimension is num_outputs.\n",
    "    \"\"\"\n",
    "    #Generate Weights\n",
    "    weights = weight_var((x_tensor.get_shape().as_list()[1], num_outputs))\n",
    "    #Generate Biases\n",
    "    biases = bias_var(num_outputs)\n",
    "    #Generate Fully Connected Layer, Matrix Multiply, Add, Activate using Relu\n",
    "    return tf.nn.relu(tf.matmul(x_tensor, weights) + biases)\n",
    "\n",
    "\"\"\"\n",
    "DON'T MODIFY ANYTHING IN THIS CELL THAT IS BELOW THIS LINE\n",
    "\"\"\"\n",
    "tests.test_fully_conn(fully_conn)"
   ]
  },
  {
   "cell_type": "markdown",
   "metadata": {},
   "source": [
    "### Output Layer\n",
    "Implement the `output` function to apply a fully connected layer to `x_tensor` with the shape (*Batch Size*, *num_outputs*). Shortcut option: you can use classes from the [TensorFlow Layers](https://www.tensorflow.org/api_docs/python/tf/layers) or [TensorFlow Layers (contrib)](https://www.tensorflow.org/api_guides/python/contrib.layers) packages for this layer. For more of a challenge, only use other TensorFlow packages.\n",
    "\n",
    "**Note:** Activation, softmax, or cross entropy should **not** be applied to this."
   ]
  },
  {
   "cell_type": "code",
   "execution_count": 12,
   "metadata": {
    "collapsed": false
   },
   "outputs": [
    {
     "name": "stdout",
     "output_type": "stream",
     "text": [
      "Tests Passed\n"
     ]
    }
   ],
   "source": [
    "def output(x_tensor, num_outputs):\n",
    "    \"\"\"\n",
    "    Apply a output layer to x_tensor using weight and bias\n",
    "    : x_tensor: A 2-D tensor where the first dimension is batch size.\n",
    "    : num_outputs: The number of output that the new tensor should be.\n",
    "    : return: A 2-D tensor where the second dimension is num_outputs.\n",
    "    \"\"\"\n",
    "    #Generate Weights\n",
    "    weights = weight_var((x_tensor.get_shape().as_list()[1], num_outputs))\n",
    "    #Generate Biases\n",
    "    biases = bias_var(num_outputs)\n",
    "    #Return output, matrix multiply add biases, no activation\n",
    "    return tf.matmul(x_tensor, weights) + biases\n",
    "\n",
    "\n",
    "\"\"\"\n",
    "DON'T MODIFY ANYTHING IN THIS CELL THAT IS BELOW THIS LINE\n",
    "\"\"\"\n",
    "tests.test_output(output)"
   ]
  },
  {
   "cell_type": "markdown",
   "metadata": {},
   "source": [
    "### Create Convolutional Model\n",
    "Implement the function `conv_net` to create a convolutional neural network model. The function takes in a batch of images, `x`, and outputs logits.  Use the layers you created above to create this model:\n",
    "\n",
    "* Apply 1, 2, or 3 Convolution and Max Pool layers\n",
    "* Apply a Flatten Layer\n",
    "* Apply 1, 2, or 3 Fully Connected Layers\n",
    "* Apply an Output Layer\n",
    "* Return the output\n",
    "* Apply [TensorFlow's Dropout](https://www.tensorflow.org/api_docs/python/tf/nn/dropout) to one or more layers in the model using `keep_prob`. "
   ]
  },
  {
   "cell_type": "code",
   "execution_count": 13,
   "metadata": {
    "collapsed": false
   },
   "outputs": [
    {
     "name": "stdout",
     "output_type": "stream",
     "text": [
      "Neural Network Built!\n"
     ]
    }
   ],
   "source": [
    "def conv_net(x, keep_prob):\n",
    "    \"\"\"\n",
    "    Create a convolutional neural network model\n",
    "    : x: Placeholder tensor that holds image data.\n",
    "    : keep_prob: Placeholder tensor that hold dropout keep probability.\n",
    "    : return: Tensor that represents logits\n",
    "    \"\"\"\n",
    "    # TODO: Apply 1, 2, or 3 Convolution and Max Pool layers\n",
    "    #    Play around with different number of outputs, kernel size and stride\n",
    "    # Function Definition from Above:\n",
    "    #    conv2d_maxpool(x_tensor, conv_num_outputs, conv_ksize, conv_strides, pool_ksize, pool_strides)\n",
    "    \n",
    "    #Set Starting Values\n",
    "    conv_ksize = [5,5]\n",
    "    conv_strides = [1,1]\n",
    "    pool_ksize = [2,2]\n",
    "    pool_strides = [2,2]\n",
    "    num_outputs = 10\n",
    "    \n",
    "    #Generate First Convolutional Layer using 32 Size\n",
    "    conv1 = conv2d_maxpool(x, 32, conv_ksize, conv_strides, pool_ksize, pool_strides)\n",
    "    \n",
    "    #Generate Second Convolutional Layer using 64 Size\n",
    "    conv2 = conv2d_maxpool(conv1, 64, conv_ksize, conv_strides, pool_ksize, pool_strides)\n",
    "    \n",
    "    #Generate Third Convolutional Layer using 128 Size\n",
    "    conv3 = conv2d_maxpool(conv2, 128, conv_ksize, conv_strides, pool_ksize, pool_strides)\n",
    "    \n",
    "    #Flatten, Prep for Fully Connected Layer\n",
    "    flat1 = flatten(conv2)\n",
    "    \n",
    "    #Generate Fully Connected Layer\n",
    "    fc1 = fully_conn(flat1, 1664)\n",
    "    \n",
    "    #Apply Dropout To Reduce Overfitting\n",
    "    do1 = tf.nn.dropout(fc1, keep_prob)\n",
    "    \n",
    "    #Return Output\n",
    "    return output(do1, num_outputs)\n",
    "\n",
    "\n",
    "\"\"\"\n",
    "DON'T MODIFY ANYTHING IN THIS CELL THAT IS BELOW THIS LINE\n",
    "\"\"\"\n",
    "\n",
    "##############################\n",
    "## Build the Neural Network ##\n",
    "##############################\n",
    "\n",
    "# Remove previous weights, bias, inputs, etc..\n",
    "tf.reset_default_graph()\n",
    "\n",
    "# Inputs\n",
    "x = neural_net_image_input((32, 32, 3))\n",
    "y = neural_net_label_input(10)\n",
    "keep_prob = neural_net_keep_prob_input()\n",
    "\n",
    "# Model\n",
    "logits = conv_net(x, keep_prob)\n",
    "\n",
    "# Name logits Tensor, so that is can be loaded from disk after training\n",
    "logits = tf.identity(logits, name='logits')\n",
    "\n",
    "# Loss and Optimizer\n",
    "cost = tf.reduce_mean(tf.nn.softmax_cross_entropy_with_logits(logits=logits, labels=y))\n",
    "optimizer = tf.train.AdamOptimizer().minimize(cost)\n",
    "\n",
    "# Accuracy\n",
    "correct_pred = tf.equal(tf.argmax(logits, 1), tf.argmax(y, 1))\n",
    "accuracy = tf.reduce_mean(tf.cast(correct_pred, tf.float32), name='accuracy')\n",
    "\n",
    "tests.test_conv_net(conv_net)"
   ]
  },
  {
   "cell_type": "markdown",
   "metadata": {},
   "source": [
    "## Train the Neural Network\n",
    "### Single Optimization\n",
    "Implement the function `train_neural_network` to do a single optimization.  The optimization should use `optimizer` to optimize in `session` with a `feed_dict` of the following:\n",
    "* `x` for image input\n",
    "* `y` for labels\n",
    "* `keep_prob` for keep probability for dropout\n",
    "\n",
    "This function will be called for each batch, so `tf.global_variables_initializer()` has already been called.\n",
    "\n",
    "Note: Nothing needs to be returned. This function is only optimizing the neural network."
   ]
  },
  {
   "cell_type": "code",
   "execution_count": 14,
   "metadata": {
    "collapsed": false
   },
   "outputs": [
    {
     "name": "stdout",
     "output_type": "stream",
     "text": [
      "Tests Passed\n"
     ]
    }
   ],
   "source": [
    "def train_neural_network(session, optimizer, keep_probability, feature_batch, label_batch):\n",
    "    \"\"\"\n",
    "    Optimize the session on a batch of images and labels\n",
    "    : session: Current TensorFlow session\n",
    "    : optimizer: TensorFlow optimizer function\n",
    "    : keep_probability: keep probability\n",
    "    : feature_batch: Batch of Numpy image data\n",
    "    : label_batch: Batch of Numpy label data\n",
    "    \"\"\"\n",
    "    with session.as_default() as sess:\n",
    "        #Run Optimizer\n",
    "        sess.run(optimizer, feed_dict={x: feature_batch, y: label_batch, keep_prob: keep_probability})\n",
    "    pass\n",
    "\n",
    "\n",
    "\"\"\"\n",
    "DON'T MODIFY ANYTHING IN THIS CELL THAT IS BELOW THIS LINE\n",
    "\"\"\"\n",
    "tests.test_train_nn(train_neural_network)"
   ]
  },
  {
   "cell_type": "markdown",
   "metadata": {},
   "source": [
    "### Show Stats\n",
    "Implement the function `print_stats` to print loss and validation accuracy.  Use the global variables `valid_features` and `valid_labels` to calculate validation accuracy.  Use a keep probability of `1.0` to calculate the loss and validation accuracy."
   ]
  },
  {
   "cell_type": "code",
   "execution_count": 15,
   "metadata": {
    "collapsed": false
   },
   "outputs": [],
   "source": [
    "def print_stats(session, feature_batch, label_batch, cost, accuracy):\n",
    "    \"\"\"\n",
    "    Print information about loss and validation accuracy\n",
    "    : session: Current TensorFlow session\n",
    "    : feature_batch: Batch of Numpy image data\n",
    "    : label_batch: Batch of Numpy label data\n",
    "    : cost: TensorFlow cost function\n",
    "    : accuracy: TensorFlow accuracy function\n",
    "    \"\"\"\n",
    "    #Print & Calculate Accuracy & Loss\n",
    "    print(\"Valid Acc:\", \n",
    "          accuracy.eval(feed_dict={x: valid_features, y: valid_labels, keep_prob: 1.0}),\n",
    "          \"Step Acc:\", \n",
    "          accuracy.eval(feed_dict={x: feature_batch, y: label_batch, keep_prob: 1.0}),\n",
    "          \"Loss:\", \n",
    "          cost.eval(feed_dict={x: feature_batch, y: label_batch, keep_prob: 1.0}))\n",
    "    \n",
    "    pass"
   ]
  },
  {
   "cell_type": "markdown",
   "metadata": {},
   "source": [
    "### Hyperparameters\n",
    "Tune the following parameters:\n",
    "* Set `epochs` to the number of iterations until the network stops learning or start overfitting\n",
    "* Set `batch_size` to the highest number that your machine has memory for.  Most people set them to common sizes of memory:\n",
    " * 64\n",
    " * 128\n",
    " * 256\n",
    " * ...\n",
    "* Set `keep_probability` to the probability of keeping a node using dropout"
   ]
  },
  {
   "cell_type": "code",
   "execution_count": 16,
   "metadata": {
    "collapsed": true
   },
   "outputs": [],
   "source": [
    "# TODO: Tune Parameters\n",
    "epochs = 70\n",
    "batch_size = 1024\n",
    "keep_probability = 0.5"
   ]
  },
  {
   "cell_type": "markdown",
   "metadata": {},
   "source": [
    "### Train on a Single CIFAR-10 Batch\n",
    "Instead of training the neural network on all the CIFAR-10 batches of data, let's use a single batch. This should save time while you iterate on the model to get a better accuracy.  Once the final validation accuracy is 50% or greater, run the model on all the data in the next section."
   ]
  },
  {
   "cell_type": "code",
   "execution_count": 17,
   "metadata": {
    "collapsed": false
   },
   "outputs": [
    {
     "name": "stdout",
     "output_type": "stream",
     "text": [
      "Checking the Training on a Single Batch...\n",
      "Epoch  1, CIFAR-10 Batch 1:  Valid Acc: 0.1038 Step Acc: 0.107673 Loss: 2.25793\n",
      "Epoch  2, CIFAR-10 Batch 1:  Valid Acc: 0.2734 Step Acc: 0.268564 Loss: 2.09822\n",
      "Epoch  3, CIFAR-10 Batch 1:  Valid Acc: 0.3226 Step Acc: 0.34901 Loss: 1.93828\n",
      "Epoch  4, CIFAR-10 Batch 1:  Valid Acc: 0.3702 Step Acc: 0.378713 Loss: 1.79882\n",
      "Epoch  5, CIFAR-10 Batch 1:  Valid Acc: 0.3864 Step Acc: 0.418317 Loss: 1.69662\n",
      "Epoch  6, CIFAR-10 Batch 1:  Valid Acc: 0.3934 Step Acc: 0.404703 Loss: 1.64644\n",
      "Epoch  7, CIFAR-10 Batch 1:  Valid Acc: 0.4354 Step Acc: 0.449257 Loss: 1.5353\n",
      "Epoch  8, CIFAR-10 Batch 1:  Valid Acc: 0.4506 Step Acc: 0.488861 Loss: 1.46278\n",
      "Epoch  9, CIFAR-10 Batch 1:  Valid Acc: 0.4652 Step Acc: 0.518564 Loss: 1.41844\n",
      "Epoch 10, CIFAR-10 Batch 1:  Valid Acc: 0.4684 Step Acc: 0.533416 Loss: 1.36278\n",
      "Epoch 11, CIFAR-10 Batch 1:  Valid Acc: 0.4766 Step Acc: 0.539604 Loss: 1.33096\n",
      "Epoch 12, CIFAR-10 Batch 1:  Valid Acc: 0.4908 Step Acc: 0.556931 Loss: 1.27181\n",
      "Epoch 13, CIFAR-10 Batch 1:  Valid Acc: 0.4898 Step Acc: 0.564356 Loss: 1.21954\n",
      "Epoch 14, CIFAR-10 Batch 1:  Valid Acc: 0.4946 Step Acc: 0.596535 Loss: 1.17196\n",
      "Epoch 15, CIFAR-10 Batch 1:  Valid Acc: 0.503 Step Acc: 0.600248 Loss: 1.13979\n",
      "Epoch 16, CIFAR-10 Batch 1:  Valid Acc: 0.5094 Step Acc: 0.637376 Loss: 1.07998\n",
      "Epoch 17, CIFAR-10 Batch 1:  Valid Acc: 0.5108 Step Acc: 0.649752 Loss: 1.03908\n",
      "Epoch 18, CIFAR-10 Batch 1:  Valid Acc: 0.5158 Step Acc: 0.668317 Loss: 1.003\n",
      "Epoch 19, CIFAR-10 Batch 1:  Valid Acc: 0.5268 Step Acc: 0.694307 Loss: 0.955426\n",
      "Epoch 20, CIFAR-10 Batch 1:  Valid Acc: 0.536 Step Acc: 0.722772 Loss: 0.880637\n",
      "Epoch 21, CIFAR-10 Batch 1:  Valid Acc: 0.537 Step Acc: 0.743812 Loss: 0.839123\n",
      "Epoch 22, CIFAR-10 Batch 1:  Valid Acc: 0.5368 Step Acc: 0.743812 Loss: 0.808393\n",
      "Epoch 23, CIFAR-10 Batch 1:  Valid Acc: 0.549 Step Acc: 0.756188 Loss: 0.769088\n",
      "Epoch 24, CIFAR-10 Batch 1:  Valid Acc: 0.5474 Step Acc: 0.787129 Loss: 0.711068\n",
      "Epoch 25, CIFAR-10 Batch 1:  Valid Acc: 0.551 Step Acc: 0.787129 Loss: 0.68422\n",
      "Epoch 26, CIFAR-10 Batch 1:  Valid Acc: 0.554 Step Acc: 0.818069 Loss: 0.632783\n",
      "Epoch 27, CIFAR-10 Batch 1:  Valid Acc: 0.5582 Step Acc: 0.841584 Loss: 0.581395\n",
      "Epoch 28, CIFAR-10 Batch 1:  Valid Acc: 0.558 Step Acc: 0.852723 Loss: 0.554641\n",
      "Epoch 29, CIFAR-10 Batch 1:  Valid Acc: 0.5544 Step Acc: 0.860148 Loss: 0.524461\n",
      "Epoch 30, CIFAR-10 Batch 1:  Valid Acc: 0.554 Step Acc: 0.876238 Loss: 0.490075\n",
      "Epoch 31, CIFAR-10 Batch 1:  Valid Acc: 0.5596 Step Acc: 0.881188 Loss: 0.446047\n",
      "Epoch 32, CIFAR-10 Batch 1:  Valid Acc: 0.5554 Step Acc: 0.89604 Loss: 0.426101\n",
      "Epoch 33, CIFAR-10 Batch 1:  Valid Acc: 0.55 Step Acc: 0.904703 Loss: 0.396977\n",
      "Epoch 34, CIFAR-10 Batch 1:  Valid Acc: 0.5138 Step Acc: 0.872525 Loss: 0.463871\n",
      "Epoch 35, CIFAR-10 Batch 1:  Valid Acc: 0.537 Step Acc: 0.877475 Loss: 0.439581\n",
      "Epoch 36, CIFAR-10 Batch 1:  Valid Acc: 0.549 Step Acc: 0.905941 Loss: 0.369245\n",
      "Epoch 37, CIFAR-10 Batch 1:  Valid Acc: 0.5376 Step Acc: 0.89604 Loss: 0.390717\n",
      "Epoch 38, CIFAR-10 Batch 1:  Valid Acc: 0.5396 Step Acc: 0.914604 Loss: 0.331618\n",
      "Epoch 39, CIFAR-10 Batch 1:  Valid Acc: 0.5446 Step Acc: 0.928218 Loss: 0.302119\n",
      "Epoch 40, CIFAR-10 Batch 1:  Valid Acc: 0.5542 Step Acc: 0.946782 Loss: 0.256953\n",
      "Epoch 41, CIFAR-10 Batch 1:  Valid Acc: 0.5416 Step Acc: 0.935644 Loss: 0.272608\n",
      "Epoch 42, CIFAR-10 Batch 1:  Valid Acc: 0.5636 Step Acc: 0.955446 Loss: 0.227228\n",
      "Epoch 43, CIFAR-10 Batch 1:  Valid Acc: 0.5612 Step Acc: 0.959158 Loss: 0.201024\n",
      "Epoch 44, CIFAR-10 Batch 1:  Valid Acc: 0.5556 Step Acc: 0.956683 Loss: 0.207536\n",
      "Epoch 45, CIFAR-10 Batch 1:  Valid Acc: 0.5562 Step Acc: 0.962871 Loss: 0.170361\n",
      "Epoch 46, CIFAR-10 Batch 1:  Valid Acc: 0.5432 Step Acc: 0.970297 Loss: 0.170452\n",
      "Epoch 47, CIFAR-10 Batch 1:  Valid Acc: 0.556 Step Acc: 0.970297 Loss: 0.155248\n",
      "Epoch 48, CIFAR-10 Batch 1:  Valid Acc: 0.5562 Step Acc: 0.977723 Loss: 0.15263\n",
      "Epoch 49, CIFAR-10 Batch 1:  Valid Acc: 0.5604 Step Acc: 0.976485 Loss: 0.136364\n",
      "Epoch 50, CIFAR-10 Batch 1:  Valid Acc: 0.5516 Step Acc: 0.975248 Loss: 0.140765\n",
      "Epoch 51, CIFAR-10 Batch 1:  Valid Acc: 0.554 Step Acc: 0.97401 Loss: 0.122423\n",
      "Epoch 52, CIFAR-10 Batch 1:  Valid Acc: 0.559 Step Acc: 0.982673 Loss: 0.10427\n",
      "Epoch 53, CIFAR-10 Batch 1:  Valid Acc: 0.5502 Step Acc: 0.982673 Loss: 0.0960497\n",
      "Epoch 54, CIFAR-10 Batch 1:  Valid Acc: 0.5372 Step Acc: 0.970297 Loss: 0.106829\n",
      "Epoch 55, CIFAR-10 Batch 1:  Valid Acc: 0.5542 Step Acc: 0.991337 Loss: 0.0864793\n",
      "Epoch 56, CIFAR-10 Batch 1:  Valid Acc: 0.554 Step Acc: 0.986386 Loss: 0.0914696\n",
      "Epoch 57, CIFAR-10 Batch 1:  Valid Acc: 0.5614 Step Acc: 0.990099 Loss: 0.0770757\n",
      "Epoch 58, CIFAR-10 Batch 1:  Valid Acc: 0.55 Step Acc: 0.992574 Loss: 0.0731889\n",
      "Epoch 59, CIFAR-10 Batch 1:  Valid Acc: 0.5428 Step Acc: 0.988861 Loss: 0.0797363\n",
      "Epoch 60, CIFAR-10 Batch 1:  Valid Acc: 0.55 Step Acc: 0.991337 Loss: 0.062836\n",
      "Epoch 61, CIFAR-10 Batch 1:  Valid Acc: 0.5514 Step Acc: 0.992574 Loss: 0.0706797\n",
      "Epoch 62, CIFAR-10 Batch 1:  Valid Acc: 0.5648 Step Acc: 0.990099 Loss: 0.0663232\n",
      "Epoch 63, CIFAR-10 Batch 1:  Valid Acc: 0.558 Step Acc: 0.996287 Loss: 0.0579966\n",
      "Epoch 64, CIFAR-10 Batch 1:  Valid Acc: 0.5572 Step Acc: 0.995049 Loss: 0.0468322\n",
      "Epoch 65, CIFAR-10 Batch 1:  Valid Acc: 0.5628 Step Acc: 0.997525 Loss: 0.0370415\n",
      "Epoch 66, CIFAR-10 Batch 1:  Valid Acc: 0.565 Step Acc: 0.997525 Loss: 0.0337409\n",
      "Epoch 67, CIFAR-10 Batch 1:  Valid Acc: 0.552 Step Acc: 0.992574 Loss: 0.0409779\n",
      "Epoch 68, CIFAR-10 Batch 1:  Valid Acc: 0.5532 Step Acc: 0.996287 Loss: 0.038219\n",
      "Epoch 69, CIFAR-10 Batch 1:  Valid Acc: 0.5614 Step Acc: 0.996287 Loss: 0.0278487\n",
      "Epoch 70, CIFAR-10 Batch 1:  Valid Acc: 0.5674 Step Acc: 0.997525 Loss: 0.0236284\n"
     ]
    }
   ],
   "source": [
    "\"\"\"\n",
    "DON'T MODIFY ANYTHING IN THIS CELL\n",
    "\"\"\"\n",
    "print('Checking the Training on a Single Batch...')\n",
    "with tf.Session() as sess:\n",
    "    # Initializing the variables\n",
    "    sess.run(tf.global_variables_initializer())\n",
    "    \n",
    "    # Training cycle\n",
    "    for epoch in range(epochs):\n",
    "        batch_i = 1\n",
    "        for batch_features, batch_labels in helper.load_preprocess_training_batch(batch_i, batch_size):\n",
    "            train_neural_network(sess, optimizer, keep_probability, batch_features, batch_labels)\n",
    "        print('Epoch {:>2}, CIFAR-10 Batch {}:  '.format(epoch + 1, batch_i), end='')\n",
    "        print_stats(sess, batch_features, batch_labels, cost, accuracy)"
   ]
  },
  {
   "cell_type": "markdown",
   "metadata": {},
   "source": [
    "### Fully Train the Model\n",
    "Now that you got a good accuracy with a single CIFAR-10 batch, try it with all five batches."
   ]
  },
  {
   "cell_type": "code",
   "execution_count": 18,
   "metadata": {
    "collapsed": false
   },
   "outputs": [
    {
     "name": "stdout",
     "output_type": "stream",
     "text": [
      "Training...\n",
      "Epoch  1, CIFAR-10 Batch 1:  Valid Acc: 0.1442 Step Acc: 0.136139 Loss: 2.25725\n",
      "Epoch  1, CIFAR-10 Batch 2:  Valid Acc: 0.2982 Step Acc: 0.280941 Loss: 2.04959\n",
      "Epoch  1, CIFAR-10 Batch 3:  Valid Acc: 0.3386 Step Acc: 0.351485 Loss: 1.83452\n",
      "Epoch  1, CIFAR-10 Batch 4:  Valid Acc: 0.3722 Step Acc: 0.366337 Loss: 1.77026\n",
      "Epoch  1, CIFAR-10 Batch 5:  Valid Acc: 0.4156 Step Acc: 0.417079 Loss: 1.66132\n",
      "Epoch  2, CIFAR-10 Batch 1:  Valid Acc: 0.4438 Step Acc: 0.417079 Loss: 1.63026\n",
      "Epoch  2, CIFAR-10 Batch 2:  Valid Acc: 0.4528 Step Acc: 0.451733 Loss: 1.56077\n",
      "Epoch  2, CIFAR-10 Batch 3:  Valid Acc: 0.4692 Step Acc: 0.502475 Loss: 1.43544\n",
      "Epoch  2, CIFAR-10 Batch 4:  Valid Acc: 0.499 Step Acc: 0.522277 Loss: 1.39028\n",
      "Epoch  2, CIFAR-10 Batch 5:  Valid Acc: 0.5002 Step Acc: 0.533416 Loss: 1.37881\n",
      "Epoch  3, CIFAR-10 Batch 1:  Valid Acc: 0.5078 Step Acc: 0.522277 Loss: 1.37437\n",
      "Epoch  3, CIFAR-10 Batch 2:  Valid Acc: 0.5306 Step Acc: 0.530941 Loss: 1.3375\n",
      "Epoch  3, CIFAR-10 Batch 3:  Valid Acc: 0.5146 Step Acc: 0.558168 Loss: 1.2508\n",
      "Epoch  3, CIFAR-10 Batch 4:  Valid Acc: 0.5292 Step Acc: 0.570545 Loss: 1.26644\n",
      "Epoch  3, CIFAR-10 Batch 5:  Valid Acc: 0.5372 Step Acc: 0.576733 Loss: 1.23286\n",
      "Epoch  4, CIFAR-10 Batch 1:  Valid Acc: 0.543 Step Acc: 0.569307 Loss: 1.24431\n",
      "Epoch  4, CIFAR-10 Batch 2:  Valid Acc: 0.5586 Step Acc: 0.563119 Loss: 1.2311\n",
      "Epoch  4, CIFAR-10 Batch 3:  Valid Acc: 0.556 Step Acc: 0.594059 Loss: 1.12981\n",
      "Epoch  4, CIFAR-10 Batch 4:  Valid Acc: 0.5696 Step Acc: 0.607673 Loss: 1.15851\n",
      "Epoch  4, CIFAR-10 Batch 5:  Valid Acc: 0.5726 Step Acc: 0.620049 Loss: 1.12171\n",
      "Epoch  5, CIFAR-10 Batch 1:  Valid Acc: 0.5788 Step Acc: 0.605198 Loss: 1.13963\n",
      "Epoch  5, CIFAR-10 Batch 2:  Valid Acc: 0.5814 Step Acc: 0.606436 Loss: 1.1516\n",
      "Epoch  5, CIFAR-10 Batch 3:  Valid Acc: 0.566 Step Acc: 0.620049 Loss: 1.0834\n",
      "Epoch  5, CIFAR-10 Batch 4:  Valid Acc: 0.598 Step Acc: 0.652228 Loss: 1.05789\n",
      "Epoch  5, CIFAR-10 Batch 5:  Valid Acc: 0.5954 Step Acc: 0.639852 Loss: 1.04892\n",
      "Epoch  6, CIFAR-10 Batch 1:  Valid Acc: 0.6022 Step Acc: 0.652228 Loss: 1.05065\n",
      "Epoch  6, CIFAR-10 Batch 2:  Valid Acc: 0.5926 Step Acc: 0.626238 Loss: 1.1015\n",
      "Epoch  6, CIFAR-10 Batch 3:  Valid Acc: 0.597 Step Acc: 0.636139 Loss: 1.00173\n",
      "Epoch  6, CIFAR-10 Batch 4:  Valid Acc: 0.6084 Step Acc: 0.662129 Loss: 1.00568\n",
      "Epoch  6, CIFAR-10 Batch 5:  Valid Acc: 0.6108 Step Acc: 0.673267 Loss: 0.962505\n",
      "Epoch  7, CIFAR-10 Batch 1:  Valid Acc: 0.6052 Step Acc: 0.664604 Loss: 1.01261\n",
      "Epoch  7, CIFAR-10 Batch 2:  Valid Acc: 0.6238 Step Acc: 0.659653 Loss: 1.01702\n",
      "Epoch  7, CIFAR-10 Batch 3:  Valid Acc: 0.6314 Step Acc: 0.675743 Loss: 0.891857\n",
      "Epoch  7, CIFAR-10 Batch 4:  Valid Acc: 0.626 Step Acc: 0.69802 Loss: 0.915148\n",
      "Epoch  7, CIFAR-10 Batch 5:  Valid Acc: 0.6322 Step Acc: 0.705446 Loss: 0.890937\n",
      "Epoch  8, CIFAR-10 Batch 1:  Valid Acc: 0.6238 Step Acc: 0.684406 Loss: 0.934937\n",
      "Epoch  8, CIFAR-10 Batch 2:  Valid Acc: 0.635 Step Acc: 0.681931 Loss: 0.936538\n",
      "Epoch  8, CIFAR-10 Batch 3:  Valid Acc: 0.634 Step Acc: 0.70297 Loss: 0.840689\n",
      "Epoch  8, CIFAR-10 Batch 4:  Valid Acc: 0.6446 Step Acc: 0.715347 Loss: 0.850946\n",
      "Epoch  8, CIFAR-10 Batch 5:  Valid Acc: 0.648 Step Acc: 0.727723 Loss: 0.809908\n",
      "Epoch  9, CIFAR-10 Batch 1:  Valid Acc: 0.6392 Step Acc: 0.704208 Loss: 0.862764\n",
      "Epoch  9, CIFAR-10 Batch 2:  Valid Acc: 0.6464 Step Acc: 0.712871 Loss: 0.870776\n",
      "Epoch  9, CIFAR-10 Batch 3:  Valid Acc: 0.6422 Step Acc: 0.72401 Loss: 0.788597\n",
      "Epoch  9, CIFAR-10 Batch 4:  Valid Acc: 0.6546 Step Acc: 0.751238 Loss: 0.793915\n",
      "Epoch  9, CIFAR-10 Batch 5:  Valid Acc: 0.6532 Step Acc: 0.758663 Loss: 0.750226\n",
      "Epoch 10, CIFAR-10 Batch 1:  Valid Acc: 0.6552 Step Acc: 0.738861 Loss: 0.784843\n",
      "Epoch 10, CIFAR-10 Batch 2:  Valid Acc: 0.6454 Step Acc: 0.737624 Loss: 0.828603\n",
      "Epoch 10, CIFAR-10 Batch 3:  Valid Acc: 0.6524 Step Acc: 0.758663 Loss: 0.721736\n",
      "Epoch 10, CIFAR-10 Batch 4:  Valid Acc: 0.6636 Step Acc: 0.772277 Loss: 0.733548\n",
      "Epoch 10, CIFAR-10 Batch 5:  Valid Acc: 0.6546 Step Acc: 0.764852 Loss: 0.702931\n",
      "Epoch 11, CIFAR-10 Batch 1:  Valid Acc: 0.655 Step Acc: 0.754951 Loss: 0.741028\n",
      "Epoch 11, CIFAR-10 Batch 2:  Valid Acc: 0.6472 Step Acc: 0.746287 Loss: 0.775561\n",
      "Epoch 11, CIFAR-10 Batch 3:  Valid Acc: 0.6482 Step Acc: 0.754951 Loss: 0.707901\n",
      "Epoch 11, CIFAR-10 Batch 4:  Valid Acc: 0.654 Step Acc: 0.764852 Loss: 0.723197\n",
      "Epoch 11, CIFAR-10 Batch 5:  Valid Acc: 0.6622 Step Acc: 0.790842 Loss: 0.665407\n",
      "Epoch 12, CIFAR-10 Batch 1:  Valid Acc: 0.6632 Step Acc: 0.756188 Loss: 0.697455\n",
      "Epoch 12, CIFAR-10 Batch 2:  Valid Acc: 0.6614 Step Acc: 0.77104 Loss: 0.717599\n",
      "Epoch 12, CIFAR-10 Batch 3:  Valid Acc: 0.6576 Step Acc: 0.785891 Loss: 0.652439\n",
      "Epoch 12, CIFAR-10 Batch 4:  Valid Acc: 0.666 Step Acc: 0.80198 Loss: 0.642709\n",
      "Epoch 12, CIFAR-10 Batch 5:  Valid Acc: 0.6736 Step Acc: 0.808168 Loss: 0.605792\n",
      "Epoch 13, CIFAR-10 Batch 1:  Valid Acc: 0.6716 Step Acc: 0.778465 Loss: 0.643919\n",
      "Epoch 13, CIFAR-10 Batch 2:  Valid Acc: 0.6668 Step Acc: 0.787129 Loss: 0.656115\n",
      "Epoch 13, CIFAR-10 Batch 3:  Valid Acc: 0.6678 Step Acc: 0.800743 Loss: 0.58902\n",
      "Epoch 13, CIFAR-10 Batch 4:  Valid Acc: 0.6724 Step Acc: 0.821782 Loss: 0.590028\n",
      "Epoch 13, CIFAR-10 Batch 5:  Valid Acc: 0.6744 Step Acc: 0.816832 Loss: 0.562879\n",
      "Epoch 14, CIFAR-10 Batch 1:  Valid Acc: 0.675 Step Acc: 0.798267 Loss: 0.580671\n",
      "Epoch 14, CIFAR-10 Batch 2:  Valid Acc: 0.6734 Step Acc: 0.806931 Loss: 0.602108\n",
      "Epoch 14, CIFAR-10 Batch 3:  Valid Acc: 0.6718 Step Acc: 0.829208 Loss: 0.549418\n",
      "Epoch 14, CIFAR-10 Batch 4:  Valid Acc: 0.6618 Step Acc: 0.826733 Loss: 0.583784\n",
      "Epoch 14, CIFAR-10 Batch 5:  Valid Acc: 0.6752 Step Acc: 0.841584 Loss: 0.511786\n",
      "Epoch 15, CIFAR-10 Batch 1:  Valid Acc: 0.6732 Step Acc: 0.82797 Loss: 0.5383\n",
      "Epoch 15, CIFAR-10 Batch 2:  Valid Acc: 0.6898 Step Acc: 0.839109 Loss: 0.535358\n",
      "Epoch 15, CIFAR-10 Batch 3:  Valid Acc: 0.6766 Step Acc: 0.834158 Loss: 0.500094\n",
      "Epoch 15, CIFAR-10 Batch 4:  Valid Acc: 0.6762 Step Acc: 0.846535 Loss: 0.519465\n",
      "Epoch 15, CIFAR-10 Batch 5:  Valid Acc: 0.673 Step Acc: 0.850248 Loss: 0.486981\n",
      "Epoch 16, CIFAR-10 Batch 1:  Valid Acc: 0.6724 Step Acc: 0.847772 Loss: 0.506669\n",
      "Epoch 16, CIFAR-10 Batch 2:  Valid Acc: 0.6824 Step Acc: 0.834158 Loss: 0.520193\n",
      "Epoch 16, CIFAR-10 Batch 3:  Valid Acc: 0.6858 Step Acc: 0.865099 Loss: 0.437685\n",
      "Epoch 16, CIFAR-10 Batch 4:  Valid Acc: 0.6648 Step Acc: 0.865099 Loss: 0.488776\n",
      "Epoch 16, CIFAR-10 Batch 5:  Valid Acc: 0.6806 Step Acc: 0.867574 Loss: 0.438735\n",
      "Epoch 17, CIFAR-10 Batch 1:  Valid Acc: 0.6762 Step Acc: 0.857673 Loss: 0.457868\n",
      "Epoch 17, CIFAR-10 Batch 2:  Valid Acc: 0.6916 Step Acc: 0.862624 Loss: 0.478036\n",
      "Epoch 17, CIFAR-10 Batch 3:  Valid Acc: 0.6882 Step Acc: 0.871287 Loss: 0.403679\n",
      "Epoch 17, CIFAR-10 Batch 4:  Valid Acc: 0.6756 Step Acc: 0.881188 Loss: 0.4289\n",
      "Epoch 17, CIFAR-10 Batch 5:  Valid Acc: 0.6816 Step Acc: 0.891089 Loss: 0.400106\n",
      "Epoch 18, CIFAR-10 Batch 1:  Valid Acc: 0.6874 Step Acc: 0.873762 Loss: 0.408386\n",
      "Epoch 18, CIFAR-10 Batch 2:  Valid Acc: 0.6824 Step Acc: 0.865099 Loss: 0.435041\n",
      "Epoch 18, CIFAR-10 Batch 3:  Valid Acc: 0.7004 Step Acc: 0.888614 Loss: 0.363772\n",
      "Epoch 18, CIFAR-10 Batch 4:  Valid Acc: 0.689 Step Acc: 0.897277 Loss: 0.37228\n",
      "Epoch 18, CIFAR-10 Batch 5:  Valid Acc: 0.6916 Step Acc: 0.907178 Loss: 0.34745\n",
      "Epoch 19, CIFAR-10 Batch 1:  Valid Acc: 0.6958 Step Acc: 0.877475 Loss: 0.371945\n",
      "Epoch 19, CIFAR-10 Batch 2:  Valid Acc: 0.6858 Step Acc: 0.878713 Loss: 0.386068\n",
      "Epoch 19, CIFAR-10 Batch 3:  Valid Acc: 0.688 Step Acc: 0.89604 Loss: 0.354122\n",
      "Epoch 19, CIFAR-10 Batch 4:  Valid Acc: 0.6944 Step Acc: 0.92203 Loss: 0.321828\n",
      "Epoch 19, CIFAR-10 Batch 5:  Valid Acc: 0.6962 Step Acc: 0.915842 Loss: 0.314093\n",
      "Epoch 20, CIFAR-10 Batch 1:  Valid Acc: 0.6948 Step Acc: 0.905941 Loss: 0.313199\n",
      "Epoch 20, CIFAR-10 Batch 2:  Valid Acc: 0.6954 Step Acc: 0.897277 Loss: 0.345212\n",
      "Epoch 20, CIFAR-10 Batch 3:  Valid Acc: 0.691 Step Acc: 0.902228 Loss: 0.32516\n",
      "Epoch 20, CIFAR-10 Batch 4:  Valid Acc: 0.6808 Step Acc: 0.923267 Loss: 0.314933\n",
      "Epoch 20, CIFAR-10 Batch 5:  Valid Acc: 0.6908 Step Acc: 0.909653 Loss: 0.304915\n",
      "Epoch 21, CIFAR-10 Batch 1:  Valid Acc: 0.6842 Step Acc: 0.923267 Loss: 0.291036\n",
      "Epoch 21, CIFAR-10 Batch 2:  Valid Acc: 0.7008 Step Acc: 0.915842 Loss: 0.302437\n",
      "Epoch 21, CIFAR-10 Batch 3:  Valid Acc: 0.6932 Step Acc: 0.923267 Loss: 0.277389\n",
      "Epoch 21, CIFAR-10 Batch 4:  Valid Acc: 0.6788 Step Acc: 0.931931 Loss: 0.278904\n",
      "Epoch 21, CIFAR-10 Batch 5:  Valid Acc: 0.676 Step Acc: 0.917079 Loss: 0.277728\n",
      "Epoch 22, CIFAR-10 Batch 1:  Valid Acc: 0.6956 Step Acc: 0.934406 Loss: 0.262826\n",
      "Epoch 22, CIFAR-10 Batch 2:  Valid Acc: 0.6992 Step Acc: 0.930693 Loss: 0.262912\n",
      "Epoch 22, CIFAR-10 Batch 3:  Valid Acc: 0.7032 Step Acc: 0.941832 Loss: 0.237408\n",
      "Epoch 22, CIFAR-10 Batch 4:  Valid Acc: 0.6872 Step Acc: 0.949257 Loss: 0.244764\n",
      "Epoch 22, CIFAR-10 Batch 5:  Valid Acc: 0.6786 Step Acc: 0.940594 Loss: 0.235107\n",
      "Epoch 23, CIFAR-10 Batch 1:  Valid Acc: 0.6858 Step Acc: 0.938119 Loss: 0.239098\n",
      "Epoch 23, CIFAR-10 Batch 2:  Valid Acc: 0.693 Step Acc: 0.939356 Loss: 0.23227\n",
      "Epoch 23, CIFAR-10 Batch 3:  Valid Acc: 0.6932 Step Acc: 0.951733 Loss: 0.225703\n",
      "Epoch 23, CIFAR-10 Batch 4:  Valid Acc: 0.69 Step Acc: 0.94802 Loss: 0.225177\n",
      "Epoch 23, CIFAR-10 Batch 5:  Valid Acc: 0.6774 Step Acc: 0.954208 Loss: 0.211793\n",
      "Epoch 24, CIFAR-10 Batch 1:  Valid Acc: 0.672 Step Acc: 0.935644 Loss: 0.247672\n",
      "Epoch 24, CIFAR-10 Batch 2:  Valid Acc: 0.6864 Step Acc: 0.943069 Loss: 0.23052\n",
      "Epoch 24, CIFAR-10 Batch 3:  Valid Acc: 0.6994 Step Acc: 0.959158 Loss: 0.202819\n",
      "Epoch 24, CIFAR-10 Batch 4:  Valid Acc: 0.69 Step Acc: 0.954208 Loss: 0.216161\n",
      "Epoch 24, CIFAR-10 Batch 5:  Valid Acc: 0.688 Step Acc: 0.964109 Loss: 0.184708\n",
      "Epoch 25, CIFAR-10 Batch 1:  Valid Acc: 0.6852 Step Acc: 0.961634 Loss: 0.195073\n",
      "Epoch 25, CIFAR-10 Batch 2:  Valid Acc: 0.6858 Step Acc: 0.941832 Loss: 0.208169\n",
      "Epoch 25, CIFAR-10 Batch 3:  Valid Acc: 0.6926 Step Acc: 0.935644 Loss: 0.211706\n",
      "Epoch 25, CIFAR-10 Batch 4:  Valid Acc: 0.6758 Step Acc: 0.934406 Loss: 0.238677\n",
      "Epoch 25, CIFAR-10 Batch 5:  Valid Acc: 0.679 Step Acc: 0.956683 Loss: 0.206773\n",
      "Epoch 26, CIFAR-10 Batch 1:  Valid Acc: 0.6864 Step Acc: 0.955446 Loss: 0.195123\n",
      "Epoch 26, CIFAR-10 Batch 2:  Valid Acc: 0.6968 Step Acc: 0.957921 Loss: 0.175661\n",
      "Epoch 26, CIFAR-10 Batch 3:  Valid Acc: 0.6848 Step Acc: 0.945545 Loss: 0.185007\n",
      "Epoch 26, CIFAR-10 Batch 4:  Valid Acc: 0.6908 Step Acc: 0.965347 Loss: 0.18936\n",
      "Epoch 26, CIFAR-10 Batch 5:  Valid Acc: 0.6914 Step Acc: 0.970297 Loss: 0.171981\n",
      "Epoch 27, CIFAR-10 Batch 1:  Valid Acc: 0.6884 Step Acc: 0.954208 Loss: 0.166667\n",
      "Epoch 27, CIFAR-10 Batch 2:  Valid Acc: 0.6986 Step Acc: 0.962871 Loss: 0.156554\n",
      "Epoch 27, CIFAR-10 Batch 3:  Valid Acc: 0.6928 Step Acc: 0.964109 Loss: 0.16177\n",
      "Epoch 27, CIFAR-10 Batch 4:  Valid Acc: 0.6988 Step Acc: 0.965347 Loss: 0.155869\n",
      "Epoch 27, CIFAR-10 Batch 5:  Valid Acc: 0.7002 Step Acc: 0.980198 Loss: 0.12705\n",
      "Epoch 28, CIFAR-10 Batch 1:  Valid Acc: 0.6948 Step Acc: 0.969059 Loss: 0.1293\n",
      "Epoch 28, CIFAR-10 Batch 2:  Valid Acc: 0.6918 Step Acc: 0.97401 Loss: 0.138166\n",
      "Epoch 28, CIFAR-10 Batch 3:  Valid Acc: 0.699 Step Acc: 0.972772 Loss: 0.12872\n",
      "Epoch 28, CIFAR-10 Batch 4:  Valid Acc: 0.6972 Step Acc: 0.972772 Loss: 0.13819\n",
      "Epoch 28, CIFAR-10 Batch 5:  Valid Acc: 0.7064 Step Acc: 0.982673 Loss: 0.108555\n",
      "Epoch 29, CIFAR-10 Batch 1:  Valid Acc: 0.7078 Step Acc: 0.987624 Loss: 0.0991949\n",
      "Epoch 29, CIFAR-10 Batch 2:  Valid Acc: 0.7 Step Acc: 0.97896 Loss: 0.104404\n",
      "Epoch 29, CIFAR-10 Batch 3:  Valid Acc: 0.6902 Step Acc: 0.975248 Loss: 0.118403\n",
      "Epoch 29, CIFAR-10 Batch 4:  Valid Acc: 0.7068 Step Acc: 0.986386 Loss: 0.0962545\n",
      "Epoch 29, CIFAR-10 Batch 5:  Valid Acc: 0.701 Step Acc: 0.990099 Loss: 0.096983\n",
      "Epoch 30, CIFAR-10 Batch 1:  Valid Acc: 0.7046 Step Acc: 0.982673 Loss: 0.0967385\n",
      "Epoch 30, CIFAR-10 Batch 2:  Valid Acc: 0.7014 Step Acc: 0.991337 Loss: 0.088063\n",
      "Epoch 30, CIFAR-10 Batch 3:  Valid Acc: 0.6986 Step Acc: 0.982673 Loss: 0.0900682\n",
      "Epoch 30, CIFAR-10 Batch 4:  Valid Acc: 0.7042 Step Acc: 0.991337 Loss: 0.0791347\n",
      "Epoch 30, CIFAR-10 Batch 5:  Valid Acc: 0.7038 Step Acc: 0.991337 Loss: 0.0746383\n",
      "Epoch 31, CIFAR-10 Batch 1:  Valid Acc: 0.7136 Step Acc: 0.987624 Loss: 0.0725764\n",
      "Epoch 31, CIFAR-10 Batch 2:  Valid Acc: 0.699 Step Acc: 0.988861 Loss: 0.0801652\n",
      "Epoch 31, CIFAR-10 Batch 3:  Valid Acc: 0.6966 Step Acc: 0.985148 Loss: 0.089218\n",
      "Epoch 31, CIFAR-10 Batch 4:  Valid Acc: 0.703 Step Acc: 0.990099 Loss: 0.0787649\n",
      "Epoch 31, CIFAR-10 Batch 5:  Valid Acc: 0.6996 Step Acc: 0.990099 Loss: 0.0722852\n",
      "Epoch 32, CIFAR-10 Batch 1:  Valid Acc: 0.711 Step Acc: 0.993812 Loss: 0.0658537\n",
      "Epoch 32, CIFAR-10 Batch 2:  Valid Acc: 0.6964 Step Acc: 0.996287 Loss: 0.0702089\n",
      "Epoch 32, CIFAR-10 Batch 3:  Valid Acc: 0.7016 Step Acc: 0.985148 Loss: 0.0761108\n",
      "Epoch 32, CIFAR-10 Batch 4:  Valid Acc: 0.7058 Step Acc: 0.995049 Loss: 0.0619016\n",
      "Epoch 32, CIFAR-10 Batch 5:  Valid Acc: 0.7024 Step Acc: 0.992574 Loss: 0.055503\n",
      "Epoch 33, CIFAR-10 Batch 1:  Valid Acc: 0.7106 Step Acc: 0.996287 Loss: 0.0531191\n",
      "Epoch 33, CIFAR-10 Batch 2:  Valid Acc: 0.6944 Step Acc: 0.992574 Loss: 0.0624674\n",
      "Epoch 33, CIFAR-10 Batch 3:  Valid Acc: 0.6994 Step Acc: 0.985148 Loss: 0.0682825\n",
      "Epoch 33, CIFAR-10 Batch 4:  Valid Acc: 0.6972 Step Acc: 0.993812 Loss: 0.0557868\n",
      "Epoch 33, CIFAR-10 Batch 5:  Valid Acc: 0.707 Step Acc: 0.991337 Loss: 0.0542316\n",
      "Epoch 34, CIFAR-10 Batch 1:  Valid Acc: 0.7056 Step Acc: 0.995049 Loss: 0.045226\n",
      "Epoch 34, CIFAR-10 Batch 2:  Valid Acc: 0.6932 Step Acc: 0.991337 Loss: 0.054902\n",
      "Epoch 34, CIFAR-10 Batch 3:  Valid Acc: 0.6964 Step Acc: 0.988861 Loss: 0.0613863\n",
      "Epoch 34, CIFAR-10 Batch 4:  Valid Acc: 0.7088 Step Acc: 0.997525 Loss: 0.0448695\n",
      "Epoch 34, CIFAR-10 Batch 5:  Valid Acc: 0.7136 Step Acc: 0.997525 Loss: 0.0423894\n",
      "Epoch 35, CIFAR-10 Batch 1:  Valid Acc: 0.7058 Step Acc: 0.988861 Loss: 0.048522\n",
      "Epoch 35, CIFAR-10 Batch 2:  Valid Acc: 0.6974 Step Acc: 0.995049 Loss: 0.0450389\n",
      "Epoch 35, CIFAR-10 Batch 3:  Valid Acc: 0.7072 Step Acc: 0.995049 Loss: 0.048322\n",
      "Epoch 35, CIFAR-10 Batch 4:  Valid Acc: 0.7074 Step Acc: 0.997525 Loss: 0.0399489\n",
      "Epoch 35, CIFAR-10 Batch 5:  Valid Acc: 0.711 Step Acc: 0.998762 Loss: 0.0320152\n",
      "Epoch 36, CIFAR-10 Batch 1:  Valid Acc: 0.707 Step Acc: 0.996287 Loss: 0.0345955\n",
      "Epoch 36, CIFAR-10 Batch 2:  Valid Acc: 0.6942 Step Acc: 0.996287 Loss: 0.0454064\n",
      "Epoch 36, CIFAR-10 Batch 3:  Valid Acc: 0.6994 Step Acc: 0.995049 Loss: 0.0455732\n",
      "Epoch 36, CIFAR-10 Batch 4:  Valid Acc: 0.6964 Step Acc: 0.996287 Loss: 0.0427714\n",
      "Epoch 36, CIFAR-10 Batch 5:  Valid Acc: 0.7074 Step Acc: 1.0 Loss: 0.0314588\n",
      "Epoch 37, CIFAR-10 Batch 1:  Valid Acc: 0.7038 Step Acc: 0.996287 Loss: 0.0352175\n",
      "Epoch 37, CIFAR-10 Batch 2:  Valid Acc: 0.708 Step Acc: 0.997525 Loss: 0.035946\n",
      "Epoch 37, CIFAR-10 Batch 3:  Valid Acc: 0.7098 Step Acc: 0.995049 Loss: 0.0365987\n",
      "Epoch 37, CIFAR-10 Batch 4:  Valid Acc: 0.691 Step Acc: 0.997525 Loss: 0.0392873\n",
      "Epoch 37, CIFAR-10 Batch 5:  Valid Acc: 0.7016 Step Acc: 0.997525 Loss: 0.0340775\n",
      "Epoch 38, CIFAR-10 Batch 1:  Valid Acc: 0.7058 Step Acc: 0.998762 Loss: 0.0268831\n",
      "Epoch 38, CIFAR-10 Batch 2:  Valid Acc: 0.7046 Step Acc: 0.998762 Loss: 0.0343728\n",
      "Epoch 38, CIFAR-10 Batch 3:  Valid Acc: 0.7088 Step Acc: 0.998762 Loss: 0.0326684\n",
      "Epoch 38, CIFAR-10 Batch 4:  Valid Acc: 0.7054 Step Acc: 1.0 Loss: 0.0281146\n",
      "Epoch 38, CIFAR-10 Batch 5:  Valid Acc: 0.702 Step Acc: 0.998762 Loss: 0.0330136\n",
      "Epoch 39, CIFAR-10 Batch 1:  Valid Acc: 0.6998 Step Acc: 0.996287 Loss: 0.0332165\n",
      "Epoch 39, CIFAR-10 Batch 2:  Valid Acc: 0.6936 Step Acc: 0.996287 Loss: 0.0367997\n",
      "Epoch 39, CIFAR-10 Batch 3:  Valid Acc: 0.6982 Step Acc: 0.998762 Loss: 0.0379243\n",
      "Epoch 39, CIFAR-10 Batch 4:  Valid Acc: 0.709 Step Acc: 1.0 Loss: 0.0250792\n",
      "Epoch 39, CIFAR-10 Batch 5:  Valid Acc: 0.7038 Step Acc: 1.0 Loss: 0.0275031\n",
      "Epoch 40, CIFAR-10 Batch 1:  Valid Acc: 0.7044 Step Acc: 0.998762 Loss: 0.0226909\n",
      "Epoch 40, CIFAR-10 Batch 2:  Valid Acc: 0.7046 Step Acc: 0.997525 Loss: 0.0239022\n",
      "Epoch 40, CIFAR-10 Batch 3:  Valid Acc: 0.6942 Step Acc: 0.998762 Loss: 0.0294469\n",
      "Epoch 40, CIFAR-10 Batch 4:  Valid Acc: 0.706 Step Acc: 0.998762 Loss: 0.0206094\n",
      "Epoch 40, CIFAR-10 Batch 5:  Valid Acc: 0.708 Step Acc: 1.0 Loss: 0.0229725\n",
      "Epoch 41, CIFAR-10 Batch 1:  Valid Acc: 0.6996 Step Acc: 0.997525 Loss: 0.0219291\n",
      "Epoch 41, CIFAR-10 Batch 2:  Valid Acc: 0.7034 Step Acc: 0.998762 Loss: 0.0266823\n",
      "Epoch 41, CIFAR-10 Batch 3:  Valid Acc: 0.6964 Step Acc: 1.0 Loss: 0.0232023\n",
      "Epoch 41, CIFAR-10 Batch 4:  Valid Acc: 0.698 Step Acc: 0.998762 Loss: 0.020962\n",
      "Epoch 41, CIFAR-10 Batch 5:  Valid Acc: 0.6988 Step Acc: 1.0 Loss: 0.0204807\n",
      "Epoch 42, CIFAR-10 Batch 1:  Valid Acc: 0.7054 Step Acc: 1.0 Loss: 0.0147677\n",
      "Epoch 42, CIFAR-10 Batch 2:  Valid Acc: 0.7082 Step Acc: 0.998762 Loss: 0.0167855\n",
      "Epoch 42, CIFAR-10 Batch 3:  Valid Acc: 0.6968 Step Acc: 1.0 Loss: 0.0237603\n",
      "Epoch 42, CIFAR-10 Batch 4:  Valid Acc: 0.6958 Step Acc: 1.0 Loss: 0.020941\n",
      "Epoch 42, CIFAR-10 Batch 5:  Valid Acc: 0.6984 Step Acc: 1.0 Loss: 0.0185959\n",
      "Epoch 43, CIFAR-10 Batch 1:  Valid Acc: 0.7038 Step Acc: 1.0 Loss: 0.0152127\n",
      "Epoch 43, CIFAR-10 Batch 2:  Valid Acc: 0.7138 Step Acc: 1.0 Loss: 0.0140333\n",
      "Epoch 43, CIFAR-10 Batch 3:  Valid Acc: 0.7006 Step Acc: 1.0 Loss: 0.0153515\n",
      "Epoch 43, CIFAR-10 Batch 4:  Valid Acc: 0.7024 Step Acc: 0.998762 Loss: 0.0160852\n",
      "Epoch 43, CIFAR-10 Batch 5:  Valid Acc: 0.6988 Step Acc: 1.0 Loss: 0.0146528\n",
      "Epoch 44, CIFAR-10 Batch 1:  Valid Acc: 0.7156 Step Acc: 1.0 Loss: 0.00950334\n",
      "Epoch 44, CIFAR-10 Batch 2:  Valid Acc: 0.7102 Step Acc: 0.998762 Loss: 0.0109164\n",
      "Epoch 44, CIFAR-10 Batch 3:  Valid Acc: 0.704 Step Acc: 1.0 Loss: 0.0142867\n",
      "Epoch 44, CIFAR-10 Batch 4:  Valid Acc: 0.6954 Step Acc: 0.998762 Loss: 0.0173178\n",
      "Epoch 44, CIFAR-10 Batch 5:  Valid Acc: 0.6962 Step Acc: 0.996287 Loss: 0.0194318\n",
      "Epoch 45, CIFAR-10 Batch 1:  Valid Acc: 0.7068 Step Acc: 1.0 Loss: 0.01078\n",
      "Epoch 45, CIFAR-10 Batch 2:  Valid Acc: 0.7088 Step Acc: 0.998762 Loss: 0.0123609\n",
      "Epoch 45, CIFAR-10 Batch 3:  Valid Acc: 0.7094 Step Acc: 1.0 Loss: 0.0107389\n",
      "Epoch 45, CIFAR-10 Batch 4:  Valid Acc: 0.6944 Step Acc: 1.0 Loss: 0.0141366\n",
      "Epoch 45, CIFAR-10 Batch 5:  Valid Acc: 0.6974 Step Acc: 1.0 Loss: 0.0115263\n",
      "Epoch 46, CIFAR-10 Batch 1:  Valid Acc: 0.7028 Step Acc: 0.998762 Loss: 0.0127331\n",
      "Epoch 46, CIFAR-10 Batch 2:  Valid Acc: 0.711 Step Acc: 0.998762 Loss: 0.0124889\n",
      "Epoch 46, CIFAR-10 Batch 3:  Valid Acc: 0.6996 Step Acc: 1.0 Loss: 0.0113534\n",
      "Epoch 46, CIFAR-10 Batch 4:  Valid Acc: 0.7 Step Acc: 1.0 Loss: 0.00806101\n",
      "Epoch 46, CIFAR-10 Batch 5:  Valid Acc: 0.6958 Step Acc: 1.0 Loss: 0.0106219\n",
      "Epoch 47, CIFAR-10 Batch 1:  Valid Acc: 0.712 Step Acc: 1.0 Loss: 0.0102879\n",
      "Epoch 47, CIFAR-10 Batch 2:  Valid Acc: 0.707 Step Acc: 1.0 Loss: 0.00993171\n",
      "Epoch 47, CIFAR-10 Batch 3:  Valid Acc: 0.7128 Step Acc: 1.0 Loss: 0.0110177\n",
      "Epoch 47, CIFAR-10 Batch 4:  Valid Acc: 0.7088 Step Acc: 1.0 Loss: 0.00688973\n",
      "Epoch 47, CIFAR-10 Batch 5:  Valid Acc: 0.7092 Step Acc: 1.0 Loss: 0.00907216\n",
      "Epoch 48, CIFAR-10 Batch 1:  Valid Acc: 0.7034 Step Acc: 0.997525 Loss: 0.0130011\n",
      "Epoch 48, CIFAR-10 Batch 2:  Valid Acc: 0.7018 Step Acc: 1.0 Loss: 0.0118465\n",
      "Epoch 48, CIFAR-10 Batch 3:  Valid Acc: 0.7074 Step Acc: 1.0 Loss: 0.0115364\n",
      "Epoch 48, CIFAR-10 Batch 4:  Valid Acc: 0.714 Step Acc: 1.0 Loss: 0.00639636\n",
      "Epoch 48, CIFAR-10 Batch 5:  Valid Acc: 0.706 Step Acc: 1.0 Loss: 0.0093749\n",
      "Epoch 49, CIFAR-10 Batch 1:  Valid Acc: 0.6966 Step Acc: 0.998762 Loss: 0.0185961\n",
      "Epoch 49, CIFAR-10 Batch 2:  Valid Acc: 0.6996 Step Acc: 1.0 Loss: 0.0107848\n",
      "Epoch 49, CIFAR-10 Batch 3:  Valid Acc: 0.6976 Step Acc: 0.998762 Loss: 0.0117525\n",
      "Epoch 49, CIFAR-10 Batch 4:  Valid Acc: 0.6998 Step Acc: 1.0 Loss: 0.00889445\n",
      "Epoch 49, CIFAR-10 Batch 5:  Valid Acc: 0.7038 Step Acc: 0.998762 Loss: 0.0101171\n",
      "Epoch 50, CIFAR-10 Batch 1:  Valid Acc: 0.7014 Step Acc: 0.998762 Loss: 0.0106975\n",
      "Epoch 50, CIFAR-10 Batch 2:  Valid Acc: 0.704 Step Acc: 1.0 Loss: 0.00726111\n",
      "Epoch 50, CIFAR-10 Batch 3:  Valid Acc: 0.6992 Step Acc: 1.0 Loss: 0.00680495\n",
      "Epoch 50, CIFAR-10 Batch 4:  Valid Acc: 0.704 Step Acc: 1.0 Loss: 0.00603413\n",
      "Epoch 50, CIFAR-10 Batch 5:  Valid Acc: 0.7044 Step Acc: 0.998762 Loss: 0.0082306\n",
      "Epoch 51, CIFAR-10 Batch 1:  Valid Acc: 0.7068 Step Acc: 1.0 Loss: 0.00757026\n",
      "Epoch 51, CIFAR-10 Batch 2:  Valid Acc: 0.7068 Step Acc: 0.997525 Loss: 0.00859438\n",
      "Epoch 51, CIFAR-10 Batch 3:  Valid Acc: 0.7152 Step Acc: 1.0 Loss: 0.00588346\n",
      "Epoch 51, CIFAR-10 Batch 4:  Valid Acc: 0.713 Step Acc: 1.0 Loss: 0.00375826\n",
      "Epoch 51, CIFAR-10 Batch 5:  Valid Acc: 0.7066 Step Acc: 1.0 Loss: 0.00363941\n",
      "Epoch 52, CIFAR-10 Batch 1:  Valid Acc: 0.7038 Step Acc: 1.0 Loss: 0.00488568\n",
      "Epoch 52, CIFAR-10 Batch 2:  Valid Acc: 0.7104 Step Acc: 1.0 Loss: 0.00573059\n",
      "Epoch 52, CIFAR-10 Batch 3:  Valid Acc: 0.7126 Step Acc: 0.998762 Loss: 0.00690499\n",
      "Epoch 52, CIFAR-10 Batch 4:  Valid Acc: 0.7148 Step Acc: 1.0 Loss: 0.00339939\n",
      "Epoch 52, CIFAR-10 Batch 5:  Valid Acc: 0.7138 Step Acc: 1.0 Loss: 0.00365383\n",
      "Epoch 53, CIFAR-10 Batch 1:  Valid Acc: 0.7122 Step Acc: 1.0 Loss: 0.00430573\n",
      "Epoch 53, CIFAR-10 Batch 2:  Valid Acc: 0.713 Step Acc: 1.0 Loss: 0.00445148\n",
      "Epoch 53, CIFAR-10 Batch 3:  Valid Acc: 0.7112 Step Acc: 1.0 Loss: 0.00440879\n",
      "Epoch 53, CIFAR-10 Batch 4:  Valid Acc: 0.7106 Step Acc: 1.0 Loss: 0.00330369\n",
      "Epoch 53, CIFAR-10 Batch 5:  Valid Acc: 0.707 Step Acc: 0.998762 Loss: 0.00481921\n",
      "Epoch 54, CIFAR-10 Batch 1:  Valid Acc: 0.7046 Step Acc: 1.0 Loss: 0.00507982\n",
      "Epoch 54, CIFAR-10 Batch 2:  Valid Acc: 0.7098 Step Acc: 1.0 Loss: 0.00386426\n",
      "Epoch 54, CIFAR-10 Batch 3:  Valid Acc: 0.713 Step Acc: 1.0 Loss: 0.00465816\n",
      "Epoch 54, CIFAR-10 Batch 4:  Valid Acc: 0.7174 Step Acc: 1.0 Loss: 0.00337666\n",
      "Epoch 54, CIFAR-10 Batch 5:  Valid Acc: 0.7156 Step Acc: 1.0 Loss: 0.00251927\n",
      "Epoch 55, CIFAR-10 Batch 1:  Valid Acc: 0.7062 Step Acc: 1.0 Loss: 0.00465419\n",
      "Epoch 55, CIFAR-10 Batch 2:  Valid Acc: 0.7064 Step Acc: 0.998762 Loss: 0.0054557\n",
      "Epoch 55, CIFAR-10 Batch 3:  Valid Acc: 0.7026 Step Acc: 1.0 Loss: 0.00408664\n",
      "Epoch 55, CIFAR-10 Batch 4:  Valid Acc: 0.7168 Step Acc: 1.0 Loss: 0.00245552\n",
      "Epoch 55, CIFAR-10 Batch 5:  Valid Acc: 0.7084 Step Acc: 1.0 Loss: 0.00364624\n",
      "Epoch 56, CIFAR-10 Batch 1:  Valid Acc: 0.7146 Step Acc: 1.0 Loss: 0.00337\n",
      "Epoch 56, CIFAR-10 Batch 2:  Valid Acc: 0.7122 Step Acc: 1.0 Loss: 0.00378322\n",
      "Epoch 56, CIFAR-10 Batch 3:  Valid Acc: 0.7146 Step Acc: 1.0 Loss: 0.00368019\n",
      "Epoch 56, CIFAR-10 Batch 4:  Valid Acc: 0.7084 Step Acc: 1.0 Loss: 0.00417032\n",
      "Epoch 56, CIFAR-10 Batch 5:  Valid Acc: 0.7134 Step Acc: 1.0 Loss: 0.00284924\n",
      "Epoch 57, CIFAR-10 Batch 1:  Valid Acc: 0.7134 Step Acc: 1.0 Loss: 0.00233914\n",
      "Epoch 57, CIFAR-10 Batch 2:  Valid Acc: 0.7136 Step Acc: 1.0 Loss: 0.00489541\n",
      "Epoch 57, CIFAR-10 Batch 3:  Valid Acc: 0.7096 Step Acc: 1.0 Loss: 0.00346286\n",
      "Epoch 57, CIFAR-10 Batch 4:  Valid Acc: 0.7098 Step Acc: 1.0 Loss: 0.00200986\n",
      "Epoch 57, CIFAR-10 Batch 5:  Valid Acc: 0.7158 Step Acc: 1.0 Loss: 0.00243365\n",
      "Epoch 58, CIFAR-10 Batch 1:  Valid Acc: 0.7156 Step Acc: 1.0 Loss: 0.00241937\n",
      "Epoch 58, CIFAR-10 Batch 2:  Valid Acc: 0.7072 Step Acc: 1.0 Loss: 0.00460237\n",
      "Epoch 58, CIFAR-10 Batch 3:  Valid Acc: 0.7124 Step Acc: 1.0 Loss: 0.00286442\n",
      "Epoch 58, CIFAR-10 Batch 4:  Valid Acc: 0.7154 Step Acc: 1.0 Loss: 0.00214016\n",
      "Epoch 58, CIFAR-10 Batch 5:  Valid Acc: 0.716 Step Acc: 1.0 Loss: 0.00276871\n",
      "Epoch 59, CIFAR-10 Batch 1:  Valid Acc: 0.71 Step Acc: 1.0 Loss: 0.00317482\n",
      "Epoch 59, CIFAR-10 Batch 2:  Valid Acc: 0.7078 Step Acc: 1.0 Loss: 0.0027357\n",
      "Epoch 59, CIFAR-10 Batch 3:  Valid Acc: 0.7138 Step Acc: 1.0 Loss: 0.00267329\n",
      "Epoch 59, CIFAR-10 Batch 4:  Valid Acc: 0.7126 Step Acc: 1.0 Loss: 0.0017648\n",
      "Epoch 59, CIFAR-10 Batch 5:  Valid Acc: 0.712 Step Acc: 1.0 Loss: 0.00310449\n",
      "Epoch 60, CIFAR-10 Batch 1:  Valid Acc: 0.7056 Step Acc: 1.0 Loss: 0.00319396\n",
      "Epoch 60, CIFAR-10 Batch 2:  Valid Acc: 0.707 Step Acc: 1.0 Loss: 0.00270882\n",
      "Epoch 60, CIFAR-10 Batch 3:  Valid Acc: 0.7116 Step Acc: 1.0 Loss: 0.00300477\n",
      "Epoch 60, CIFAR-10 Batch 4:  Valid Acc: 0.7072 Step Acc: 1.0 Loss: 0.00275693\n",
      "Epoch 60, CIFAR-10 Batch 5:  Valid Acc: 0.7124 Step Acc: 1.0 Loss: 0.00332655\n",
      "Epoch 61, CIFAR-10 Batch 1:  Valid Acc: 0.7054 Step Acc: 1.0 Loss: 0.0026381\n",
      "Epoch 61, CIFAR-10 Batch 2:  Valid Acc: 0.707 Step Acc: 1.0 Loss: 0.0024428\n",
      "Epoch 61, CIFAR-10 Batch 3:  Valid Acc: 0.713 Step Acc: 0.998762 Loss: 0.0030285\n",
      "Epoch 61, CIFAR-10 Batch 4:  Valid Acc: 0.7026 Step Acc: 1.0 Loss: 0.00252978\n",
      "Epoch 61, CIFAR-10 Batch 5:  Valid Acc: 0.7124 Step Acc: 1.0 Loss: 0.00207105\n",
      "Epoch 62, CIFAR-10 Batch 1:  Valid Acc: 0.708 Step Acc: 1.0 Loss: 0.00184182\n",
      "Epoch 62, CIFAR-10 Batch 2:  Valid Acc: 0.705 Step Acc: 1.0 Loss: 0.00180667\n",
      "Epoch 62, CIFAR-10 Batch 3:  Valid Acc: 0.7074 Step Acc: 1.0 Loss: 0.00248\n",
      "Epoch 62, CIFAR-10 Batch 4:  Valid Acc: 0.7058 Step Acc: 1.0 Loss: 0.00214483\n",
      "Epoch 62, CIFAR-10 Batch 5:  Valid Acc: 0.711 Step Acc: 1.0 Loss: 0.00165515\n",
      "Epoch 63, CIFAR-10 Batch 1:  Valid Acc: 0.708 Step Acc: 1.0 Loss: 0.00201007\n",
      "Epoch 63, CIFAR-10 Batch 2:  Valid Acc: 0.7032 Step Acc: 1.0 Loss: 0.00155014\n",
      "Epoch 63, CIFAR-10 Batch 3:  Valid Acc: 0.7128 Step Acc: 1.0 Loss: 0.00174575\n",
      "Epoch 63, CIFAR-10 Batch 4:  Valid Acc: 0.709 Step Acc: 1.0 Loss: 0.00185629\n",
      "Epoch 63, CIFAR-10 Batch 5:  Valid Acc: 0.7178 Step Acc: 1.0 Loss: 0.00151441\n",
      "Epoch 64, CIFAR-10 Batch 1:  Valid Acc: 0.7058 Step Acc: 1.0 Loss: 0.00217948\n",
      "Epoch 64, CIFAR-10 Batch 2:  Valid Acc: 0.698 Step Acc: 1.0 Loss: 0.00230589\n",
      "Epoch 64, CIFAR-10 Batch 3:  Valid Acc: 0.7084 Step Acc: 1.0 Loss: 0.00216441\n",
      "Epoch 64, CIFAR-10 Batch 4:  Valid Acc: 0.7056 Step Acc: 1.0 Loss: 0.00146227\n",
      "Epoch 64, CIFAR-10 Batch 5:  Valid Acc: 0.711 Step Acc: 1.0 Loss: 0.00152945\n",
      "Epoch 65, CIFAR-10 Batch 1:  Valid Acc: 0.7036 Step Acc: 1.0 Loss: 0.00192124\n",
      "Epoch 65, CIFAR-10 Batch 2:  Valid Acc: 0.6968 Step Acc: 1.0 Loss: 0.00193776\n",
      "Epoch 65, CIFAR-10 Batch 3:  Valid Acc: 0.708 Step Acc: 1.0 Loss: 0.00203538\n",
      "Epoch 65, CIFAR-10 Batch 4:  Valid Acc: 0.7102 Step Acc: 1.0 Loss: 0.00170869\n",
      "Epoch 65, CIFAR-10 Batch 5:  Valid Acc: 0.7144 Step Acc: 1.0 Loss: 0.00140028\n",
      "Epoch 66, CIFAR-10 Batch 1:  Valid Acc: 0.7018 Step Acc: 1.0 Loss: 0.00240354\n",
      "Epoch 66, CIFAR-10 Batch 2:  Valid Acc: 0.7046 Step Acc: 1.0 Loss: 0.00177197\n",
      "Epoch 66, CIFAR-10 Batch 3:  Valid Acc: 0.7092 Step Acc: 1.0 Loss: 0.00220996\n",
      "Epoch 66, CIFAR-10 Batch 4:  Valid Acc: 0.708 Step Acc: 1.0 Loss: 0.00130665\n",
      "Epoch 66, CIFAR-10 Batch 5:  Valid Acc: 0.7048 Step Acc: 1.0 Loss: 0.00163757\n",
      "Epoch 67, CIFAR-10 Batch 1:  Valid Acc: 0.6956 Step Acc: 1.0 Loss: 0.00213048\n",
      "Epoch 67, CIFAR-10 Batch 2:  Valid Acc: 0.7044 Step Acc: 1.0 Loss: 0.00151755\n",
      "Epoch 67, CIFAR-10 Batch 3:  Valid Acc: 0.7082 Step Acc: 1.0 Loss: 0.0023046\n",
      "Epoch 67, CIFAR-10 Batch 4:  Valid Acc: 0.7092 Step Acc: 1.0 Loss: 0.000995906\n",
      "Epoch 67, CIFAR-10 Batch 5:  Valid Acc: 0.706 Step Acc: 1.0 Loss: 0.0019894\n",
      "Epoch 68, CIFAR-10 Batch 1:  Valid Acc: 0.7004 Step Acc: 1.0 Loss: 0.00236524\n",
      "Epoch 68, CIFAR-10 Batch 2:  Valid Acc: 0.7066 Step Acc: 1.0 Loss: 0.00160076\n",
      "Epoch 68, CIFAR-10 Batch 3:  Valid Acc: 0.7084 Step Acc: 1.0 Loss: 0.00278029\n",
      "Epoch 68, CIFAR-10 Batch 4:  Valid Acc: 0.6998 Step Acc: 1.0 Loss: 0.00124184\n",
      "Epoch 68, CIFAR-10 Batch 5:  Valid Acc: 0.7134 Step Acc: 1.0 Loss: 0.00187169\n",
      "Epoch 69, CIFAR-10 Batch 1:  Valid Acc: 0.7006 Step Acc: 1.0 Loss: 0.00153935\n",
      "Epoch 69, CIFAR-10 Batch 2:  Valid Acc: 0.7094 Step Acc: 1.0 Loss: 0.00131224\n",
      "Epoch 69, CIFAR-10 Batch 3:  Valid Acc: 0.7094 Step Acc: 1.0 Loss: 0.00189039\n",
      "Epoch 69, CIFAR-10 Batch 4:  Valid Acc: 0.7044 Step Acc: 1.0 Loss: 0.00150088\n",
      "Epoch 69, CIFAR-10 Batch 5:  Valid Acc: 0.7036 Step Acc: 1.0 Loss: 0.00263964\n",
      "Epoch 70, CIFAR-10 Batch 1:  Valid Acc: 0.6986 Step Acc: 1.0 Loss: 0.00190906\n",
      "Epoch 70, CIFAR-10 Batch 2:  Valid Acc: 0.7036 Step Acc: 1.0 Loss: 0.00195349\n",
      "Epoch 70, CIFAR-10 Batch 3:  Valid Acc: 0.703 Step Acc: 1.0 Loss: 0.00248836\n",
      "Epoch 70, CIFAR-10 Batch 4:  Valid Acc: 0.7046 Step Acc: 1.0 Loss: 0.00114053\n",
      "Epoch 70, CIFAR-10 Batch 5:  Valid Acc: 0.691 Step Acc: 1.0 Loss: 0.00308039\n"
     ]
    }
   ],
   "source": [
    "\"\"\"\n",
    "DON'T MODIFY ANYTHING IN THIS CELL\n",
    "\"\"\"\n",
    "save_model_path = './image_classification'\n",
    "\n",
    "print('Training...')\n",
    "with tf.Session() as sess:\n",
    "    # Initializing the variables\n",
    "    sess.run(tf.global_variables_initializer())\n",
    "    \n",
    "    # Training cycle\n",
    "    for epoch in range(epochs):\n",
    "        # Loop over all batches\n",
    "        n_batches = 5\n",
    "        for batch_i in range(1, n_batches + 1):\n",
    "            for batch_features, batch_labels in helper.load_preprocess_training_batch(batch_i, batch_size):\n",
    "                train_neural_network(sess, optimizer, keep_probability, batch_features, batch_labels)\n",
    "            print('Epoch {:>2}, CIFAR-10 Batch {}:  '.format(epoch + 1, batch_i), end='')\n",
    "            print_stats(sess, batch_features, batch_labels, cost, accuracy)\n",
    "            \n",
    "    # Save Model\n",
    "    saver = tf.train.Saver()\n",
    "    save_path = saver.save(sess, save_model_path)"
   ]
  },
  {
   "cell_type": "markdown",
   "metadata": {},
   "source": [
    "# Checkpoint\n",
    "The model has been saved to disk.\n",
    "## Test Model\n",
    "Test your model against the test dataset.  This will be your final accuracy. You should have an accuracy greater than 50%. If you don't, keep tweaking the model architecture and parameters."
   ]
  },
  {
   "cell_type": "code",
   "execution_count": 19,
   "metadata": {
    "collapsed": false
   },
   "outputs": [
    {
     "name": "stdout",
     "output_type": "stream",
     "text": [
      "Testing Accuracy: 0.6947704076766967\n",
      "\n"
     ]
    },
    {
     "data": {
      "image/png": "[encoded data removed]",
      "text/plain": [
       "<matplotlib.figure.Figure at 0x16c69d55898>"
      ]
     },
     "metadata": {
      "image/png": {
       "height": 319,
       "width": 355
      }
     },
     "output_type": "display_data"
    }
   ],
   "source": [
    "\"\"\"\n",
    "DON'T MODIFY ANYTHING IN THIS CELL\n",
    "\"\"\"\n",
    "%matplotlib inline\n",
    "%config InlineBackend.figure_format = 'retina'\n",
    "\n",
    "import tensorflow as tf\n",
    "import pickle\n",
    "import helper\n",
    "import random\n",
    "\n",
    "# Set batch size if not already set\n",
    "try:\n",
    "    if batch_size:\n",
    "        pass\n",
    "except NameError:\n",
    "    batch_size = 64\n",
    "\n",
    "save_model_path = './image_classification'\n",
    "n_samples = 4\n",
    "top_n_predictions = 3\n",
    "\n",
    "def test_model():\n",
    "    \"\"\"\n",
    "    Test the saved model against the test dataset\n",
    "    \"\"\"\n",
    "\n",
    "    test_features, test_labels = pickle.load(open('preprocess_training.p', mode='rb'))\n",
    "    loaded_graph = tf.Graph()\n",
    "\n",
    "    with tf.Session(graph=loaded_graph) as sess:\n",
    "        # Load model\n",
    "        loader = tf.train.import_meta_graph(save_model_path + '.meta')\n",
    "        loader.restore(sess, save_model_path)\n",
    "\n",
    "        # Get Tensors from loaded model\n",
    "        loaded_x = loaded_graph.get_tensor_by_name('x:0')\n",
    "        loaded_y = loaded_graph.get_tensor_by_name('y:0')\n",
    "        loaded_keep_prob = loaded_graph.get_tensor_by_name('keep_prob:0')\n",
    "        loaded_logits = loaded_graph.get_tensor_by_name('logits:0')\n",
    "        loaded_acc = loaded_graph.get_tensor_by_name('accuracy:0')\n",
    "        \n",
    "        # Get accuracy in batches for memory limitations\n",
    "        test_batch_acc_total = 0\n",
    "        test_batch_count = 0\n",
    "        \n",
    "        for train_feature_batch, train_label_batch in helper.batch_features_labels(test_features, test_labels, batch_size):\n",
    "            test_batch_acc_total += sess.run(\n",
    "                loaded_acc,\n",
    "                feed_dict={loaded_x: train_feature_batch, loaded_y: train_label_batch, loaded_keep_prob: 1.0})\n",
    "            test_batch_count += 1\n",
    "\n",
    "        print('Testing Accuracy: {}\\n'.format(test_batch_acc_total/test_batch_count))\n",
    "\n",
    "        # Print Random Samples\n",
    "        random_test_features, random_test_labels = tuple(zip(*random.sample(list(zip(test_features, test_labels)), n_samples)))\n",
    "        random_test_predictions = sess.run(\n",
    "            tf.nn.top_k(tf.nn.softmax(loaded_logits), top_n_predictions),\n",
    "            feed_dict={loaded_x: random_test_features, loaded_y: random_test_labels, loaded_keep_prob: 1.0})\n",
    "        helper.display_image_predictions(random_test_features, random_test_labels, random_test_predictions)\n",
    "\n",
    "\n",
    "test_model()"
   ]
  },
  {
   "cell_type": "markdown",
   "metadata": {},
   "source": [
    "## Why 50-70% Accuracy?\n",
    "You might be wondering why you can't get an accuracy any higher. First things first, 50% isn't bad for a simple CNN.  Pure guessing would get you 10% accuracy. However, you might notice people are getting scores [well above 70%](http://rodrigob.github.io/are_we_there_yet/build/classification_datasets_results.html#43494641522d3130).  That's because we haven't taught you all there is to know about neural networks. We still need to cover a few more techniques.\n",
    "## Submitting This Project\n",
    "When submitting this project, make sure to run all the cells before saving the notebook.  Save the notebook file as \"dlnd_image_classification.ipynb\" and save it as a HTML file under \"File\" -> \"Download as\".  Include the \"helper.py\" and \"problem_unittests.py\" files in your submission."
   ]
  }
 ],
 "metadata": {
  "kernelspec": {
   "display_name": "Python 3",
   "language": "python",
   "name": "python3"
  },
  "language_info": {
   "codemirror_mode": {
    "name": "ipython",
    "version": 3
   },
   "file_extension": ".py",
   "mimetype": "text/x-python",
   "name": "python",
   "nbconvert_exporter": "python",
   "pygments_lexer": "ipython3",
   "version": "3.5.2"
  }
 },
 "nbformat": 4,
 "nbformat_minor": 0
}
