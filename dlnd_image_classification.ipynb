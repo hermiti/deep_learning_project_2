{
 "cells": [
  {
   "cell_type": "markdown",
   "metadata": {
    "collapsed": true
   },
   "source": [
    "# Image Classification\n",
    "In this project, you'll classify images from the [CIFAR-10 dataset](https://www.cs.toronto.edu/~kriz/cifar.html).  The dataset consists of airplanes, dogs, cats, and other objects. You'll preprocess the images, then train a convolutional neural network on all the samples. The images need to be normalized and the labels need to be one-hot encoded.  You'll get to apply what you learned and build a convolutional, max pooling, dropout, and fully connected layers.  At the end, you'll get to see your neural network's predictions on the sample images.\n",
    "## Get the Data\n",
    "Run the following cell to download the [CIFAR-10 dataset for python](https://www.cs.toronto.edu/~kriz/cifar-10-python.tar.gz)."
   ]
  },
  {
   "cell_type": "code",
   "execution_count": 1,
   "metadata": {
    "collapsed": false
   },
   "outputs": [
    {
     "name": "stderr",
     "output_type": "stream",
     "text": [
      "CIFAR-10 Dataset: 171MB [02:40, 1.06MB/s]                                                                                                                                                             \n"
     ]
    },
    {
     "name": "stdout",
     "output_type": "stream",
     "text": [
      "All files found!\n"
     ]
    }
   ],
   "source": [
    "\"\"\"\n",
    "DON'T MODIFY ANYTHING IN THIS CELL THAT IS BELOW THIS LINE\n",
    "\"\"\"\n",
    "from urllib.request import urlretrieve\n",
    "from os.path import isfile, isdir\n",
    "from tqdm import tqdm\n",
    "import problem_unittests as tests\n",
    "import tarfile\n",
    "\n",
    "cifar10_dataset_folder_path = 'cifar-10-batches-py'\n",
    "\n",
    "class DLProgress(tqdm):\n",
    "    last_block = 0\n",
    "\n",
    "    def hook(self, block_num=1, block_size=1, total_size=None):\n",
    "        self.total = total_size\n",
    "        self.update((block_num - self.last_block) * block_size)\n",
    "        self.last_block = block_num\n",
    "\n",
    "if not isfile('cifar-10-python.tar.gz'):\n",
    "    with DLProgress(unit='B', unit_scale=True, miniters=1, desc='CIFAR-10 Dataset') as pbar:\n",
    "        urlretrieve(\n",
    "            'https://www.cs.toronto.edu/~kriz/cifar-10-python.tar.gz',\n",
    "            'cifar-10-python.tar.gz',\n",
    "            pbar.hook)\n",
    "\n",
    "if not isdir(cifar10_dataset_folder_path):\n",
    "    with tarfile.open('cifar-10-python.tar.gz') as tar:\n",
    "        tar.extractall()\n",
    "        tar.close()\n",
    "\n",
    "\n",
    "tests.test_folder_path(cifar10_dataset_folder_path)"
   ]
  },
  {
   "cell_type": "markdown",
   "metadata": {},
   "source": [
    "## Explore the Data\n",
    "The dataset is broken into batches to prevent your machine from running out of memory.  The CIFAR-10 dataset consists of 5 batches, named `data_batch_1`, `data_batch_2`, etc.. Each batch contains the labels and images that are one of the following:\n",
    "* airplane\n",
    "* automobile\n",
    "* bird\n",
    "* cat\n",
    "* deer\n",
    "* dog\n",
    "* frog\n",
    "* horse\n",
    "* ship\n",
    "* truck\n",
    "\n",
    "Understanding a dataset is part of making predictions on the data.  Play around with the code cell below by changing the `batch_id` and `sample_id`. The `batch_id` is the id for a batch (1-5). The `sample_id` is the id for a image and label pair in the batch.\n",
    "\n",
    "Ask yourself \"What are all possible labels?\", \"What is the range of values for the image data?\", \"Are the labels in order or random?\".  Answers to questions like these will help you preprocess the data and end up with better predictions."
   ]
  },
  {
   "cell_type": "code",
   "execution_count": 2,
   "metadata": {
    "collapsed": false
   },
   "outputs": [
    {
     "name": "stdout",
     "output_type": "stream",
     "text": [
      "\n",
      "Stats of batch 1:\n",
      "Samples: 10000\n",
      "Label Counts: {0: 1005, 1: 974, 2: 1032, 3: 1016, 4: 999, 5: 937, 6: 1030, 7: 1001, 8: 1025, 9: 981}\n",
      "First 20 Labels: [6, 9, 9, 4, 1, 1, 2, 7, 8, 3, 4, 7, 7, 2, 9, 9, 9, 3, 2, 6]\n",
      "\n",
      "Example of Image 5:\n",
      "Image - Min Value: 0 Max Value: 252\n",
      "Image - Shape: (32, 32, 3)\n",
      "Label - Label Id: 1 Name: automobile\n"
     ]
    },
    {
     "data": {
      "image/png": "[encoded data removed]",
      "text/plain": [
       "<matplotlib.figure.Figure at 0x20d979205f8>"
      ]
     },
     "metadata": {
      "image/png": {
       "height": 250,
       "width": 253
      }
     },
     "output_type": "display_data"
    }
   ],
   "source": [
    "%matplotlib inline\n",
    "%config InlineBackend.figure_format = 'retina'\n",
    "\n",
    "import helper\n",
    "import numpy as np\n",
    "\n",
    "# Explore the dataset\n",
    "batch_id = 1\n",
    "sample_id = 5\n",
    "helper.display_stats(cifar10_dataset_folder_path, batch_id, sample_id)"
   ]
  },
  {
   "cell_type": "markdown",
   "metadata": {},
   "source": [
    "## Implement Preprocess Functions\n",
    "### Normalize\n",
    "In the cell below, implement the `normalize` function to take in image data, `x`, and return it as a normalized Numpy array. The values should be in the range of 0 to 1, inclusive.  The return object should be the same shape as `x`."
   ]
  },
  {
   "cell_type": "code",
   "execution_count": 3,
   "metadata": {
    "collapsed": false
   },
   "outputs": [
    {
     "name": "stdout",
     "output_type": "stream",
     "text": [
      "Tests Passed\n"
     ]
    }
   ],
   "source": [
    "def normalize(x):\n",
    "    \"\"\"\n",
    "    Normalize a list of sample image data in the range of 0 to 1\n",
    "    : x: List of image data.  The image shape is (32, 32, 3)\n",
    "    : return: Numpy array of normalize data\n",
    "    \"\"\"\n",
    "    #Divide by 255\n",
    "    \n",
    "    divisor = lambda n: n/255\n",
    "    return np.array([divisor(xi) for xi in x])\n",
    "\n",
    "\n",
    "\"\"\"\n",
    "DON'T MODIFY ANYTHING IN THIS CELL THAT IS BELOW THIS LINE\n",
    "\"\"\"\n",
    "tests.test_normalize(normalize)"
   ]
  },
  {
   "cell_type": "markdown",
   "metadata": {},
   "source": [
    "### One-hot encode\n",
    "Just like the previous code cell, you'll be implementing a function for preprocessing.  This time, you'll implement the `one_hot_encode` function. The input, `x`, are a list of labels.  Implement the function to return the list of labels as One-Hot encoded Numpy array.  The possible values for labels are 0 to 9. The one-hot encoding function should return the same encoding for each value between each call to `one_hot_encode`.  Make sure to save the map of encodings outside the function.\n",
    "\n",
    "Hint: Don't reinvent the wheel."
   ]
  },
  {
   "cell_type": "code",
   "execution_count": 4,
   "metadata": {
    "collapsed": false
   },
   "outputs": [
    {
     "name": "stdout",
     "output_type": "stream",
     "text": [
      "Tests Passed\n"
     ]
    }
   ],
   "source": [
    "def one_hot_encode(x):\n",
    "    \"\"\"\n",
    "    One hot encode a list of sample labels. Return a one-hot encoded vector for each label.\n",
    "    : x: List of sample Labels\n",
    "    : return: Numpy array of one-hot encoded labels\n",
    "    \"\"\"\n",
    "    #Create vectors representing the numbers 0 -> 9 using one hot encoding\n",
    "    label_size = 10\n",
    "    ishot = lambda x, y: 1 if x == y else 0\n",
    "    ishot_vector = lambda l: np.array([ishot(l, i) for i in range(label_size)])\n",
    "\n",
    "    return np.array([ishot_vector(xi) for xi in x])\n",
    "\n",
    "\"\"\"\n",
    "DON'T MODIFY ANYTHING IN THIS CELL THAT IS BELOW THIS LINE\n",
    "\"\"\"\n",
    "tests.test_one_hot_encode(one_hot_encode)"
   ]
  },
  {
   "cell_type": "markdown",
   "metadata": {},
   "source": [
    "### Randomize Data\n",
    "As you saw from exploring the data above, the order of the samples are randomized.  It doesn't hurt to randomize it again, but you don't need to for this dataset."
   ]
  },
  {
   "cell_type": "markdown",
   "metadata": {},
   "source": [
    "## Preprocess all the data and save it\n",
    "Running the code cell below will preprocess all the CIFAR-10 data and save it to file. The code below also uses 10% of the training data for validation."
   ]
  },
  {
   "cell_type": "code",
   "execution_count": 5,
   "metadata": {
    "collapsed": false
   },
   "outputs": [],
   "source": [
    "\"\"\"\n",
    "DON'T MODIFY ANYTHING IN THIS CELL\n",
    "\"\"\"\n",
    "# Preprocess Training, Validation, and Testing Data\n",
    "helper.preprocess_and_save_data(cifar10_dataset_folder_path, normalize, one_hot_encode)"
   ]
  },
  {
   "cell_type": "markdown",
   "metadata": {},
   "source": [
    "# Check Point\n",
    "This is your first checkpoint.  If you ever decide to come back to this notebook or have to restart the notebook, you can start from here.  The preprocessed data has been saved to disk."
   ]
  },
  {
   "cell_type": "code",
   "execution_count": 6,
   "metadata": {
    "collapsed": true
   },
   "outputs": [],
   "source": [
    "\"\"\"\n",
    "DON'T MODIFY ANYTHING IN THIS CELL\n",
    "\"\"\"\n",
    "import pickle\n",
    "import problem_unittests as tests\n",
    "import helper\n",
    "\n",
    "# Load the Preprocessed Validation data\n",
    "valid_features, valid_labels = pickle.load(open('preprocess_validation.p', mode='rb'))"
   ]
  },
  {
   "cell_type": "markdown",
   "metadata": {},
   "source": [
    "## Build the network\n",
    "For the neural network, you'll build each layer into a function.  Most of the code you've seen has been outside of functions. To test your code more thoroughly, we require that you put each layer in a function.  This allows us to give you better feedback and test for simple mistakes using our unittests before you submit your project.\n",
    "\n",
    ">**Note:** If you're finding it hard to dedicate enough time for this course each week, we've provided a small shortcut to this part of the project. In the next couple of problems, you'll have the option to use classes from the [TensorFlow Layers](https://www.tensorflow.org/api_docs/python/tf/layers) or [TensorFlow Layers (contrib)](https://www.tensorflow.org/api_guides/python/contrib.layers) packages to build each layer, except the layers you build in the \"Convolutional and Max Pooling Layer\" section.  TF Layers is similar to Keras's and TFLearn's abstraction to layers, so it's easy to pickup.\n",
    "\n",
    ">However, if you would like to get the most out of this course, try to solve all the problems _without_ using anything from the TF Layers packages. You **can** still use classes from other packages that happen to have the same name as ones you find in TF Layers! For example, instead of using the TF Layers version of the `conv2d` class, [tf.layers.conv2d](https://www.tensorflow.org/api_docs/python/tf/layers/conv2d), you would want to use the TF Neural Network version of `conv2d`, [tf.nn.conv2d](https://www.tensorflow.org/api_docs/python/tf/nn/conv2d). \n",
    "\n",
    "Let's begin!\n",
    "\n",
    "### Input\n",
    "The neural network needs to read the image data, one-hot encoded labels, and dropout keep probability. Implement the following functions\n",
    "* Implement `neural_net_image_input`\n",
    " * Return a [TF Placeholder](https://www.tensorflow.org/api_docs/python/tf/placeholder)\n",
    " * Set the shape using `image_shape` with batch size set to `None`.\n",
    " * Name the TensorFlow placeholder \"x\" using the TensorFlow `name` parameter in the [TF Placeholder](https://www.tensorflow.org/api_docs/python/tf/placeholder).\n",
    "* Implement `neural_net_label_input`\n",
    " * Return a [TF Placeholder](https://www.tensorflow.org/api_docs/python/tf/placeholder)\n",
    " * Set the shape using `n_classes` with batch size set to `None`.\n",
    " * Name the TensorFlow placeholder \"y\" using the TensorFlow `name` parameter in the [TF Placeholder](https://www.tensorflow.org/api_docs/python/tf/placeholder).\n",
    "* Implement `neural_net_keep_prob_input`\n",
    " * Return a [TF Placeholder](https://www.tensorflow.org/api_docs/python/tf/placeholder) for dropout keep probability.\n",
    " * Name the TensorFlow placeholder \"keep_prob\" using the TensorFlow `name` parameter in the [TF Placeholder](https://www.tensorflow.org/api_docs/python/tf/placeholder).\n",
    "\n",
    "These names will be used at the end of the project to load your saved model.\n",
    "\n",
    "Note: `None` for shapes in TensorFlow allow for a dynamic size."
   ]
  },
  {
   "cell_type": "code",
   "execution_count": 7,
   "metadata": {
    "collapsed": false
   },
   "outputs": [
    {
     "name": "stdout",
     "output_type": "stream",
     "text": [
      "Image Input Tests Passed.\n",
      "Label Input Tests Passed.\n",
      "Keep Prob Tests Passed.\n"
     ]
    }
   ],
   "source": [
    "import tensorflow as tf\n",
    "\n",
    "def neural_net_image_input(image_shape):\n",
    "    \"\"\"\n",
    "    Return a Tensor for a bach of image input\n",
    "    : image_shape: Shape of the images\n",
    "    : return: Tensor for image input.\n",
    "    \"\"\"\n",
    "    return tf.placeholder(tf.float32, \n",
    "                            shape=[None, image_shape[0], image_shape[1], image_shape[2]], \n",
    "                            name='x')\n",
    "\n",
    "\n",
    "def neural_net_label_input(n_classes):\n",
    "    \"\"\"\n",
    "    Return a Tensor for a batch of label input\n",
    "    : n_classes: Number of classes\n",
    "    : return: Tensor for label input.\n",
    "    \"\"\"\n",
    "    return tf.placeholder(tf.float32, \n",
    "                            shape=[None, n_classes], \n",
    "                            name='y')\n",
    "\n",
    "\n",
    "def neural_net_keep_prob_input():\n",
    "    \"\"\"\n",
    "    Return a Tensor for keep probability\n",
    "    : return: Tensor for keep probability.\n",
    "    \"\"\"\n",
    "    # TODO: Implement Function\n",
    "    return tf.placeholder(tf.float32,\n",
    "                            shape=None,\n",
    "                            name='keep_prob')\n",
    "\n",
    "\n",
    "\"\"\"\n",
    "DON'T MODIFY ANYTHING IN THIS CELL THAT IS BELOW THIS LINE\n",
    "\"\"\"\n",
    "tf.reset_default_graph()\n",
    "tests.test_nn_image_inputs(neural_net_image_input)\n",
    "tests.test_nn_label_inputs(neural_net_label_input)\n",
    "tests.test_nn_keep_prob_inputs(neural_net_keep_prob_input)"
   ]
  },
  {
   "cell_type": "markdown",
   "metadata": {},
   "source": [
    "### Convolution and Max Pooling Layer\n",
    "Convolution layers have a lot of success with images. For this code cell, you should implement the function `conv2d_maxpool` to apply convolution then max pooling:\n",
    "* Create the weight and bias using `conv_ksize`, `conv_num_outputs` and the shape of `x_tensor`.\n",
    "* Apply a convolution to `x_tensor` using weight and `conv_strides`.\n",
    " * We recommend you use same padding, but you're welcome to use any padding.\n",
    "* Add bias\n",
    "* Add a nonlinear activation to the convolution.\n",
    "* Apply Max Pooling using `pool_ksize` and `pool_strides`.\n",
    " * We recommend you use same padding, but you're welcome to use any padding.\n",
    "\n",
    "**Note:** You **can't** use [TensorFlow Layers](https://www.tensorflow.org/api_docs/python/tf/layers) or [TensorFlow Layers (contrib)](https://www.tensorflow.org/api_guides/python/contrib.layers) for **this** layer, but you can still use TensorFlow's [Neural Network](https://www.tensorflow.org/api_docs/python/tf/nn) package. You may still use the shortcut option for all the **other** layers."
   ]
  },
  {
   "cell_type": "code",
   "execution_count": 8,
   "metadata": {
    "collapsed": true
   },
   "outputs": [],
   "source": [
    "def weight_var(shape):\n",
    "    #Initialize Weight Variable, with stddev to prevent dead neurons\n",
    "    return tf.Variable(tf.truncated_normal(shape, stddev=0.05))\n",
    "\n",
    "def bias_var(num_outputs):\n",
    "    #Initalize Bias Variable with 0.1 to prevent dead neurons\n",
    "    return tf.Variable(tf.constant(0.05, shape=tf.TensorShape(num_outputs)))"
   ]
  },
  {
   "cell_type": "markdown",
   "metadata": {},
   "source": [
    "### Flatten Layer\n",
    "Implement the `flatten` function to change the dimension of `x_tensor` from a 4-D tensor to a 2-D tensor.  The output should be the shape (*Batch Size*, *Flattened Image Size*). Shortcut option: you can use classes from the [TensorFlow Layers](https://www.tensorflow.org/api_docs/python/tf/layers) or [TensorFlow Layers (contrib)](https://www.tensorflow.org/api_guides/python/contrib.layers) packages for this layer. For more of a challenge, only use other TensorFlow packages."
   ]
  },
  {
   "cell_type": "code",
   "execution_count": 9,
   "metadata": {
    "collapsed": false
   },
   "outputs": [
    {
     "name": "stdout",
     "output_type": "stream",
     "text": [
      "Tests Passed\n"
     ]
    }
   ],
   "source": [
    "def conv2d_maxpool(x_tensor, conv_num_outputs, conv_ksize, conv_strides, pool_ksize, pool_strides):\n",
    "    \"\"\"\n",
    "    Apply convolution then max pooling to x_tensor\n",
    "    :param x_tensor: TensorFlow Tensor\n",
    "    :param conv_num_outputs: Number of outputs for the convolutional layer\n",
    "    :param conv_ksize: kernal size 2-D Tuple for the convolutional layer\n",
    "    :param conv_strides: Stride 2-D Tuple for convolution\n",
    "    :param pool_ksize: kernal size 2-D Tuple for pool\n",
    "    :param pool_strides: Stride 2-D Tuple for pool\n",
    "    : return: A tensor that represents convolution and max pooling of x_tensor\n",
    "    \"\"\"\n",
    "    #Get Tensor Shape\n",
    "    x_tensor_shape = x_tensor.get_shape().as_list()\n",
    "    #Generate Weight based off of ksize, tensor depth, and conv_num_outputs\n",
    "    weight = weight_var((conv_ksize[0], conv_ksize[1], x_tensor_shape[3], conv_num_outputs))\n",
    "    #Generate Bias based off of conv_num_outputs\n",
    "    bias = bias_var(conv_num_outputs)\n",
    "    #Create Conv Layer From x_tensor, add Bias\n",
    "    conv_layer = tf.nn.conv2d(x_tensor, weight, strides=[1, conv_strides[0], conv_strides[1], 1], padding='SAME') + bias\n",
    "    #Apply ReLU Activation Function\n",
    "    conv_layer = tf.nn.relu(conv_layer)\n",
    "    #Return Max Pooling\n",
    "    return tf.nn.max_pool(conv_layer,\n",
    "                            ksize=[1, pool_ksize[0], pool_ksize[1], 1],\n",
    "                            strides=[1, pool_strides[0], pool_strides[1], 1],\n",
    "                            padding='SAME')\n",
    "\n",
    "\n",
    "\"\"\"\n",
    "DON'T MODIFY ANYTHING IN THIS CELL THAT IS BELOW THIS LINE\n",
    "\"\"\"\n",
    "tests.test_con_pool(conv2d_maxpool)"
   ]
  },
  {
   "cell_type": "code",
   "execution_count": 10,
   "metadata": {
    "collapsed": false
   },
   "outputs": [
    {
     "name": "stdout",
     "output_type": "stream",
     "text": [
      "Tests Passed\n"
     ]
    }
   ],
   "source": [
    "def flatten(x_tensor):\n",
    "    \"\"\"\n",
    "    Flatten x_tensor to (Batch Size, Flattened Image Size)\n",
    "    : x_tensor: A tensor of size (Batch Size, ...), where ... are the image dimensions.\n",
    "    : return: A tensor of size (Batch Size, Flattened Image Size).\n",
    "    \"\"\"\n",
    "    #Get Tensor Shape\n",
    "    shape = x_tensor.get_shape().as_list()\n",
    "    #Flatten\n",
    "    return tf.reshape(x_tensor, [-1,shape[1]*shape[2]*shape[3]])\n",
    "\n",
    "\n",
    "\"\"\"\n",
    "DON'T MODIFY ANYTHING IN THIS CELL THAT IS BELOW THIS LINE\n",
    "\"\"\"\n",
    "tests.test_flatten(flatten)"
   ]
  },
  {
   "cell_type": "markdown",
   "metadata": {},
   "source": [
    "### Fully-Connected Layer\n",
    "Implement the `fully_conn` function to apply a fully connected layer to `x_tensor` with the shape (*Batch Size*, *num_outputs*). Shortcut option: you can use classes from the [TensorFlow Layers](https://www.tensorflow.org/api_docs/python/tf/layers) or [TensorFlow Layers (contrib)](https://www.tensorflow.org/api_guides/python/contrib.layers) packages for this layer. For more of a challenge, only use other TensorFlow packages."
   ]
  },
  {
   "cell_type": "code",
   "execution_count": 11,
   "metadata": {
    "collapsed": false
   },
   "outputs": [
    {
     "name": "stdout",
     "output_type": "stream",
     "text": [
      "Tests Passed\n"
     ]
    }
   ],
   "source": [
    "def fully_conn(x_tensor, num_outputs):\n",
    "    \"\"\"\n",
    "    Apply a fully connected layer to x_tensor using weight and bias\n",
    "    : x_tensor: A 2-D tensor where the first dimension is batch size.\n",
    "    : num_outputs: The number of output that the new tensor should be.\n",
    "    : return: A 2-D tensor where the second dimension is num_outputs.\n",
    "    \"\"\"\n",
    "    #Generate Weights\n",
    "    weights = weight_var((x_tensor.get_shape().as_list()[1], num_outputs))\n",
    "    #Generate Biases\n",
    "    biases = bias_var(num_outputs)\n",
    "    #Generate Fully Connected Layer, Matrix Multiply, Add, Activate using Relu\n",
    "    return tf.nn.relu(tf.matmul(x_tensor, weights) + biases)\n",
    "\n",
    "\"\"\"\n",
    "DON'T MODIFY ANYTHING IN THIS CELL THAT IS BELOW THIS LINE\n",
    "\"\"\"\n",
    "tests.test_fully_conn(fully_conn)"
   ]
  },
  {
   "cell_type": "markdown",
   "metadata": {},
   "source": [
    "### Output Layer\n",
    "Implement the `output` function to apply a fully connected layer to `x_tensor` with the shape (*Batch Size*, *num_outputs*). Shortcut option: you can use classes from the [TensorFlow Layers](https://www.tensorflow.org/api_docs/python/tf/layers) or [TensorFlow Layers (contrib)](https://www.tensorflow.org/api_guides/python/contrib.layers) packages for this layer. For more of a challenge, only use other TensorFlow packages.\n",
    "\n",
    "**Note:** Activation, softmax, or cross entropy should **not** be applied to this."
   ]
  },
  {
   "cell_type": "code",
   "execution_count": 12,
   "metadata": {
    "collapsed": false
   },
   "outputs": [
    {
     "name": "stdout",
     "output_type": "stream",
     "text": [
      "Tests Passed\n"
     ]
    }
   ],
   "source": [
    "def output(x_tensor, num_outputs):\n",
    "    \"\"\"\n",
    "    Apply a output layer to x_tensor using weight and bias\n",
    "    : x_tensor: A 2-D tensor where the first dimension is batch size.\n",
    "    : num_outputs: The number of output that the new tensor should be.\n",
    "    : return: A 2-D tensor where the second dimension is num_outputs.\n",
    "    \"\"\"\n",
    "    #Generate Weights\n",
    "    weights = weight_var((x_tensor.get_shape().as_list()[1], num_outputs))\n",
    "    #Generate Biases\n",
    "    biases = bias_var(num_outputs)\n",
    "    #Return output, matrix multiply add biases, no activation\n",
    "    return tf.matmul(x_tensor, weights) + biases\n",
    "\n",
    "\n",
    "\"\"\"\n",
    "DON'T MODIFY ANYTHING IN THIS CELL THAT IS BELOW THIS LINE\n",
    "\"\"\"\n",
    "tests.test_output(output)"
   ]
  },
  {
   "cell_type": "markdown",
   "metadata": {},
   "source": [
    "### Create Convolutional Model\n",
    "Implement the function `conv_net` to create a convolutional neural network model. The function takes in a batch of images, `x`, and outputs logits.  Use the layers you created above to create this model:\n",
    "\n",
    "* Apply 1, 2, or 3 Convolution and Max Pool layers\n",
    "* Apply a Flatten Layer\n",
    "* Apply 1, 2, or 3 Fully Connected Layers\n",
    "* Apply an Output Layer\n",
    "* Return the output\n",
    "* Apply [TensorFlow's Dropout](https://www.tensorflow.org/api_docs/python/tf/nn/dropout) to one or more layers in the model using `keep_prob`. "
   ]
  },
  {
   "cell_type": "code",
   "execution_count": 13,
   "metadata": {
    "collapsed": false
   },
   "outputs": [
    {
     "name": "stdout",
     "output_type": "stream",
     "text": [
      "Neural Network Built!\n"
     ]
    }
   ],
   "source": [
    "def conv_net(x, keep_prob):\n",
    "    \"\"\"\n",
    "    Create a convolutional neural network model\n",
    "    : x: Placeholder tensor that holds image data.\n",
    "    : keep_prob: Placeholder tensor that hold dropout keep probability.\n",
    "    : return: Tensor that represents logits\n",
    "    \"\"\"\n",
    "    # TODO: Apply 1, 2, or 3 Convolution and Max Pool layers\n",
    "    #    Play around with different number of outputs, kernel size and stride\n",
    "    # Function Definition from Above:\n",
    "    #    conv2d_maxpool(x_tensor, conv_num_outputs, conv_ksize, conv_strides, pool_ksize, pool_strides)\n",
    "    \n",
    "    #Set Starting Values\n",
    "    conv_ksize = [5,5]\n",
    "    conv_strides = [1,1]\n",
    "    pool_ksize = [2,2]\n",
    "    pool_strides = [2,2]\n",
    "    num_outputs = 10\n",
    "    \n",
    "    #Generate First Convolutional Layer using 32 Size\n",
    "    conv1 = conv2d_maxpool(x, 32, conv_ksize, conv_strides, pool_ksize, pool_strides)\n",
    "    \n",
    "    #Generate Second Convolutional Layer using 64 Size\n",
    "    conv2 = conv2d_maxpool(conv1, 64, conv_ksize, conv_strides, pool_ksize, pool_strides)\n",
    "    \n",
    "    #Generate Third Convolutional Layer using 128 Size\n",
    "    conv3 = conv2d_maxpool(conv2, 128, conv_ksize, conv_strides, pool_ksize, pool_strides)\n",
    "    \n",
    "    #Flatten, Prep for Fully Connected Layer\n",
    "    flat1 = flatten(conv2)\n",
    "    \n",
    "    #Generate Fully Connected Layer\n",
    "    fc1 = fully_conn(flat1, 1664)\n",
    "    \n",
    "    #Apply Dropout To Reduce Overfitting\n",
    "    do1 = tf.nn.dropout(fc1, keep_prob)\n",
    "    \n",
    "    #Return Output\n",
    "    return output(do1, num_outputs)\n",
    "\n",
    "\n",
    "\"\"\"\n",
    "DON'T MODIFY ANYTHING IN THIS CELL THAT IS BELOW THIS LINE\n",
    "\"\"\"\n",
    "\n",
    "##############################\n",
    "## Build the Neural Network ##\n",
    "##############################\n",
    "\n",
    "# Remove previous weights, bias, inputs, etc..\n",
    "tf.reset_default_graph()\n",
    "\n",
    "# Inputs\n",
    "x = neural_net_image_input((32, 32, 3))\n",
    "y = neural_net_label_input(10)\n",
    "keep_prob = neural_net_keep_prob_input()\n",
    "\n",
    "# Model\n",
    "logits = conv_net(x, keep_prob)\n",
    "\n",
    "# Name logits Tensor, so that is can be loaded from disk after training\n",
    "logits = tf.identity(logits, name='logits')\n",
    "\n",
    "# Loss and Optimizer\n",
    "cost = tf.reduce_mean(tf.nn.softmax_cross_entropy_with_logits(logits=logits, labels=y))\n",
    "optimizer = tf.train.AdamOptimizer().minimize(cost)\n",
    "\n",
    "# Accuracy\n",
    "correct_pred = tf.equal(tf.argmax(logits, 1), tf.argmax(y, 1))\n",
    "accuracy = tf.reduce_mean(tf.cast(correct_pred, tf.float32), name='accuracy')\n",
    "\n",
    "tests.test_conv_net(conv_net)"
   ]
  },
  {
   "cell_type": "markdown",
   "metadata": {},
   "source": [
    "## Train the Neural Network\n",
    "### Single Optimization\n",
    "Implement the function `train_neural_network` to do a single optimization.  The optimization should use `optimizer` to optimize in `session` with a `feed_dict` of the following:\n",
    "* `x` for image input\n",
    "* `y` for labels\n",
    "* `keep_prob` for keep probability for dropout\n",
    "\n",
    "This function will be called for each batch, so `tf.global_variables_initializer()` has already been called.\n",
    "\n",
    "Note: Nothing needs to be returned. This function is only optimizing the neural network."
   ]
  },
  {
   "cell_type": "code",
   "execution_count": 14,
   "metadata": {
    "collapsed": false
   },
   "outputs": [
    {
     "name": "stdout",
     "output_type": "stream",
     "text": [
      "Tests Passed\n"
     ]
    }
   ],
   "source": [
    "def train_neural_network(session, optimizer, keep_probability, feature_batch, label_batch):\n",
    "    \"\"\"\n",
    "    Optimize the session on a batch of images and labels\n",
    "    : session: Current TensorFlow session\n",
    "    : optimizer: TensorFlow optimizer function\n",
    "    : keep_probability: keep probability\n",
    "    : feature_batch: Batch of Numpy image data\n",
    "    : label_batch: Batch of Numpy label data\n",
    "    \"\"\"\n",
    "    with session.as_default() as sess:\n",
    "        #Run Optimizer\n",
    "        sess.run(optimizer, feed_dict={x: feature_batch, y: label_batch, keep_prob: keep_probability})\n",
    "    pass\n",
    "\n",
    "\n",
    "\"\"\"\n",
    "DON'T MODIFY ANYTHING IN THIS CELL THAT IS BELOW THIS LINE\n",
    "\"\"\"\n",
    "tests.test_train_nn(train_neural_network)"
   ]
  },
  {
   "cell_type": "markdown",
   "metadata": {},
   "source": [
    "### Show Stats\n",
    "Implement the function `print_stats` to print loss and validation accuracy.  Use the global variables `valid_features` and `valid_labels` to calculate validation accuracy.  Use a keep probability of `1.0` to calculate the loss and validation accuracy."
   ]
  },
  {
   "cell_type": "code",
   "execution_count": 15,
   "metadata": {
    "collapsed": false
   },
   "outputs": [],
   "source": [
    "def print_stats(session, feature_batch, label_batch, cost, accuracy):\n",
    "    \"\"\"\n",
    "    Print information about loss and validation accuracy\n",
    "    : session: Current TensorFlow session\n",
    "    : feature_batch: Batch of Numpy image data\n",
    "    : label_batch: Batch of Numpy label data\n",
    "    : cost: TensorFlow cost function\n",
    "    : accuracy: TensorFlow accuracy function\n",
    "    \"\"\"\n",
    "    #Print & Calculate Accuracy & Loss\n",
    "    print(\"Valid Acc:\", \n",
    "          accuracy.eval(feed_dict={x: valid_features, y: valid_labels, keep_prob: 1.0}),\n",
    "          \"Step Acc:\", \n",
    "          accuracy.eval(feed_dict={x: feature_batch, y: label_batch, keep_prob: 1.0}),\n",
    "          \"Loss:\", \n",
    "          cost.eval(feed_dict={x: feature_batch, y: label_batch, keep_prob: 1.0}))\n",
    "    \n",
    "    pass"
   ]
  },
  {
   "cell_type": "markdown",
   "metadata": {},
   "source": [
    "### Hyperparameters\n",
    "Tune the following parameters:\n",
    "* Set `epochs` to the number of iterations until the network stops learning or start overfitting\n",
    "* Set `batch_size` to the highest number that your machine has memory for.  Most people set them to common sizes of memory:\n",
    " * 64\n",
    " * 128\n",
    " * 256\n",
    " * ...\n",
    "* Set `keep_probability` to the probability of keeping a node using dropout"
   ]
  },
  {
   "cell_type": "code",
   "execution_count": 16,
   "metadata": {
    "collapsed": true
   },
   "outputs": [],
   "source": [
    "# TODO: Tune Parameters\n",
    "epochs = 70\n",
    "batch_size = 1024\n",
    "keep_probability = 0.5"
   ]
  },
  {
   "cell_type": "markdown",
   "metadata": {},
   "source": [
    "### Train on a Single CIFAR-10 Batch\n",
    "Instead of training the neural network on all the CIFAR-10 batches of data, let's use a single batch. This should save time while you iterate on the model to get a better accuracy.  Once the final validation accuracy is 50% or greater, run the model on all the data in the next section."
   ]
  },
  {
   "cell_type": "code",
   "execution_count": 18,
   "metadata": {
    "collapsed": false
   },
   "outputs": [
    {
     "name": "stdout",
     "output_type": "stream",
     "text": [
      "Checking the Training on a Single Batch...\n",
      "Epoch  1, CIFAR-10 Batch 1:  Valid Acc: 0.101 Step Acc: 0.0891089 Loss: 2.28129\n",
      "Epoch  2, CIFAR-10 Batch 1:  Valid Acc: 0.2956 Step Acc: 0.300743 Loss: 2.06196\n",
      "Epoch  3, CIFAR-10 Batch 1:  Valid Acc: 0.3362 Step Acc: 0.337871 Loss: 1.88411\n",
      "Epoch  4, CIFAR-10 Batch 1:  Valid Acc: 0.3672 Step Acc: 0.376238 Loss: 1.75129\n",
      "Epoch  5, CIFAR-10 Batch 1:  Valid Acc: 0.4154 Step Acc: 0.413366 Loss: 1.65234\n",
      "Epoch  6, CIFAR-10 Batch 1:  Valid Acc: 0.422 Step Acc: 0.449257 Loss: 1.58594\n",
      "Epoch  7, CIFAR-10 Batch 1:  Valid Acc: 0.4328 Step Acc: 0.455446 Loss: 1.53924\n",
      "Epoch  8, CIFAR-10 Batch 1:  Valid Acc: 0.4666 Step Acc: 0.498762 Loss: 1.42744\n",
      "Epoch  9, CIFAR-10 Batch 1:  Valid Acc: 0.4746 Step Acc: 0.513614 Loss: 1.36687\n",
      "Epoch 10, CIFAR-10 Batch 1:  Valid Acc: 0.4926 Step Acc: 0.545792 Loss: 1.28959\n",
      "Epoch 11, CIFAR-10 Batch 1:  Valid Acc: 0.51 Step Acc: 0.591584 Loss: 1.21263\n",
      "Epoch 12, CIFAR-10 Batch 1:  Valid Acc: 0.5194 Step Acc: 0.618812 Loss: 1.15722\n",
      "Epoch 13, CIFAR-10 Batch 1:  Valid Acc: 0.5162 Step Acc: 0.628713 Loss: 1.11988\n",
      "Epoch 14, CIFAR-10 Batch 1:  Valid Acc: 0.5352 Step Acc: 0.627475 Loss: 1.07731\n",
      "Epoch 15, CIFAR-10 Batch 1:  Valid Acc: 0.5344 Step Acc: 0.65099 Loss: 1.03729\n",
      "Epoch 16, CIFAR-10 Batch 1:  Valid Acc: 0.5378 Step Acc: 0.662129 Loss: 0.982305\n",
      "Epoch 17, CIFAR-10 Batch 1:  Valid Acc: 0.5498 Step Acc: 0.696782 Loss: 0.926676\n",
      "Epoch 18, CIFAR-10 Batch 1:  Valid Acc: 0.5484 Step Acc: 0.69802 Loss: 0.922701\n",
      "Epoch 19, CIFAR-10 Batch 1:  Valid Acc: 0.5602 Step Acc: 0.735149 Loss: 0.841902\n",
      "Epoch 20, CIFAR-10 Batch 1:  Valid Acc: 0.5562 Step Acc: 0.746287 Loss: 0.809183\n",
      "Epoch 21, CIFAR-10 Batch 1:  Valid Acc: 0.5668 Step Acc: 0.759901 Loss: 0.763189\n",
      "Epoch 22, CIFAR-10 Batch 1:  Valid Acc: 0.57 Step Acc: 0.767327 Loss: 0.734092\n",
      "Epoch 23, CIFAR-10 Batch 1:  Valid Acc: 0.5718 Step Acc: 0.788366 Loss: 0.685944\n",
      "Epoch 24, CIFAR-10 Batch 1:  Valid Acc: 0.5688 Step Acc: 0.798267 Loss: 0.652612\n",
      "Epoch 25, CIFAR-10 Batch 1:  Valid Acc: 0.5804 Step Acc: 0.804455 Loss: 0.618057\n",
      "Epoch 26, CIFAR-10 Batch 1:  Valid Acc: 0.5754 Step Acc: 0.835396 Loss: 0.566555\n",
      "Epoch 27, CIFAR-10 Batch 1:  Valid Acc: 0.585 Step Acc: 0.844059 Loss: 0.518944\n",
      "Epoch 28, CIFAR-10 Batch 1:  Valid Acc: 0.582 Step Acc: 0.867574 Loss: 0.476677\n",
      "Epoch 29, CIFAR-10 Batch 1:  Valid Acc: 0.5798 Step Acc: 0.877475 Loss: 0.44144\n",
      "Epoch 30, CIFAR-10 Batch 1:  Valid Acc: 0.5794 Step Acc: 0.886139 Loss: 0.420139\n",
      "Epoch 31, CIFAR-10 Batch 1:  Valid Acc: 0.5808 Step Acc: 0.90099 Loss: 0.375931\n",
      "Epoch 32, CIFAR-10 Batch 1:  Valid Acc: 0.5786 Step Acc: 0.902228 Loss: 0.370117\n",
      "Epoch 33, CIFAR-10 Batch 1:  Valid Acc: 0.5794 Step Acc: 0.913366 Loss: 0.333039\n",
      "Epoch 34, CIFAR-10 Batch 1:  Valid Acc: 0.5832 Step Acc: 0.92203 Loss: 0.30698\n",
      "Epoch 35, CIFAR-10 Batch 1:  Valid Acc: 0.5778 Step Acc: 0.930693 Loss: 0.288394\n",
      "Epoch 36, CIFAR-10 Batch 1:  Valid Acc: 0.5732 Step Acc: 0.939356 Loss: 0.288141\n",
      "Epoch 37, CIFAR-10 Batch 1:  Valid Acc: 0.5718 Step Acc: 0.92203 Loss: 0.296413\n",
      "Epoch 38, CIFAR-10 Batch 1:  Valid Acc: 0.579 Step Acc: 0.950495 Loss: 0.234121\n",
      "Epoch 39, CIFAR-10 Batch 1:  Valid Acc: 0.5712 Step Acc: 0.94802 Loss: 0.229934\n",
      "Epoch 40, CIFAR-10 Batch 1:  Valid Acc: 0.5744 Step Acc: 0.957921 Loss: 0.20845\n",
      "Epoch 41, CIFAR-10 Batch 1:  Valid Acc: 0.5728 Step Acc: 0.955446 Loss: 0.195538\n",
      "Epoch 42, CIFAR-10 Batch 1:  Valid Acc: 0.5658 Step Acc: 0.964109 Loss: 0.171874\n",
      "Epoch 43, CIFAR-10 Batch 1:  Valid Acc: 0.5658 Step Acc: 0.970297 Loss: 0.163407\n",
      "Epoch 44, CIFAR-10 Batch 1:  Valid Acc: 0.5704 Step Acc: 0.972772 Loss: 0.150403\n",
      "Epoch 45, CIFAR-10 Batch 1:  Valid Acc: 0.5864 Step Acc: 0.977723 Loss: 0.128846\n",
      "Epoch 46, CIFAR-10 Batch 1:  Valid Acc: 0.5734 Step Acc: 0.97896 Loss: 0.140557\n",
      "Epoch 47, CIFAR-10 Batch 1:  Valid Acc: 0.5762 Step Acc: 0.972772 Loss: 0.121708\n",
      "Epoch 48, CIFAR-10 Batch 1:  Valid Acc: 0.5832 Step Acc: 0.982673 Loss: 0.0887664\n",
      "Epoch 49, CIFAR-10 Batch 1:  Valid Acc: 0.5856 Step Acc: 0.990099 Loss: 0.0761166\n",
      "Epoch 50, CIFAR-10 Batch 1:  Valid Acc: 0.5848 Step Acc: 0.988861 Loss: 0.0739016\n",
      "Epoch 51, CIFAR-10 Batch 1:  Valid Acc: 0.5854 Step Acc: 0.987624 Loss: 0.0661433\n",
      "Epoch 52, CIFAR-10 Batch 1:  Valid Acc: 0.5818 Step Acc: 0.987624 Loss: 0.0633148\n",
      "Epoch 53, CIFAR-10 Batch 1:  Valid Acc: 0.5786 Step Acc: 0.992574 Loss: 0.0618685\n",
      "Epoch 54, CIFAR-10 Batch 1:  Valid Acc: 0.5814 Step Acc: 0.992574 Loss: 0.0574756\n",
      "Epoch 55, CIFAR-10 Batch 1:  Valid Acc: 0.5854 Step Acc: 0.993812 Loss: 0.0494576\n",
      "Epoch 56, CIFAR-10 Batch 1:  Valid Acc: 0.5864 Step Acc: 0.995049 Loss: 0.0448489\n",
      "Epoch 57, CIFAR-10 Batch 1:  Valid Acc: 0.582 Step Acc: 0.995049 Loss: 0.0486604\n",
      "Epoch 58, CIFAR-10 Batch 1:  Valid Acc: 0.5754 Step Acc: 0.996287 Loss: 0.0506046\n",
      "Epoch 59, CIFAR-10 Batch 1:  Valid Acc: 0.5706 Step Acc: 0.992574 Loss: 0.0486374\n",
      "Epoch 60, CIFAR-10 Batch 1:  Valid Acc: 0.566 Step Acc: 0.996287 Loss: 0.0480802\n",
      "Epoch 61, CIFAR-10 Batch 1:  Valid Acc: 0.562 Step Acc: 0.995049 Loss: 0.0586387\n",
      "Epoch 62, CIFAR-10 Batch 1:  Valid Acc: 0.5794 Step Acc: 0.997525 Loss: 0.0428539\n",
      "Epoch 63, CIFAR-10 Batch 1:  Valid Acc: 0.5826 Step Acc: 0.997525 Loss: 0.0420602\n",
      "Epoch 64, CIFAR-10 Batch 1:  Valid Acc: 0.5774 Step Acc: 0.993812 Loss: 0.0453536\n",
      "Epoch 65, CIFAR-10 Batch 1:  Valid Acc: 0.57 Step Acc: 0.990099 Loss: 0.0508492\n",
      "Epoch 66, CIFAR-10 Batch 1:  Valid Acc: 0.5708 Step Acc: 0.995049 Loss: 0.0413523\n",
      "Epoch 67, CIFAR-10 Batch 1:  Valid Acc: 0.5662 Step Acc: 0.998762 Loss: 0.0333684\n",
      "Epoch 68, CIFAR-10 Batch 1:  Valid Acc: 0.5706 Step Acc: 0.997525 Loss: 0.0347104\n",
      "Epoch 69, CIFAR-10 Batch 1:  Valid Acc: 0.5732 Step Acc: 1.0 Loss: 0.026707\n",
      "Epoch 70, CIFAR-10 Batch 1:  Valid Acc: 0.576 Step Acc: 0.995049 Loss: 0.0294656\n"
     ]
    }
   ],
   "source": [
    "\"\"\"\n",
    "DON'T MODIFY ANYTHING IN THIS CELL\n",
    "\"\"\"\n",
    "print('Checking the Training on a Single Batch...')\n",
    "with tf.Session() as sess:\n",
    "    # Initializing the variables\n",
    "    sess.run(tf.global_variables_initializer())\n",
    "    \n",
    "    # Training cycle\n",
    "    for epoch in range(epochs):\n",
    "        batch_i = 1\n",
    "        for batch_features, batch_labels in helper.load_preprocess_training_batch(batch_i, batch_size):\n",
    "            train_neural_network(sess, optimizer, keep_probability, batch_features, batch_labels)\n",
    "        print('Epoch {:>2}, CIFAR-10 Batch {}:  '.format(epoch + 1, batch_i), end='')\n",
    "        print_stats(sess, batch_features, batch_labels, cost, accuracy)"
   ]
  },
  {
   "cell_type": "markdown",
   "metadata": {},
   "source": [
    "### Fully Train the Model\n",
    "Now that you got a good accuracy with a single CIFAR-10 batch, try it with all five batches."
   ]
  },
  {
   "cell_type": "code",
   "execution_count": 19,
   "metadata": {
    "collapsed": false
   },
   "outputs": [
    {
     "name": "stdout",
     "output_type": "stream",
     "text": [
      "Training...\n",
      "Epoch  1, CIFAR-10 Batch 1:  Valid Acc: 0.1694 Step Acc: 0.149752 Loss: 2.2484\n",
      "Epoch  1, CIFAR-10 Batch 2:  Valid Acc: 0.3118 Step Acc: 0.294554 Loss: 1.99378\n",
      "Epoch  1, CIFAR-10 Batch 3:  Valid Acc: 0.3464 Step Acc: 0.367574 Loss: 1.81383\n",
      "Epoch  1, CIFAR-10 Batch 4:  Valid Acc: 0.3896 Step Acc: 0.371287 Loss: 1.7526\n",
      "Epoch  1, CIFAR-10 Batch 5:  Valid Acc: 0.3972 Step Acc: 0.417079 Loss: 1.69229\n",
      "Epoch  2, CIFAR-10 Batch 1:  Valid Acc: 0.4342 Step Acc: 0.429455 Loss: 1.63133\n",
      "Epoch  2, CIFAR-10 Batch 2:  Valid Acc: 0.453 Step Acc: 0.444307 Loss: 1.56388\n",
      "Epoch  2, CIFAR-10 Batch 3:  Valid Acc: 0.466 Step Acc: 0.477723 Loss: 1.43269\n",
      "Epoch  2, CIFAR-10 Batch 4:  Valid Acc: 0.4906 Step Acc: 0.483911 Loss: 1.41479\n",
      "Epoch  2, CIFAR-10 Batch 5:  Valid Acc: 0.4982 Step Acc: 0.517327 Loss: 1.3834\n",
      "Epoch  3, CIFAR-10 Batch 1:  Valid Acc: 0.5024 Step Acc: 0.509901 Loss: 1.39949\n",
      "Epoch  3, CIFAR-10 Batch 2:  Valid Acc: 0.516 Step Acc: 0.509901 Loss: 1.38938\n",
      "Epoch  3, CIFAR-10 Batch 3:  Valid Acc: 0.517 Step Acc: 0.533416 Loss: 1.25578\n",
      "Epoch  3, CIFAR-10 Batch 4:  Valid Acc: 0.5272 Step Acc: 0.555693 Loss: 1.25461\n",
      "Epoch  3, CIFAR-10 Batch 5:  Valid Acc: 0.5348 Step Acc: 0.586634 Loss: 1.24463\n",
      "Epoch  4, CIFAR-10 Batch 1:  Valid Acc: 0.5328 Step Acc: 0.554455 Loss: 1.26167\n",
      "Epoch  4, CIFAR-10 Batch 2:  Valid Acc: 0.5404 Step Acc: 0.539604 Loss: 1.30303\n",
      "Epoch  4, CIFAR-10 Batch 3:  Valid Acc: 0.5436 Step Acc: 0.57302 Loss: 1.14851\n",
      "Epoch  4, CIFAR-10 Batch 4:  Valid Acc: 0.5642 Step Acc: 0.596535 Loss: 1.15707\n",
      "Epoch  4, CIFAR-10 Batch 5:  Valid Acc: 0.5656 Step Acc: 0.634901 Loss: 1.1378\n",
      "Epoch  5, CIFAR-10 Batch 1:  Valid Acc: 0.5604 Step Acc: 0.580446 Loss: 1.18021\n",
      "Epoch  5, CIFAR-10 Batch 2:  Valid Acc: 0.57 Step Acc: 0.580446 Loss: 1.1918\n",
      "Epoch  5, CIFAR-10 Batch 3:  Valid Acc: 0.5712 Step Acc: 0.608911 Loss: 1.07079\n",
      "Epoch  5, CIFAR-10 Batch 4:  Valid Acc: 0.5924 Step Acc: 0.639851 Loss: 1.05325\n",
      "Epoch  5, CIFAR-10 Batch 5:  Valid Acc: 0.5926 Step Acc: 0.680693 Loss: 1.04125\n",
      "Epoch  6, CIFAR-10 Batch 1:  Valid Acc: 0.5762 Step Acc: 0.592822 Loss: 1.11684\n",
      "Epoch  6, CIFAR-10 Batch 2:  Valid Acc: 0.594 Step Acc: 0.617574 Loss: 1.10558\n",
      "Epoch  6, CIFAR-10 Batch 3:  Valid Acc: 0.5936 Step Acc: 0.639852 Loss: 0.993317\n",
      "Epoch  6, CIFAR-10 Batch 4:  Valid Acc: 0.6056 Step Acc: 0.652228 Loss: 0.983518\n",
      "Epoch  6, CIFAR-10 Batch 5:  Valid Acc: 0.6124 Step Acc: 0.689356 Loss: 0.960831\n",
      "Epoch  7, CIFAR-10 Batch 1:  Valid Acc: 0.6046 Step Acc: 0.634901 Loss: 1.01702\n",
      "Epoch  7, CIFAR-10 Batch 2:  Valid Acc: 0.6162 Step Acc: 0.658416 Loss: 1.02038\n",
      "Epoch  7, CIFAR-10 Batch 3:  Valid Acc: 0.6054 Step Acc: 0.664604 Loss: 0.92656\n",
      "Epoch  7, CIFAR-10 Batch 4:  Valid Acc: 0.6272 Step Acc: 0.689356 Loss: 0.904081\n",
      "Epoch  7, CIFAR-10 Batch 5:  Valid Acc: 0.6358 Step Acc: 0.746287 Loss: 0.880766\n",
      "Epoch  8, CIFAR-10 Batch 1:  Valid Acc: 0.6276 Step Acc: 0.667079 Loss: 0.940994\n",
      "Epoch  8, CIFAR-10 Batch 2:  Valid Acc: 0.6326 Step Acc: 0.67698 Loss: 0.957291\n",
      "Epoch  8, CIFAR-10 Batch 3:  Valid Acc: 0.6168 Step Acc: 0.679455 Loss: 0.891075\n",
      "Epoch  8, CIFAR-10 Batch 4:  Valid Acc: 0.6352 Step Acc: 0.712871 Loss: 0.842922\n",
      "Epoch  8, CIFAR-10 Batch 5:  Valid Acc: 0.6468 Step Acc: 0.751238 Loss: 0.816573\n",
      "Epoch  9, CIFAR-10 Batch 1:  Valid Acc: 0.6408 Step Acc: 0.685644 Loss: 0.888417\n",
      "Epoch  9, CIFAR-10 Batch 2:  Valid Acc: 0.6518 Step Acc: 0.704208 Loss: 0.874791\n",
      "Epoch  9, CIFAR-10 Batch 3:  Valid Acc: 0.634 Step Acc: 0.69802 Loss: 0.836181\n",
      "Epoch  9, CIFAR-10 Batch 4:  Valid Acc: 0.6468 Step Acc: 0.733911 Loss: 0.782781\n",
      "Epoch  9, CIFAR-10 Batch 5:  Valid Acc: 0.6492 Step Acc: 0.766089 Loss: 0.754829\n",
      "Epoch 10, CIFAR-10 Batch 1:  Valid Acc: 0.657 Step Acc: 0.716584 Loss: 0.819983\n",
      "Epoch 10, CIFAR-10 Batch 2:  Valid Acc: 0.6478 Step Acc: 0.727723 Loss: 0.837401\n",
      "Epoch 10, CIFAR-10 Batch 3:  Valid Acc: 0.6534 Step Acc: 0.738861 Loss: 0.745442\n",
      "Epoch 10, CIFAR-10 Batch 4:  Valid Acc: 0.6398 Step Acc: 0.742574 Loss: 0.756125\n",
      "Epoch 10, CIFAR-10 Batch 5:  Valid Acc: 0.6664 Step Acc: 0.787129 Loss: 0.699105\n",
      "Epoch 11, CIFAR-10 Batch 1:  Valid Acc: 0.6484 Step Acc: 0.722772 Loss: 0.815687\n",
      "Epoch 11, CIFAR-10 Batch 2:  Valid Acc: 0.6522 Step Acc: 0.74505 Loss: 0.788006\n",
      "Epoch 11, CIFAR-10 Batch 3:  Valid Acc: 0.6584 Step Acc: 0.751238 Loss: 0.72258\n",
      "Epoch 11, CIFAR-10 Batch 4:  Valid Acc: 0.6526 Step Acc: 0.757426 Loss: 0.695812\n",
      "Epoch 11, CIFAR-10 Batch 5:  Valid Acc: 0.6624 Step Acc: 0.804455 Loss: 0.662989\n",
      "Epoch 12, CIFAR-10 Batch 1:  Valid Acc: 0.6662 Step Acc: 0.752475 Loss: 0.730508\n",
      "Epoch 12, CIFAR-10 Batch 2:  Valid Acc: 0.6596 Step Acc: 0.753713 Loss: 0.719118\n",
      "Epoch 12, CIFAR-10 Batch 3:  Valid Acc: 0.6616 Step Acc: 0.774752 Loss: 0.660819\n",
      "Epoch 12, CIFAR-10 Batch 4:  Valid Acc: 0.6468 Step Acc: 0.79703 Loss: 0.628789\n",
      "Epoch 12, CIFAR-10 Batch 5:  Valid Acc: 0.6606 Step Acc: 0.804455 Loss: 0.63657\n",
      "Epoch 13, CIFAR-10 Batch 1:  Valid Acc: 0.6714 Step Acc: 0.772277 Loss: 0.6748\n",
      "Epoch 13, CIFAR-10 Batch 2:  Valid Acc: 0.677 Step Acc: 0.798267 Loss: 0.658856\n",
      "Epoch 13, CIFAR-10 Batch 3:  Valid Acc: 0.6694 Step Acc: 0.803218 Loss: 0.609315\n",
      "Epoch 13, CIFAR-10 Batch 4:  Valid Acc: 0.6588 Step Acc: 0.814356 Loss: 0.573994\n",
      "Epoch 13, CIFAR-10 Batch 5:  Valid Acc: 0.677 Step Acc: 0.826733 Loss: 0.568602\n",
      "Epoch 14, CIFAR-10 Batch 1:  Valid Acc: 0.6822 Step Acc: 0.784653 Loss: 0.629841\n",
      "Epoch 14, CIFAR-10 Batch 2:  Valid Acc: 0.6844 Step Acc: 0.811881 Loss: 0.604135\n",
      "Epoch 14, CIFAR-10 Batch 3:  Valid Acc: 0.6792 Step Acc: 0.832921 Loss: 0.551969\n",
      "Epoch 14, CIFAR-10 Batch 4:  Valid Acc: 0.676 Step Acc: 0.850248 Loss: 0.508673\n",
      "Epoch 14, CIFAR-10 Batch 5:  Valid Acc: 0.6812 Step Acc: 0.850248 Loss: 0.518396\n",
      "Epoch 15, CIFAR-10 Batch 1:  Valid Acc: 0.6804 Step Acc: 0.815594 Loss: 0.581599\n",
      "Epoch 15, CIFAR-10 Batch 2:  Valid Acc: 0.681 Step Acc: 0.821782 Loss: 0.574705\n",
      "Epoch 15, CIFAR-10 Batch 3:  Valid Acc: 0.6864 Step Acc: 0.836634 Loss: 0.49885\n",
      "Epoch 15, CIFAR-10 Batch 4:  Valid Acc: 0.6772 Step Acc: 0.862624 Loss: 0.459038\n",
      "Epoch 15, CIFAR-10 Batch 5:  Valid Acc: 0.685 Step Acc: 0.862624 Loss: 0.460518\n",
      "Epoch 16, CIFAR-10 Batch 1:  Valid Acc: 0.6916 Step Acc: 0.835396 Loss: 0.507954\n",
      "Epoch 16, CIFAR-10 Batch 2:  Valid Acc: 0.6994 Step Acc: 0.85396 Loss: 0.505967\n",
      "Epoch 16, CIFAR-10 Batch 3:  Valid Acc: 0.6884 Step Acc: 0.85396 Loss: 0.466781\n",
      "Epoch 16, CIFAR-10 Batch 4:  Valid Acc: 0.6776 Step Acc: 0.873762 Loss: 0.436018\n",
      "Epoch 16, CIFAR-10 Batch 5:  Valid Acc: 0.6658 Step Acc: 0.863861 Loss: 0.470056\n",
      "Epoch 17, CIFAR-10 Batch 1:  Valid Acc: 0.6836 Step Acc: 0.845297 Loss: 0.474421\n",
      "Epoch 17, CIFAR-10 Batch 2:  Valid Acc: 0.6846 Step Acc: 0.845297 Loss: 0.501036\n",
      "Epoch 17, CIFAR-10 Batch 3:  Valid Acc: 0.6744 Step Acc: 0.847772 Loss: 0.457736\n",
      "Epoch 17, CIFAR-10 Batch 4:  Valid Acc: 0.662 Step Acc: 0.858911 Loss: 0.432389\n",
      "Epoch 17, CIFAR-10 Batch 5:  Valid Acc: 0.6746 Step Acc: 0.883663 Loss: 0.405317\n",
      "Epoch 18, CIFAR-10 Batch 1:  Valid Acc: 0.6804 Step Acc: 0.861386 Loss: 0.441805\n",
      "Epoch 18, CIFAR-10 Batch 2:  Valid Acc: 0.6962 Step Acc: 0.883663 Loss: 0.424037\n",
      "Epoch 18, CIFAR-10 Batch 3:  Valid Acc: 0.6914 Step Acc: 0.892327 Loss: 0.384086\n",
      "Epoch 18, CIFAR-10 Batch 4:  Valid Acc: 0.6888 Step Acc: 0.902228 Loss: 0.347255\n",
      "Epoch 18, CIFAR-10 Batch 5:  Valid Acc: 0.6924 Step Acc: 0.915842 Loss: 0.334623\n",
      "Epoch 19, CIFAR-10 Batch 1:  Valid Acc: 0.687 Step Acc: 0.881188 Loss: 0.385469\n",
      "Epoch 19, CIFAR-10 Batch 2:  Valid Acc: 0.6872 Step Acc: 0.889851 Loss: 0.400923\n",
      "Epoch 19, CIFAR-10 Batch 3:  Valid Acc: 0.694 Step Acc: 0.912129 Loss: 0.348833\n",
      "Epoch 19, CIFAR-10 Batch 4:  Valid Acc: 0.6922 Step Acc: 0.90594 Loss: 0.306875\n",
      "Epoch 19, CIFAR-10 Batch 5:  Valid Acc: 0.6954 Step Acc: 0.936881 Loss: 0.287708\n",
      "Epoch 20, CIFAR-10 Batch 1:  Valid Acc: 0.689 Step Acc: 0.903465 Loss: 0.350667\n",
      "Epoch 20, CIFAR-10 Batch 2:  Valid Acc: 0.6962 Step Acc: 0.915842 Loss: 0.335851\n",
      "Epoch 20, CIFAR-10 Batch 3:  Valid Acc: 0.6868 Step Acc: 0.919554 Loss: 0.339847\n",
      "Epoch 20, CIFAR-10 Batch 4:  Valid Acc: 0.688 Step Acc: 0.923267 Loss: 0.288633\n",
      "Epoch 20, CIFAR-10 Batch 5:  Valid Acc: 0.69 Step Acc: 0.945544 Loss: 0.256248\n",
      "Epoch 21, CIFAR-10 Batch 1:  Valid Acc: 0.694 Step Acc: 0.917079 Loss: 0.290625\n",
      "Epoch 21, CIFAR-10 Batch 2:  Valid Acc: 0.7002 Step Acc: 0.92203 Loss: 0.293836\n",
      "Epoch 21, CIFAR-10 Batch 3:  Valid Acc: 0.6938 Step Acc: 0.929455 Loss: 0.289459\n",
      "Epoch 21, CIFAR-10 Batch 4:  Valid Acc: 0.6918 Step Acc: 0.935643 Loss: 0.243327\n",
      "Epoch 21, CIFAR-10 Batch 5:  Valid Acc: 0.696 Step Acc: 0.960396 Loss: 0.218694\n",
      "Epoch 22, CIFAR-10 Batch 1:  Valid Acc: 0.7016 Step Acc: 0.938119 Loss: 0.253997\n",
      "Epoch 22, CIFAR-10 Batch 2:  Valid Acc: 0.6914 Step Acc: 0.930693 Loss: 0.265827\n",
      "Epoch 22, CIFAR-10 Batch 3:  Valid Acc: 0.6782 Step Acc: 0.92203 Loss: 0.298119\n",
      "Epoch 22, CIFAR-10 Batch 4:  Valid Acc: 0.6882 Step Acc: 0.938119 Loss: 0.235268\n",
      "Epoch 22, CIFAR-10 Batch 5:  Valid Acc: 0.696 Step Acc: 0.955446 Loss: 0.198147\n",
      "Epoch 23, CIFAR-10 Batch 1:  Valid Acc: 0.705 Step Acc: 0.941832 Loss: 0.227153\n",
      "Epoch 23, CIFAR-10 Batch 2:  Valid Acc: 0.685 Step Acc: 0.936881 Loss: 0.23045\n",
      "Epoch 23, CIFAR-10 Batch 3:  Valid Acc: 0.6864 Step Acc: 0.935644 Loss: 0.240326\n",
      "Epoch 23, CIFAR-10 Batch 4:  Valid Acc: 0.6808 Step Acc: 0.950495 Loss: 0.230114\n",
      "Epoch 23, CIFAR-10 Batch 5:  Valid Acc: 0.7014 Step Acc: 0.959158 Loss: 0.184873\n",
      "Epoch 24, CIFAR-10 Batch 1:  Valid Acc: 0.7034 Step Acc: 0.94802 Loss: 0.208463\n",
      "Epoch 24, CIFAR-10 Batch 2:  Valid Acc: 0.7006 Step Acc: 0.950495 Loss: 0.196601\n",
      "Epoch 24, CIFAR-10 Batch 3:  Valid Acc: 0.6904 Step Acc: 0.94802 Loss: 0.216603\n",
      "Epoch 24, CIFAR-10 Batch 4:  Valid Acc: 0.692 Step Acc: 0.961634 Loss: 0.187519\n",
      "Epoch 24, CIFAR-10 Batch 5:  Valid Acc: 0.6924 Step Acc: 0.959158 Loss: 0.169115\n",
      "Epoch 25, CIFAR-10 Batch 1:  Valid Acc: 0.704 Step Acc: 0.957921 Loss: 0.181674\n",
      "Epoch 25, CIFAR-10 Batch 2:  Valid Acc: 0.6904 Step Acc: 0.960396 Loss: 0.16545\n",
      "Epoch 25, CIFAR-10 Batch 3:  Valid Acc: 0.6962 Step Acc: 0.955445 Loss: 0.183323\n",
      "Epoch 25, CIFAR-10 Batch 4:  Valid Acc: 0.6958 Step Acc: 0.971535 Loss: 0.149967\n",
      "Epoch 25, CIFAR-10 Batch 5:  Valid Acc: 0.6972 Step Acc: 0.970297 Loss: 0.139827\n",
      "Epoch 26, CIFAR-10 Batch 1:  Valid Acc: 0.7 Step Acc: 0.965346 Loss: 0.160969\n",
      "Epoch 26, CIFAR-10 Batch 2:  Valid Acc: 0.6896 Step Acc: 0.962871 Loss: 0.162676\n",
      "Epoch 26, CIFAR-10 Batch 3:  Valid Acc: 0.6846 Step Acc: 0.962871 Loss: 0.169313\n",
      "Epoch 26, CIFAR-10 Batch 4:  Valid Acc: 0.6756 Step Acc: 0.967822 Loss: 0.164176\n",
      "Epoch 26, CIFAR-10 Batch 5:  Valid Acc: 0.6828 Step Acc: 0.971535 Loss: 0.143613\n",
      "Epoch 27, CIFAR-10 Batch 1:  Valid Acc: 0.7054 Step Acc: 0.960396 Loss: 0.14653\n",
      "Epoch 27, CIFAR-10 Batch 2:  Valid Acc: 0.7012 Step Acc: 0.975248 Loss: 0.136037\n",
      "Epoch 27, CIFAR-10 Batch 3:  Valid Acc: 0.701 Step Acc: 0.966584 Loss: 0.137843\n",
      "Epoch 27, CIFAR-10 Batch 4:  Valid Acc: 0.6826 Step Acc: 0.971535 Loss: 0.132246\n",
      "Epoch 27, CIFAR-10 Batch 5:  Valid Acc: 0.6804 Step Acc: 0.980198 Loss: 0.137618\n",
      "Epoch 28, CIFAR-10 Batch 1:  Valid Acc: 0.6964 Step Acc: 0.962871 Loss: 0.151407\n",
      "Epoch 28, CIFAR-10 Batch 2:  Valid Acc: 0.6886 Step Acc: 0.97896 Loss: 0.129684\n",
      "Epoch 28, CIFAR-10 Batch 3:  Valid Acc: 0.6846 Step Acc: 0.971535 Loss: 0.151282\n",
      "Epoch 28, CIFAR-10 Batch 4:  Valid Acc: 0.6764 Step Acc: 0.972772 Loss: 0.143872\n",
      "Epoch 28, CIFAR-10 Batch 5:  Valid Acc: 0.6836 Step Acc: 0.97896 Loss: 0.130045\n",
      "Epoch 29, CIFAR-10 Batch 1:  Valid Acc: 0.6724 Step Acc: 0.959158 Loss: 0.171079\n",
      "Epoch 29, CIFAR-10 Batch 2:  Valid Acc: 0.6968 Step Acc: 0.976485 Loss: 0.146764\n",
      "Epoch 29, CIFAR-10 Batch 3:  Valid Acc: 0.7042 Step Acc: 0.981436 Loss: 0.127277\n",
      "Epoch 29, CIFAR-10 Batch 4:  Valid Acc: 0.6972 Step Acc: 0.982673 Loss: 0.102316\n",
      "Epoch 29, CIFAR-10 Batch 5:  Valid Acc: 0.7048 Step Acc: 0.985149 Loss: 0.0842791\n",
      "Epoch 30, CIFAR-10 Batch 1:  Valid Acc: 0.6994 Step Acc: 0.980198 Loss: 0.104551\n",
      "Epoch 30, CIFAR-10 Batch 2:  Valid Acc: 0.7018 Step Acc: 0.980198 Loss: 0.0982339\n",
      "Epoch 30, CIFAR-10 Batch 3:  Valid Acc: 0.7074 Step Acc: 0.981436 Loss: 0.107898\n",
      "Epoch 30, CIFAR-10 Batch 4:  Valid Acc: 0.7042 Step Acc: 0.985149 Loss: 0.0852256\n",
      "Epoch 30, CIFAR-10 Batch 5:  Valid Acc: 0.703 Step Acc: 0.991337 Loss: 0.0770742\n",
      "Epoch 31, CIFAR-10 Batch 1:  Valid Acc: 0.6998 Step Acc: 0.987624 Loss: 0.0881505\n",
      "Epoch 31, CIFAR-10 Batch 2:  Valid Acc: 0.7134 Step Acc: 0.987624 Loss: 0.0781037\n",
      "Epoch 31, CIFAR-10 Batch 3:  Valid Acc: 0.6998 Step Acc: 0.985149 Loss: 0.081998\n",
      "Epoch 31, CIFAR-10 Batch 4:  Valid Acc: 0.6988 Step Acc: 0.988861 Loss: 0.0636057\n",
      "Epoch 31, CIFAR-10 Batch 5:  Valid Acc: 0.6984 Step Acc: 0.990099 Loss: 0.068278\n",
      "Epoch 32, CIFAR-10 Batch 1:  Valid Acc: 0.7042 Step Acc: 0.992574 Loss: 0.0672303\n",
      "Epoch 32, CIFAR-10 Batch 2:  Valid Acc: 0.7092 Step Acc: 0.990099 Loss: 0.0620465\n",
      "Epoch 32, CIFAR-10 Batch 3:  Valid Acc: 0.7094 Step Acc: 0.991337 Loss: 0.0640477\n",
      "Epoch 32, CIFAR-10 Batch 4:  Valid Acc: 0.6998 Step Acc: 0.990099 Loss: 0.060853\n",
      "Epoch 32, CIFAR-10 Batch 5:  Valid Acc: 0.699 Step Acc: 0.996287 Loss: 0.0530132\n",
      "Epoch 33, CIFAR-10 Batch 1:  Valid Acc: 0.7038 Step Acc: 0.993812 Loss: 0.0598841\n",
      "Epoch 33, CIFAR-10 Batch 2:  Valid Acc: 0.7094 Step Acc: 0.991337 Loss: 0.0521373\n",
      "Epoch 33, CIFAR-10 Batch 3:  Valid Acc: 0.7064 Step Acc: 0.991337 Loss: 0.0580985\n",
      "Epoch 33, CIFAR-10 Batch 4:  Valid Acc: 0.7054 Step Acc: 0.993812 Loss: 0.0535614\n",
      "Epoch 33, CIFAR-10 Batch 5:  Valid Acc: 0.7002 Step Acc: 0.998762 Loss: 0.0406294\n",
      "Epoch 34, CIFAR-10 Batch 1:  Valid Acc: 0.698 Step Acc: 0.992574 Loss: 0.0564927\n",
      "Epoch 34, CIFAR-10 Batch 2:  Valid Acc: 0.6896 Step Acc: 0.990099 Loss: 0.0619989\n",
      "Epoch 34, CIFAR-10 Batch 3:  Valid Acc: 0.6968 Step Acc: 0.991337 Loss: 0.0608861\n",
      "Epoch 34, CIFAR-10 Batch 4:  Valid Acc: 0.6928 Step Acc: 0.986386 Loss: 0.0559255\n",
      "Epoch 34, CIFAR-10 Batch 5:  Valid Acc: 0.7026 Step Acc: 0.996287 Loss: 0.0444475\n",
      "Epoch 35, CIFAR-10 Batch 1:  Valid Acc: 0.7076 Step Acc: 0.993812 Loss: 0.0463184\n",
      "Epoch 35, CIFAR-10 Batch 2:  Valid Acc: 0.703 Step Acc: 0.992574 Loss: 0.0461822\n",
      "Epoch 35, CIFAR-10 Batch 3:  Valid Acc: 0.7042 Step Acc: 0.993812 Loss: 0.0487715\n",
      "Epoch 35, CIFAR-10 Batch 4:  Valid Acc: 0.708 Step Acc: 0.995049 Loss: 0.0399098\n",
      "Epoch 35, CIFAR-10 Batch 5:  Valid Acc: 0.7108 Step Acc: 0.998762 Loss: 0.0383044\n",
      "Epoch 36, CIFAR-10 Batch 1:  Valid Acc: 0.714 Step Acc: 0.992574 Loss: 0.0390589\n",
      "Epoch 36, CIFAR-10 Batch 2:  Valid Acc: 0.711 Step Acc: 0.998762 Loss: 0.03968\n",
      "Epoch 36, CIFAR-10 Batch 3:  Valid Acc: 0.7112 Step Acc: 0.996287 Loss: 0.0379532\n",
      "Epoch 36, CIFAR-10 Batch 4:  Valid Acc: 0.717 Step Acc: 0.997525 Loss: 0.0338027\n",
      "Epoch 36, CIFAR-10 Batch 5:  Valid Acc: 0.7126 Step Acc: 0.996287 Loss: 0.0351839\n",
      "Epoch 37, CIFAR-10 Batch 1:  Valid Acc: 0.7056 Step Acc: 0.988861 Loss: 0.0463001\n",
      "Epoch 37, CIFAR-10 Batch 2:  Valid Acc: 0.713 Step Acc: 0.995049 Loss: 0.0339463\n",
      "Epoch 37, CIFAR-10 Batch 3:  Valid Acc: 0.7156 Step Acc: 0.998762 Loss: 0.029035\n",
      "Epoch 37, CIFAR-10 Batch 4:  Valid Acc: 0.71 Step Acc: 0.995049 Loss: 0.0315854\n",
      "Epoch 37, CIFAR-10 Batch 5:  Valid Acc: 0.7088 Step Acc: 1.0 Loss: 0.0251913\n",
      "Epoch 38, CIFAR-10 Batch 1:  Valid Acc: 0.7068 Step Acc: 0.993812 Loss: 0.0359114\n",
      "Epoch 38, CIFAR-10 Batch 2:  Valid Acc: 0.6976 Step Acc: 0.991337 Loss: 0.042494\n",
      "Epoch 38, CIFAR-10 Batch 3:  Valid Acc: 0.7024 Step Acc: 0.997525 Loss: 0.0411755\n",
      "Epoch 38, CIFAR-10 Batch 4:  Valid Acc: 0.714 Step Acc: 0.997525 Loss: 0.0259343\n",
      "Epoch 38, CIFAR-10 Batch 5:  Valid Acc: 0.7074 Step Acc: 0.996287 Loss: 0.0305743\n",
      "Epoch 39, CIFAR-10 Batch 1:  Valid Acc: 0.711 Step Acc: 0.997525 Loss: 0.0265207\n",
      "Epoch 39, CIFAR-10 Batch 2:  Valid Acc: 0.7084 Step Acc: 0.99505 Loss: 0.0365869\n",
      "Epoch 39, CIFAR-10 Batch 3:  Valid Acc: 0.7082 Step Acc: 0.998762 Loss: 0.0256822\n",
      "Epoch 39, CIFAR-10 Batch 4:  Valid Acc: 0.7134 Step Acc: 0.997525 Loss: 0.0260295\n",
      "Epoch 39, CIFAR-10 Batch 5:  Valid Acc: 0.7146 Step Acc: 0.998762 Loss: 0.0171596\n",
      "Epoch 40, CIFAR-10 Batch 1:  Valid Acc: 0.7146 Step Acc: 0.995049 Loss: 0.0252613\n",
      "Epoch 40, CIFAR-10 Batch 2:  Valid Acc: 0.7232 Step Acc: 0.997525 Loss: 0.0217364\n",
      "Epoch 40, CIFAR-10 Batch 3:  Valid Acc: 0.7024 Step Acc: 0.997525 Loss: 0.0240869\n",
      "Epoch 40, CIFAR-10 Batch 4:  Valid Acc: 0.7126 Step Acc: 0.997525 Loss: 0.0205887\n",
      "Epoch 40, CIFAR-10 Batch 5:  Valid Acc: 0.7054 Step Acc: 1.0 Loss: 0.0185507\n",
      "Epoch 41, CIFAR-10 Batch 1:  Valid Acc: 0.7154 Step Acc: 1.0 Loss: 0.0167061\n",
      "Epoch 41, CIFAR-10 Batch 2:  Valid Acc: 0.713 Step Acc: 0.996287 Loss: 0.0213514\n",
      "Epoch 41, CIFAR-10 Batch 3:  Valid Acc: 0.7098 Step Acc: 1.0 Loss: 0.0139866\n",
      "Epoch 41, CIFAR-10 Batch 4:  Valid Acc: 0.719 Step Acc: 1.0 Loss: 0.013605\n",
      "Epoch 41, CIFAR-10 Batch 5:  Valid Acc: 0.7102 Step Acc: 1.0 Loss: 0.0148596\n",
      "Epoch 42, CIFAR-10 Batch 1:  Valid Acc: 0.713 Step Acc: 0.998762 Loss: 0.0180587\n",
      "Epoch 42, CIFAR-10 Batch 2:  Valid Acc: 0.7194 Step Acc: 0.998762 Loss: 0.0168025\n",
      "Epoch 42, CIFAR-10 Batch 3:  Valid Acc: 0.7142 Step Acc: 1.0 Loss: 0.0106687\n",
      "Epoch 42, CIFAR-10 Batch 4:  Valid Acc: 0.7176 Step Acc: 1.0 Loss: 0.0108768\n",
      "Epoch 42, CIFAR-10 Batch 5:  Valid Acc: 0.7146 Step Acc: 1.0 Loss: 0.0120785\n",
      "Epoch 43, CIFAR-10 Batch 1:  Valid Acc: 0.7152 Step Acc: 1.0 Loss: 0.012584\n",
      "Epoch 43, CIFAR-10 Batch 2:  Valid Acc: 0.7222 Step Acc: 0.998762 Loss: 0.0131636\n",
      "Epoch 43, CIFAR-10 Batch 3:  Valid Acc: 0.7208 Step Acc: 0.998762 Loss: 0.0118551\n",
      "Epoch 43, CIFAR-10 Batch 4:  Valid Acc: 0.7178 Step Acc: 1.0 Loss: 0.0113786\n",
      "Epoch 43, CIFAR-10 Batch 5:  Valid Acc: 0.7132 Step Acc: 0.998762 Loss: 0.0132421\n",
      "Epoch 44, CIFAR-10 Batch 1:  Valid Acc: 0.7142 Step Acc: 0.997525 Loss: 0.012703\n",
      "Epoch 44, CIFAR-10 Batch 2:  Valid Acc: 0.712 Step Acc: 0.998762 Loss: 0.014509\n",
      "Epoch 44, CIFAR-10 Batch 3:  Valid Acc: 0.7212 Step Acc: 1.0 Loss: 0.00853933\n",
      "Epoch 44, CIFAR-10 Batch 4:  Valid Acc: 0.7192 Step Acc: 1.0 Loss: 0.00922786\n",
      "Epoch 44, CIFAR-10 Batch 5:  Valid Acc: 0.7178 Step Acc: 1.0 Loss: 0.00862054\n",
      "Epoch 45, CIFAR-10 Batch 1:  Valid Acc: 0.7092 Step Acc: 1.0 Loss: 0.011741\n",
      "Epoch 45, CIFAR-10 Batch 2:  Valid Acc: 0.7134 Step Acc: 0.998762 Loss: 0.0114784\n",
      "Epoch 45, CIFAR-10 Batch 3:  Valid Acc: 0.715 Step Acc: 1.0 Loss: 0.00980031\n",
      "Epoch 45, CIFAR-10 Batch 4:  Valid Acc: 0.7136 Step Acc: 1.0 Loss: 0.00903752\n",
      "Epoch 45, CIFAR-10 Batch 5:  Valid Acc: 0.716 Step Acc: 1.0 Loss: 0.00651828\n",
      "Epoch 46, CIFAR-10 Batch 1:  Valid Acc: 0.7062 Step Acc: 1.0 Loss: 0.0105801\n",
      "Epoch 46, CIFAR-10 Batch 2:  Valid Acc: 0.7162 Step Acc: 1.0 Loss: 0.00921217\n",
      "Epoch 46, CIFAR-10 Batch 3:  Valid Acc: 0.7036 Step Acc: 1.0 Loss: 0.0129406\n",
      "Epoch 46, CIFAR-10 Batch 4:  Valid Acc: 0.7148 Step Acc: 1.0 Loss: 0.00739537\n",
      "Epoch 46, CIFAR-10 Batch 5:  Valid Acc: 0.7184 Step Acc: 1.0 Loss: 0.00681883\n",
      "Epoch 47, CIFAR-10 Batch 1:  Valid Acc: 0.7138 Step Acc: 1.0 Loss: 0.00782105\n",
      "Epoch 47, CIFAR-10 Batch 2:  Valid Acc: 0.7212 Step Acc: 0.998762 Loss: 0.00823041\n",
      "Epoch 47, CIFAR-10 Batch 3:  Valid Acc: 0.7176 Step Acc: 1.0 Loss: 0.00741692\n",
      "Epoch 47, CIFAR-10 Batch 4:  Valid Acc: 0.7088 Step Acc: 1.0 Loss: 0.00662394\n",
      "Epoch 47, CIFAR-10 Batch 5:  Valid Acc: 0.7236 Step Acc: 1.0 Loss: 0.00684054\n",
      "Epoch 48, CIFAR-10 Batch 1:  Valid Acc: 0.7134 Step Acc: 1.0 Loss: 0.00764477\n",
      "Epoch 48, CIFAR-10 Batch 2:  Valid Acc: 0.716 Step Acc: 0.998762 Loss: 0.0079318\n",
      "Epoch 48, CIFAR-10 Batch 3:  Valid Acc: 0.718 Step Acc: 1.0 Loss: 0.00611456\n",
      "Epoch 48, CIFAR-10 Batch 4:  Valid Acc: 0.7128 Step Acc: 1.0 Loss: 0.006564\n",
      "Epoch 48, CIFAR-10 Batch 5:  Valid Acc: 0.7162 Step Acc: 1.0 Loss: 0.00635482\n",
      "Epoch 49, CIFAR-10 Batch 1:  Valid Acc: 0.7002 Step Acc: 0.997525 Loss: 0.012099\n",
      "Epoch 49, CIFAR-10 Batch 2:  Valid Acc: 0.7236 Step Acc: 0.998762 Loss: 0.00728185\n",
      "Epoch 49, CIFAR-10 Batch 3:  Valid Acc: 0.721 Step Acc: 1.0 Loss: 0.00508986\n",
      "Epoch 49, CIFAR-10 Batch 4:  Valid Acc: 0.7212 Step Acc: 1.0 Loss: 0.00434106\n",
      "Epoch 49, CIFAR-10 Batch 5:  Valid Acc: 0.724 Step Acc: 1.0 Loss: 0.00552337\n",
      "Epoch 50, CIFAR-10 Batch 1:  Valid Acc: 0.7096 Step Acc: 1.0 Loss: 0.00821788\n",
      "Epoch 50, CIFAR-10 Batch 2:  Valid Acc: 0.713 Step Acc: 0.997525 Loss: 0.010234\n",
      "Epoch 50, CIFAR-10 Batch 3:  Valid Acc: 0.7172 Step Acc: 1.0 Loss: 0.00527631\n",
      "Epoch 50, CIFAR-10 Batch 4:  Valid Acc: 0.7118 Step Acc: 1.0 Loss: 0.00575817\n",
      "Epoch 50, CIFAR-10 Batch 5:  Valid Acc: 0.7182 Step Acc: 1.0 Loss: 0.00489591\n",
      "Epoch 51, CIFAR-10 Batch 1:  Valid Acc: 0.7108 Step Acc: 1.0 Loss: 0.0054435\n",
      "Epoch 51, CIFAR-10 Batch 2:  Valid Acc: 0.7152 Step Acc: 0.998762 Loss: 0.0066671\n",
      "Epoch 51, CIFAR-10 Batch 3:  Valid Acc: 0.7166 Step Acc: 1.0 Loss: 0.0062367\n",
      "Epoch 51, CIFAR-10 Batch 4:  Valid Acc: 0.716 Step Acc: 1.0 Loss: 0.00468364\n",
      "Epoch 51, CIFAR-10 Batch 5:  Valid Acc: 0.7166 Step Acc: 1.0 Loss: 0.00381126\n",
      "Epoch 52, CIFAR-10 Batch 1:  Valid Acc: 0.7176 Step Acc: 1.0 Loss: 0.00504394\n",
      "Epoch 52, CIFAR-10 Batch 2:  Valid Acc: 0.711 Step Acc: 0.998762 Loss: 0.00587098\n",
      "Epoch 52, CIFAR-10 Batch 3:  Valid Acc: 0.714 Step Acc: 1.0 Loss: 0.00524092\n",
      "Epoch 52, CIFAR-10 Batch 4:  Valid Acc: 0.7172 Step Acc: 1.0 Loss: 0.00337105\n",
      "Epoch 52, CIFAR-10 Batch 5:  Valid Acc: 0.709 Step Acc: 1.0 Loss: 0.00380451\n",
      "Epoch 53, CIFAR-10 Batch 1:  Valid Acc: 0.7178 Step Acc: 1.0 Loss: 0.00468005\n",
      "Epoch 53, CIFAR-10 Batch 2:  Valid Acc: 0.7206 Step Acc: 0.998762 Loss: 0.0044399\n",
      "Epoch 53, CIFAR-10 Batch 3:  Valid Acc: 0.7118 Step Acc: 1.0 Loss: 0.00554773\n",
      "Epoch 53, CIFAR-10 Batch 4:  Valid Acc: 0.7214 Step Acc: 1.0 Loss: 0.00297365\n",
      "Epoch 53, CIFAR-10 Batch 5:  Valid Acc: 0.7202 Step Acc: 1.0 Loss: 0.00273335\n",
      "Epoch 54, CIFAR-10 Batch 1:  Valid Acc: 0.7148 Step Acc: 1.0 Loss: 0.00362519\n",
      "Epoch 54, CIFAR-10 Batch 2:  Valid Acc: 0.7128 Step Acc: 1.0 Loss: 0.00416495\n",
      "Epoch 54, CIFAR-10 Batch 3:  Valid Acc: 0.7168 Step Acc: 1.0 Loss: 0.00407891\n",
      "Epoch 54, CIFAR-10 Batch 4:  Valid Acc: 0.7204 Step Acc: 1.0 Loss: 0.00333333\n",
      "Epoch 54, CIFAR-10 Batch 5:  Valid Acc: 0.7202 Step Acc: 1.0 Loss: 0.00291506\n",
      "Epoch 55, CIFAR-10 Batch 1:  Valid Acc: 0.7244 Step Acc: 1.0 Loss: 0.00279801\n",
      "Epoch 55, CIFAR-10 Batch 2:  Valid Acc: 0.719 Step Acc: 0.998762 Loss: 0.00483228\n",
      "Epoch 55, CIFAR-10 Batch 3:  Valid Acc: 0.716 Step Acc: 1.0 Loss: 0.00434737\n",
      "Epoch 55, CIFAR-10 Batch 4:  Valid Acc: 0.7164 Step Acc: 1.0 Loss: 0.00384912\n",
      "Epoch 55, CIFAR-10 Batch 5:  Valid Acc: 0.7138 Step Acc: 1.0 Loss: 0.00308009\n",
      "Epoch 56, CIFAR-10 Batch 1:  Valid Acc: 0.7198 Step Acc: 1.0 Loss: 0.00288339\n",
      "Epoch 56, CIFAR-10 Batch 2:  Valid Acc: 0.7166 Step Acc: 1.0 Loss: 0.00274925\n",
      "Epoch 56, CIFAR-10 Batch 3:  Valid Acc: 0.7128 Step Acc: 1.0 Loss: 0.00446063\n",
      "Epoch 56, CIFAR-10 Batch 4:  Valid Acc: 0.7152 Step Acc: 1.0 Loss: 0.00254952\n",
      "Epoch 56, CIFAR-10 Batch 5:  Valid Acc: 0.7142 Step Acc: 1.0 Loss: 0.00247316\n",
      "Epoch 57, CIFAR-10 Batch 1:  Valid Acc: 0.7202 Step Acc: 1.0 Loss: 0.00271711\n",
      "Epoch 57, CIFAR-10 Batch 2:  Valid Acc: 0.7134 Step Acc: 1.0 Loss: 0.00278954\n",
      "Epoch 57, CIFAR-10 Batch 3:  Valid Acc: 0.7144 Step Acc: 1.0 Loss: 0.00216142\n",
      "Epoch 57, CIFAR-10 Batch 4:  Valid Acc: 0.7224 Step Acc: 1.0 Loss: 0.00292353\n",
      "Epoch 57, CIFAR-10 Batch 5:  Valid Acc: 0.7144 Step Acc: 1.0 Loss: 0.00231546\n",
      "Epoch 58, CIFAR-10 Batch 1:  Valid Acc: 0.7202 Step Acc: 1.0 Loss: 0.00248487\n",
      "Epoch 58, CIFAR-10 Batch 2:  Valid Acc: 0.7198 Step Acc: 1.0 Loss: 0.00184993\n",
      "Epoch 58, CIFAR-10 Batch 3:  Valid Acc: 0.7204 Step Acc: 1.0 Loss: 0.00233551\n",
      "Epoch 58, CIFAR-10 Batch 4:  Valid Acc: 0.7176 Step Acc: 1.0 Loss: 0.00161976\n",
      "Epoch 58, CIFAR-10 Batch 5:  Valid Acc: 0.7148 Step Acc: 1.0 Loss: 0.00238363\n",
      "Epoch 59, CIFAR-10 Batch 1:  Valid Acc: 0.722 Step Acc: 1.0 Loss: 0.00223132\n",
      "Epoch 59, CIFAR-10 Batch 2:  Valid Acc: 0.7232 Step Acc: 1.0 Loss: 0.0024872\n",
      "Epoch 59, CIFAR-10 Batch 3:  Valid Acc: 0.7184 Step Acc: 1.0 Loss: 0.0029516\n",
      "Epoch 59, CIFAR-10 Batch 4:  Valid Acc: 0.7202 Step Acc: 1.0 Loss: 0.00167297\n",
      "Epoch 59, CIFAR-10 Batch 5:  Valid Acc: 0.7172 Step Acc: 1.0 Loss: 0.00259559\n",
      "Epoch 60, CIFAR-10 Batch 1:  Valid Acc: 0.7216 Step Acc: 1.0 Loss: 0.00236553\n",
      "Epoch 60, CIFAR-10 Batch 2:  Valid Acc: 0.7176 Step Acc: 0.998762 Loss: 0.00266989\n",
      "Epoch 60, CIFAR-10 Batch 3:  Valid Acc: 0.7158 Step Acc: 1.0 Loss: 0.0022532\n",
      "Epoch 60, CIFAR-10 Batch 4:  Valid Acc: 0.7186 Step Acc: 1.0 Loss: 0.00151421\n",
      "Epoch 60, CIFAR-10 Batch 5:  Valid Acc: 0.7232 Step Acc: 1.0 Loss: 0.0019317\n",
      "Epoch 61, CIFAR-10 Batch 1:  Valid Acc: 0.717 Step Acc: 1.0 Loss: 0.00209061\n",
      "Epoch 61, CIFAR-10 Batch 2:  Valid Acc: 0.7188 Step Acc: 1.0 Loss: 0.00218748\n",
      "Epoch 61, CIFAR-10 Batch 3:  Valid Acc: 0.7184 Step Acc: 1.0 Loss: 0.00193986\n",
      "Epoch 61, CIFAR-10 Batch 4:  Valid Acc: 0.7118 Step Acc: 1.0 Loss: 0.00175926\n",
      "Epoch 61, CIFAR-10 Batch 5:  Valid Acc: 0.7088 Step Acc: 0.998762 Loss: 0.00457801\n",
      "Epoch 62, CIFAR-10 Batch 1:  Valid Acc: 0.7202 Step Acc: 1.0 Loss: 0.00183666\n",
      "Epoch 62, CIFAR-10 Batch 2:  Valid Acc: 0.72 Step Acc: 1.0 Loss: 0.00235159\n",
      "Epoch 62, CIFAR-10 Batch 3:  Valid Acc: 0.712 Step Acc: 1.0 Loss: 0.00234557\n",
      "Epoch 62, CIFAR-10 Batch 4:  Valid Acc: 0.7142 Step Acc: 1.0 Loss: 0.00205383\n",
      "Epoch 62, CIFAR-10 Batch 5:  Valid Acc: 0.713 Step Acc: 1.0 Loss: 0.00242152\n",
      "Epoch 63, CIFAR-10 Batch 1:  Valid Acc: 0.7184 Step Acc: 1.0 Loss: 0.00221034\n",
      "Epoch 63, CIFAR-10 Batch 2:  Valid Acc: 0.7196 Step Acc: 1.0 Loss: 0.00196402\n",
      "Epoch 63, CIFAR-10 Batch 3:  Valid Acc: 0.7154 Step Acc: 1.0 Loss: 0.00187551\n",
      "Epoch 63, CIFAR-10 Batch 4:  Valid Acc: 0.7024 Step Acc: 1.0 Loss: 0.0029952\n",
      "Epoch 63, CIFAR-10 Batch 5:  Valid Acc: 0.7116 Step Acc: 1.0 Loss: 0.00331604\n",
      "Epoch 64, CIFAR-10 Batch 1:  Valid Acc: 0.716 Step Acc: 1.0 Loss: 0.0023834\n",
      "Epoch 64, CIFAR-10 Batch 2:  Valid Acc: 0.7238 Step Acc: 0.998762 Loss: 0.00400583\n",
      "Epoch 64, CIFAR-10 Batch 3:  Valid Acc: 0.7154 Step Acc: 1.0 Loss: 0.00224641\n",
      "Epoch 64, CIFAR-10 Batch 4:  Valid Acc: 0.7198 Step Acc: 1.0 Loss: 0.00122167\n",
      "Epoch 64, CIFAR-10 Batch 5:  Valid Acc: 0.7154 Step Acc: 1.0 Loss: 0.00142476\n",
      "Epoch 65, CIFAR-10 Batch 1:  Valid Acc: 0.717 Step Acc: 1.0 Loss: 0.00211648\n",
      "Epoch 65, CIFAR-10 Batch 2:  Valid Acc: 0.7224 Step Acc: 1.0 Loss: 0.00244659\n",
      "Epoch 65, CIFAR-10 Batch 3:  Valid Acc: 0.715 Step Acc: 1.0 Loss: 0.00200552\n",
      "Epoch 65, CIFAR-10 Batch 4:  Valid Acc: 0.719 Step Acc: 1.0 Loss: 0.00108117\n",
      "Epoch 65, CIFAR-10 Batch 5:  Valid Acc: 0.7164 Step Acc: 1.0 Loss: 0.00184959\n",
      "Epoch 66, CIFAR-10 Batch 1:  Valid Acc: 0.719 Step Acc: 1.0 Loss: 0.00134775\n",
      "Epoch 66, CIFAR-10 Batch 2:  Valid Acc: 0.7172 Step Acc: 1.0 Loss: 0.00238436\n",
      "Epoch 66, CIFAR-10 Batch 3:  Valid Acc: 0.722 Step Acc: 1.0 Loss: 0.00140796\n",
      "Epoch 66, CIFAR-10 Batch 4:  Valid Acc: 0.7204 Step Acc: 1.0 Loss: 0.00113861\n",
      "Epoch 66, CIFAR-10 Batch 5:  Valid Acc: 0.7148 Step Acc: 1.0 Loss: 0.00167957\n",
      "Epoch 67, CIFAR-10 Batch 1:  Valid Acc: 0.717 Step Acc: 1.0 Loss: 0.00156661\n",
      "Epoch 67, CIFAR-10 Batch 2:  Valid Acc: 0.72 Step Acc: 1.0 Loss: 0.00258397\n",
      "Epoch 67, CIFAR-10 Batch 3:  Valid Acc: 0.7208 Step Acc: 1.0 Loss: 0.00162274\n",
      "Epoch 67, CIFAR-10 Batch 4:  Valid Acc: 0.7124 Step Acc: 1.0 Loss: 0.00122606\n",
      "Epoch 67, CIFAR-10 Batch 5:  Valid Acc: 0.7172 Step Acc: 1.0 Loss: 0.00113706\n",
      "Epoch 68, CIFAR-10 Batch 1:  Valid Acc: 0.7164 Step Acc: 1.0 Loss: 0.00123358\n",
      "Epoch 68, CIFAR-10 Batch 2:  Valid Acc: 0.7182 Step Acc: 1.0 Loss: 0.0025569\n",
      "Epoch 68, CIFAR-10 Batch 3:  Valid Acc: 0.7198 Step Acc: 1.0 Loss: 0.00119239\n",
      "Epoch 68, CIFAR-10 Batch 4:  Valid Acc: 0.7154 Step Acc: 1.0 Loss: 0.00112627\n",
      "Epoch 68, CIFAR-10 Batch 5:  Valid Acc: 0.717 Step Acc: 1.0 Loss: 0.00127518\n",
      "Epoch 69, CIFAR-10 Batch 1:  Valid Acc: 0.7176 Step Acc: 1.0 Loss: 0.00149037\n",
      "Epoch 69, CIFAR-10 Batch 2:  Valid Acc: 0.7162 Step Acc: 0.998762 Loss: 0.00294159\n",
      "Epoch 69, CIFAR-10 Batch 3:  Valid Acc: 0.7182 Step Acc: 1.0 Loss: 0.00176204\n",
      "Epoch 69, CIFAR-10 Batch 4:  Valid Acc: 0.7148 Step Acc: 1.0 Loss: 0.000825919\n",
      "Epoch 69, CIFAR-10 Batch 5:  Valid Acc: 0.7194 Step Acc: 1.0 Loss: 0.00111525\n",
      "Epoch 70, CIFAR-10 Batch 1:  Valid Acc: 0.719 Step Acc: 1.0 Loss: 0.00153558\n",
      "Epoch 70, CIFAR-10 Batch 2:  Valid Acc: 0.7202 Step Acc: 1.0 Loss: 0.00187512\n",
      "Epoch 70, CIFAR-10 Batch 3:  Valid Acc: 0.7152 Step Acc: 1.0 Loss: 0.00263432\n",
      "Epoch 70, CIFAR-10 Batch 4:  Valid Acc: 0.7134 Step Acc: 1.0 Loss: 0.00175487\n",
      "Epoch 70, CIFAR-10 Batch 5:  Valid Acc: 0.7202 Step Acc: 1.0 Loss: 0.00108781\n"
     ]
    }
   ],
   "source": [
    "\"\"\"\n",
    "DON'T MODIFY ANYTHING IN THIS CELL\n",
    "\"\"\"\n",
    "save_model_path = './image_classification'\n",
    "\n",
    "print('Training...')\n",
    "with tf.Session() as sess:\n",
    "    # Initializing the variables\n",
    "    sess.run(tf.global_variables_initializer())\n",
    "    \n",
    "    # Training cycle\n",
    "    for epoch in range(epochs):\n",
    "        # Loop over all batches\n",
    "        n_batches = 5\n",
    "        for batch_i in range(1, n_batches + 1):\n",
    "            for batch_features, batch_labels in helper.load_preprocess_training_batch(batch_i, batch_size):\n",
    "                train_neural_network(sess, optimizer, keep_probability, batch_features, batch_labels)\n",
    "            print('Epoch {:>2}, CIFAR-10 Batch {}:  '.format(epoch + 1, batch_i), end='')\n",
    "            print_stats(sess, batch_features, batch_labels, cost, accuracy)\n",
    "            \n",
    "    # Save Model\n",
    "    saver = tf.train.Saver()\n",
    "    save_path = saver.save(sess, save_model_path)"
   ]
  },
  {
   "cell_type": "markdown",
   "metadata": {},
   "source": [
    "# Checkpoint\n",
    "The model has been saved to disk.\n",
    "## Test Model\n",
    "Test your model against the test dataset.  This will be your final accuracy. You should have an accuracy greater than 50%. If you don't, keep tweaking the model architecture and parameters."
   ]
  },
  {
   "cell_type": "code",
   "execution_count": 20,
   "metadata": {
    "collapsed": false
   },
   "outputs": [
    {
     "name": "stdout",
     "output_type": "stream",
     "text": [
      "Testing Accuracy: 0.7116031587123871\n",
      "\n"
     ]
    },
    {
     "data": {
      "image/png": "[encoded data removed]",
      "text/plain": [
       "<matplotlib.figure.Figure at 0x20d92bfc390>"
      ]
     },
     "metadata": {
      "image/png": {
       "height": 319,
       "width": 355
      }
     },
     "output_type": "display_data"
    }
   ],
   "source": [
    "\"\"\"\n",
    "DON'T MODIFY ANYTHING IN THIS CELL\n",
    "\"\"\"\n",
    "%matplotlib inline\n",
    "%config InlineBackend.figure_format = 'retina'\n",
    "\n",
    "import tensorflow as tf\n",
    "import pickle\n",
    "import helper\n",
    "import random\n",
    "\n",
    "# Set batch size if not already set\n",
    "try:\n",
    "    if batch_size:\n",
    "        pass\n",
    "except NameError:\n",
    "    batch_size = 64\n",
    "\n",
    "save_model_path = './image_classification'\n",
    "n_samples = 4\n",
    "top_n_predictions = 3\n",
    "\n",
    "def test_model():\n",
    "    \"\"\"\n",
    "    Test the saved model against the test dataset\n",
    "    \"\"\"\n",
    "\n",
    "    test_features, test_labels = pickle.load(open('preprocess_training.p', mode='rb'))\n",
    "    loaded_graph = tf.Graph()\n",
    "\n",
    "    with tf.Session(graph=loaded_graph) as sess:\n",
    "        # Load model\n",
    "        loader = tf.train.import_meta_graph(save_model_path + '.meta')\n",
    "        loader.restore(sess, save_model_path)\n",
    "\n",
    "        # Get Tensors from loaded model\n",
    "        loaded_x = loaded_graph.get_tensor_by_name('x:0')\n",
    "        loaded_y = loaded_graph.get_tensor_by_name('y:0')\n",
    "        loaded_keep_prob = loaded_graph.get_tensor_by_name('keep_prob:0')\n",
    "        loaded_logits = loaded_graph.get_tensor_by_name('logits:0')\n",
    "        loaded_acc = loaded_graph.get_tensor_by_name('accuracy:0')\n",
    "        \n",
    "        # Get accuracy in batches for memory limitations\n",
    "        test_batch_acc_total = 0\n",
    "        test_batch_count = 0\n",
    "        \n",
    "        for train_feature_batch, train_label_batch in helper.batch_features_labels(test_features, test_labels, batch_size):\n",
    "            test_batch_acc_total += sess.run(\n",
    "                loaded_acc,\n",
    "                feed_dict={loaded_x: train_feature_batch, loaded_y: train_label_batch, loaded_keep_prob: 1.0})\n",
    "            test_batch_count += 1\n",
    "\n",
    "        print('Testing Accuracy: {}\\n'.format(test_batch_acc_total/test_batch_count))\n",
    "\n",
    "        # Print Random Samples\n",
    "        random_test_features, random_test_labels = tuple(zip(*random.sample(list(zip(test_features, test_labels)), n_samples)))\n",
    "        random_test_predictions = sess.run(\n",
    "            tf.nn.top_k(tf.nn.softmax(loaded_logits), top_n_predictions),\n",
    "            feed_dict={loaded_x: random_test_features, loaded_y: random_test_labels, loaded_keep_prob: 1.0})\n",
    "        helper.display_image_predictions(random_test_features, random_test_labels, random_test_predictions)\n",
    "\n",
    "\n",
    "test_model()"
   ]
  },
  {
   "cell_type": "markdown",
   "metadata": {},
   "source": [
    "## Why 50-70% Accuracy?\n",
    "You might be wondering why you can't get an accuracy any higher. First things first, 50% isn't bad for a simple CNN.  Pure guessing would get you 10% accuracy. However, you might notice people are getting scores [well above 70%](http://rodrigob.github.io/are_we_there_yet/build/classification_datasets_results.html#43494641522d3130).  That's because we haven't taught you all there is to know about neural networks. We still need to cover a few more techniques.\n",
    "## Submitting This Project\n",
    "When submitting this project, make sure to run all the cells before saving the notebook.  Save the notebook file as \"dlnd_image_classification.ipynb\" and save it as a HTML file under \"File\" -> \"Download as\".  Include the \"helper.py\" and \"problem_unittests.py\" files in your submission."
   ]
  }
 ],
 "metadata": {
  "kernelspec": {
   "display_name": "Python 3",
   "language": "python",
   "name": "python3"
  },
  "language_info": {
   "codemirror_mode": {
    "name": "ipython",
    "version": 3
   },
   "file_extension": ".py",
   "mimetype": "text/x-python",
   "name": "python",
   "nbconvert_exporter": "python",
   "pygments_lexer": "ipython3",
   "version": "3.5.2"
  }
 },
 "nbformat": 4,
 "nbformat_minor": 0
}
